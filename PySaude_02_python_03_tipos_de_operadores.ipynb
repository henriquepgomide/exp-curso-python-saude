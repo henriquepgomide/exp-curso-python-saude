{
 "cells": [
  {
   "cell_type": "markdown",
   "metadata": {
    "colab_type": "text",
    "id": "view-in-github"
   },
   "source": [
    "<a href=\"https://colab.research.google.com/github/henriquepgomide/exp-curso-python-saude/blob/master/PySaude_02_python_03_tipos_de_operadores.ipynb\" target=\"_parent\"><img src=\"https://colab.research.google.com/assets/colab-badge.svg\" alt=\"Open In Colab\"/></a>"
   ]
  },
  {
   "cell_type": "markdown",
   "metadata": {
    "colab_type": "text",
    "id": "lMl8EffloWdW"
   },
   "source": [
    "<img src=\"https://raw.githubusercontent.com/henriquepgomide/exp-curso-python-saude/master/assets/pucrs-logo.svg\" width=\"300\" align=\"center\">\n",
    "\n",
    "# **DATA SCIENCE: INOVAÇÃO NO USO DOS DADOS NA SAÚDE**\n",
    "# Introdução às ferramentas usadas em ciência de dados"
   ]
  },
  {
   "cell_type": "markdown",
   "metadata": {
    "colab_type": "text",
    "id": "V7stzoGNGD7B"
   },
   "source": [
    "Operadores \n",
    "==="
   ]
  },
  {
   "cell_type": "markdown",
   "metadata": {
    "colab_type": "text",
    "id": "yG0GGZoYGNE4"
   },
   "source": [
    "Aqui, você vai aprender sobre os diversos tipos de operadores em Python e como usá-los."
   ]
  },
  {
   "cell_type": "markdown",
   "metadata": {
    "colab_type": "text",
    "id": "_1K-9jikvNY4"
   },
   "source": [
    "## Operadores Matemáticos\n",
    "\n",
    "Em Python, podemos acessar funções de calculadora através dos **operadores matemáticos**. \n",
    "\n",
    "É igual à matemática da escola. Por exemplo, em caso de uma expressão numérica, multiplicação e divisão têm prioridade sobre adição e subtração, e operações entre parênteses têm prioridade sobre o resto da expressão.\n",
    "\n",
    "Na tabela abaixo, você confere a relação entre as operações e os operadores.\n",
    "\n",
    "Operador | Operação\n",
    "--- | ---\n",
    "+ | Adição\n",
    "- | Subtração\n",
    "* | Multiplicação\n",
    "/ | Divisão\n",
    "// | Divisão Inteira\n",
    "** | Exponencial \n",
    "% | Módulo\n",
    "\n"
   ]
  },
  {
   "cell_type": "markdown",
   "metadata": {
    "colab_type": "text",
    "id": "EsK4LU_HxeKm"
   },
   "source": [
    "### Exemplos"
   ]
  },
  {
   "cell_type": "code",
   "execution_count": null,
   "metadata": {
    "colab": {
     "base_uri": "https://localhost:8080/",
     "height": 34
    },
    "colab_type": "code",
    "id": "5B5wEQLZxu1J",
    "outputId": "a5c60e33-69d4-483c-c797-f51043f5eb68"
   },
   "outputs": [
    {
     "data": {
      "text/plain": [
       "15"
      ]
     },
     "execution_count": 3,
     "metadata": {
      "tags": []
     },
     "output_type": "execute_result"
    }
   ],
   "source": [
    "# Soma\n",
    "5 + 10 "
   ]
  },
  {
   "cell_type": "code",
   "execution_count": null,
   "metadata": {
    "colab": {
     "base_uri": "https://localhost:8080/",
     "height": 34
    },
    "colab_type": "code",
    "id": "ZODNM4vlyzhv",
    "outputId": "521dc48a-29cd-45e5-8e7d-b9be557caf93"
   },
   "outputs": [
    {
     "data": {
      "text/plain": [
       "26"
      ]
     },
     "execution_count": 1,
     "metadata": {
      "tags": []
     },
     "output_type": "execute_result"
    }
   ],
   "source": [
    "# Prioridades das operações entre parênteses - Precedência de operadores\n",
    "2 * (10 + 3)"
   ]
  },
  {
   "cell_type": "code",
   "execution_count": null,
   "metadata": {
    "colab": {
     "base_uri": "https://localhost:8080/",
     "height": 34
    },
    "colab_type": "code",
    "id": "8JbJpIu2yZts",
    "outputId": "165896aa-9ceb-43db-e006-4cef28f98417"
   },
   "outputs": [
    {
     "data": {
      "text/plain": [
       "6.666666666666667"
      ]
     },
     "execution_count": 5,
     "metadata": {
      "tags": []
     },
     "output_type": "execute_result"
    }
   ],
   "source": [
    "20.0 / 3  # Divisão"
   ]
  },
  {
   "cell_type": "code",
   "execution_count": null,
   "metadata": {
    "colab": {
     "base_uri": "https://localhost:8080/",
     "height": 34
    },
    "colab_type": "code",
    "id": "JWsGCKBYynpN",
    "outputId": "4a72fa5a-a447-4e1f-c174-1ff5ec3d40e7"
   },
   "outputs": [
    {
     "data": {
      "text/plain": [
       "6.0"
      ]
     },
     "execution_count": 6,
     "metadata": {
      "tags": []
     },
     "output_type": "execute_result"
    }
   ],
   "source": [
    "20.0 // 3  # Divisão exata"
   ]
  },
  {
   "cell_type": "code",
   "execution_count": null,
   "metadata": {
    "colab": {
     "base_uri": "https://localhost:8080/",
     "height": 34
    },
    "colab_type": "code",
    "id": "eC959jzvyxgg",
    "outputId": "4fe31737-60e1-432e-d9f1-ce1ceffcbf0f"
   },
   "outputs": [
    {
     "data": {
      "text/plain": [
       "16"
      ]
     },
     "execution_count": 8,
     "metadata": {
      "tags": []
     },
     "output_type": "execute_result"
    }
   ],
   "source": [
    "4 ** 2  # Exponencial"
   ]
  },
  {
   "cell_type": "code",
   "execution_count": null,
   "metadata": {
    "colab": {
     "base_uri": "https://localhost:8080/",
     "height": 34
    },
    "colab_type": "code",
    "id": "OuLKFnbrtogR",
    "outputId": "2d2c57e5-a58e-4284-da26-d53c1e309aed"
   },
   "outputs": [
    {
     "data": {
      "text/plain": [
       "1"
      ]
     },
     "execution_count": 1,
     "metadata": {
      "tags": []
     },
     "output_type": "execute_result"
    }
   ],
   "source": [
    "10 % 3  # O operador de módulo retorna o resto da divisão."
   ]
  },
  {
   "cell_type": "markdown",
   "metadata": {
    "colab_type": "text",
    "id": "La9igvBL3EG8"
   },
   "source": [
    "### Exercício 1\n",
    "\n",
    "Quantas horas inteiras existem em 215 minutos?\n"
   ]
  },
  {
   "cell_type": "code",
   "execution_count": null,
   "metadata": {
    "colab": {},
    "colab_type": "code",
    "id": "t8VPR-GU3I1_"
   },
   "outputs": [],
   "source": [
    " "
   ]
  },
  {
   "cell_type": "markdown",
   "metadata": {
    "colab_type": "text",
    "id": "uSrt-xUcj5ZQ"
   },
   "source": [
    "**Clique aqui para a resposta.**\n",
    "\n",
    "<!--\n",
    "215 // 60\n",
    "-->"
   ]
  },
  {
   "cell_type": "markdown",
   "metadata": {
    "colab_type": "text",
    "id": "jsOEXd1N03tt"
   },
   "source": [
    "## Boolean\n",
    "\n",
    "Uma variável do tipo **Boolean**, ou lógica, é aquela que armazena os valores verdadeiro ou falso. Na linguagem Python, verdadeiro é representado por *True* e falso, por *False*. Note que ambos são grafados com T e F **maiúsculos**."
   ]
  },
  {
   "cell_type": "markdown",
   "metadata": {
    "colab_type": "text",
    "id": "8t3n0E6k1mz-"
   },
   "source": [
    "## Operadores Relacionais\n",
    "\n",
    "Os **operadores relacionais** são utilizados para estabeler comparações lógicas. Quando aplicados, o resultado é sempre verdadeiro (True) ou falso (False).\n",
    "\n",
    "Operador | Relação \n",
    "--- | ---\n",
    "== | Igualdade\n",
    "!= | Diferença\n",
    "> | maior que \n",
    "< | menor que\n",
    ">= | maior igual que \n",
    "<= | menor igual que \n"
   ]
  },
  {
   "cell_type": "markdown",
   "metadata": {
    "colab_type": "text",
    "id": "rEIREEUX2rAT"
   },
   "source": [
    "### Exemplos"
   ]
  },
  {
   "cell_type": "code",
   "execution_count": null,
   "metadata": {
    "colab": {
     "base_uri": "https://localhost:8080/",
     "height": 34
    },
    "colab_type": "code",
    "id": "ZPIq3h5coGwH",
    "outputId": "a44db5c5-2f7e-4298-c86a-0c1a08740d15"
   },
   "outputs": [
    {
     "data": {
      "text/plain": [
       "True"
      ]
     },
     "execution_count": 8,
     "metadata": {
      "tags": []
     },
     "output_type": "execute_result"
    }
   ],
   "source": [
    "10 > 7"
   ]
  },
  {
   "cell_type": "code",
   "execution_count": null,
   "metadata": {
    "colab": {
     "base_uri": "https://localhost:8080/",
     "height": 34
    },
    "colab_type": "code",
    "id": "2hfgWMOxolkO",
    "outputId": "0252881f-4c96-450a-d352-1e9b5bdf5d0c"
   },
   "outputs": [
    {
     "data": {
      "text/plain": [
       "False"
      ]
     },
     "execution_count": 14,
     "metadata": {
      "tags": []
     },
     "output_type": "execute_result"
    }
   ],
   "source": [
    "12 + 8 != 2 * 10"
   ]
  },
  {
   "cell_type": "code",
   "execution_count": null,
   "metadata": {
    "colab": {
     "base_uri": "https://localhost:8080/",
     "height": 34
    },
    "colab_type": "code",
    "id": "1rLDkbza0xIi",
    "outputId": "5bc5d6e9-cc2e-47c4-f6ab-895dabd14173"
   },
   "outputs": [
    {
     "data": {
      "text/plain": [
       "False"
      ]
     },
     "execution_count": 15,
     "metadata": {
      "tags": []
     },
     "output_type": "execute_result"
    }
   ],
   "source": [
    "# É possível comparar variáveis.\n",
    "a = 2\n",
    "b = 5\n",
    "c = 2\n",
    "\n",
    "b == c # b igual a c"
   ]
  },
  {
   "cell_type": "code",
   "execution_count": null,
   "metadata": {
    "colab": {
     "base_uri": "https://localhost:8080/",
     "height": 34
    },
    "colab_type": "code",
    "id": "9hNKJfWr312s",
    "outputId": "fcf2bb5f-dfb3-477e-b30e-69db08ddcb73"
   },
   "outputs": [
    {
     "data": {
      "text/plain": [
       "True"
      ]
     },
     "execution_count": 11,
     "metadata": {
      "tags": []
     },
     "output_type": "execute_result"
    }
   ],
   "source": [
    "a >= c # a maior igual que c"
   ]
  },
  {
   "cell_type": "markdown",
   "metadata": {
    "colab_type": "text",
    "id": "xZseDd6W435G"
   },
   "source": [
    "### Exercício 2\n",
    "\n",
    "Descubra se 'c' é maior que 'd'.\n"
   ]
  },
  {
   "cell_type": "code",
   "execution_count": null,
   "metadata": {
    "colab": {},
    "colab_type": "code",
    "id": "tjky4FEK48UQ"
   },
   "outputs": [],
   "source": [
    "a = 4\n",
    "b = 6\n",
    "c = a + b\n",
    "d = a * (b/2)\n",
    "\n",
    "# Sua resposta.\n"
   ]
  },
  {
   "cell_type": "markdown",
   "metadata": {
    "colab_type": "text",
    "id": "kX_kN9WCkmAQ"
   },
   "source": [
    "**Clique aqui para a resposta.**\n",
    "\n",
    "<!--\n",
    "c > d\n",
    "-->"
   ]
  },
  {
   "cell_type": "markdown",
   "metadata": {
    "colab_type": "text",
    "id": "jE-xiNS55RLt"
   },
   "source": [
    "## Operadores Lógicos\n",
    "\n",
    "Os **operadores lógicos** servem para combinar operações de verdadeiro (True) e falso (False). No Python, existem três operadores lógicos: **and** (e), **or** (ou) e **not** (não).\n",
    "\n",
    "\n",
    "\n",
    "\n",
    "### ***And***\n",
    "\n",
    "O operador And (e) é um operador de conjunção. Ele só estabelece um resultado verdadeiro quando as duas operações combinadas forem *verdadeiras*.\n",
    "\n",
    "A | B | A *and* B\n",
    "--- | --- | ---\n",
    "False | False | False\n",
    "False | True | False \n",
    "True | False | False \n",
    "True | True | True \n",
    "\n",
    "\n",
    "\n",
    "### ***Or***\n",
    "\n",
    "O operador Or (ou) é um operador de disjunção. O resultado estabelecido por ele só será falso quando ambas as operações combinadas forem *falsas*. Em qualquer outro caso, o resultado será *verdadeiro*.\n",
    "\n",
    "A | B | A *or* B\n",
    "---| ---| ---\n",
    "False | False | False \n",
    "False | True | True \n",
    "True | False | True \n",
    "True | True | True \n",
    "\n",
    "\n",
    "\n",
    "### ***Not***\n",
    "\n",
    "O operador Not (não) é um operador de negação. Ou seja, ele retorna a operação inversa da operação inserida.\n",
    "\n",
    "A | *Not* A\n",
    "---| ---\n",
    "True | False \n",
    "False | True "
   ]
  },
  {
   "cell_type": "markdown",
   "metadata": {
    "colab_type": "text",
    "id": "YRt6q2U94yvq"
   },
   "source": [
    "### Exemplos"
   ]
  },
  {
   "cell_type": "code",
   "execution_count": null,
   "metadata": {
    "colab": {
     "base_uri": "https://localhost:8080/",
     "height": 34
    },
    "colab_type": "code",
    "id": "0xZm389Q8J_i",
    "outputId": "0b7b4aa2-3408-4255-c2fe-cb1ca4bc4815"
   },
   "outputs": [
    {
     "data": {
      "text/plain": [
       "False"
      ]
     },
     "execution_count": 7,
     "metadata": {
      "tags": []
     },
     "output_type": "execute_result"
    }
   ],
   "source": [
    "True and False"
   ]
  },
  {
   "cell_type": "code",
   "execution_count": null,
   "metadata": {
    "colab": {
     "base_uri": "https://localhost:8080/",
     "height": 34
    },
    "colab_type": "code",
    "id": "hLlv0xNJ5ZeC",
    "outputId": "1f1f1fc1-5271-4f0c-c613-ccddc32a7a15"
   },
   "outputs": [
    {
     "data": {
      "text/plain": [
       "True"
      ]
     },
     "execution_count": 1,
     "metadata": {
      "tags": []
     },
     "output_type": "execute_result"
    }
   ],
   "source": [
    "# Valores armazenados em variáveis também podem ser combinados.\n",
    "A = True\n",
    "B = False\n",
    "\n",
    "A or B"
   ]
  },
  {
   "cell_type": "code",
   "execution_count": null,
   "metadata": {
    "colab": {
     "base_uri": "https://localhost:8080/",
     "height": 34
    },
    "colab_type": "code",
    "id": "HUuh5h1c_lFZ",
    "outputId": "2b7bf213-fd3e-4aa4-a036-29d3b8a49054"
   },
   "outputs": [
    {
     "data": {
      "text/plain": [
       "False"
      ]
     },
     "execution_count": 7,
     "metadata": {
      "tags": []
     },
     "output_type": "execute_result"
    }
   ],
   "source": [
    "# É possível combinar operadores relacionais com operadores lógicos.\n",
    "(5 <= 3) and (5 >= 5)"
   ]
  },
  {
   "cell_type": "markdown",
   "metadata": {
    "colab_type": "text",
    "id": "nyC4041S43hG"
   },
   "source": [
    "### Exercício 3\n",
    "\n",
    "Combine as duas variáveis abaixo utilizando o operador *And*."
   ]
  },
  {
   "cell_type": "code",
   "execution_count": null,
   "metadata": {
    "colab": {},
    "colab_type": "code",
    "id": "c8GQ76Ss49B9"
   },
   "outputs": [],
   "source": [
    "variavel_01 = not 2 > 5\n",
    "variavel_02 = 10 != 4\n",
    "\n",
    "# Sua resposta.\n"
   ]
  },
  {
   "cell_type": "markdown",
   "metadata": {
    "colab_type": "text",
    "id": "rDAwz_jE4-6d"
   },
   "source": [
    "**Clique aqui para a resposta.**\n",
    "<!--\n",
    "variavel_01 and variavel_02\n",
    "-->"
   ]
  },
  {
   "cell_type": "markdown",
   "metadata": {
    "colab_type": "text",
    "id": "rJDpREq7xAMy"
   },
   "source": [
    "## Operadores Bitwise\n",
    "\n",
    "**Operadores Bitwise** são aqueles que realizam operações sobre números binários. Esse tipo de operador não faz parte do escopo desse curso, mas você pode ler mais a respeito clicando [aqui](https://en.wikipedia.org/wiki/Bitwise_operation) ou [aqui](https://wiki.python.org/moin/BitwiseOperators)."
   ]
  },
  {
   "cell_type": "markdown",
   "metadata": {
    "colab_type": "text",
    "id": "cDagP-nAtJ1_"
   },
   "source": [
    "# **Avaliação**\n",
    "\n",
    "Com isso, concluimos nossa segunda semana de curso! Envie-nos o seu feedback respondendo a esse [questionário de avaliação](https://docs.google.com/forms/d/e/1FAIpQLSeY6KknKCAQDpQC-x3qkES6WOJ5e88KDGFcy_s71g1GYKAleA/viewform). "
   ]
  },
  {
   "cell_type": "markdown",
   "metadata": {
    "colab_type": "text",
    "id": "WicT-MstoYx2"
   },
   "source": [
    "# **Yey! Parabéns por ter completado este notebook!**\n",
    "\n",
    "\n",
    "Este notebook faz parte do curso de *Introdução ao Python para Gestão da Saúde*, ministrado por [Caio Salgado](https://www.linkedin.com/in/caio-salgado-b5758312/) e oferecido pela [Zetta Exponential](https://www.linkedin.com/company/zetta-health-analytics/) e Universidade Federal de Viçosa. Foi escrito por:\n",
    "\n",
    "* [Ana Flávia Souza](https://www.linkedin.com/in/ana-fl%C3%A1via-souza-2b06151a5/): graduanda em Economia pela Universidade Federal de Viçosa e estagiária na Zetta Exponential.\n",
    "\n",
    "* [Gabriel Kakizaki](https://www.linkedin.com/in/gabriel-kakizaki-25b6311a5/): graduando em Administração pela Universidade Federal de Viçosa, membro do PET-ADM e estagiário na Zetta Exponential.\n",
    "\n",
    "Com supervisão de:\n",
    "\n",
    "* [Dr. Henrique Gomide](https://www.linkedin.com/in/hpgomide/?originalSubdomain=br): líder do comitê científico da empresa Zetta Health e professor da Universidade Federal de Viçosa. \n",
    "\n",
    "--- \n",
    "Copyright 2020, Zetta Exponential"
   ]
  }
 ],
 "metadata": {
  "colab": {
   "include_colab_link": true,
   "name": "Curso_Python_para _Gestão_de_Saúde_02_python_tipos_de_operadores",
   "provenance": [],
   "toc_visible": true
  },
  "kernelspec": {
   "display_name": "Python 3 (ipykernel)",
   "language": "python",
   "name": "python3"
  },
  "language_info": {
   "codemirror_mode": {
    "name": "ipython",
    "version": 3
   },
   "file_extension": ".py",
   "mimetype": "text/x-python",
   "name": "python",
   "nbconvert_exporter": "python",
   "pygments_lexer": "ipython3",
   "version": "3.8.13"
  }
 },
 "nbformat": 4,
 "nbformat_minor": 4
}
