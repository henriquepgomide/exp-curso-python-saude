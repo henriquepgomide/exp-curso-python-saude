{
 "cells": [
  {
   "cell_type": "markdown",
   "metadata": {
    "colab_type": "text",
    "id": "view-in-github"
   },
   "source": [
    "<a href=\"https://colab.research.google.com/github/henriquepgomide/exp-curso-python-saude/blob/master/PySaude_02_python_04_funcoes.ipynb\" target=\"_parent\"><img src=\"https://colab.research.google.com/assets/colab-badge.svg\" alt=\"Open In Colab\"/></a>"
   ]
  },
  {
   "cell_type": "markdown",
   "metadata": {
    "colab_type": "text",
    "id": "mqvKE7V2l2qY"
   },
   "source": [
    "<img src=\"https://raw.githubusercontent.com/henriquepgomide/exp-curso-python-saude/master/assets/pucrs-logo.svg\" width=\"300\" align=\"center\">"
   ]
  },
  {
   "cell_type": "markdown",
   "metadata": {},
   "source": [
    "# **DATA SCIENCE: INOVAÇÃO NO USO DOS DADOS NA SAÚDE**\n",
    "# Introdução às ferramentas usadas em ciência de dados\n",
    "**Henrique Gomide, Ph.D.**"
   ]
  },
  {
   "cell_type": "markdown",
   "metadata": {
    "colab_type": "text",
    "id": "1A_wXYVm1yRE"
   },
   "source": [
    "# Funções"
   ]
  },
  {
   "cell_type": "markdown",
   "metadata": {
    "colab_type": "text",
    "id": "rW-OD1H11yRH"
   },
   "source": [
    "Função é um código que foi agrupado e pode ser utilizado para realizar uma tarefa. Você inclusive já usou diversas funções, como por exemplo ```print```:"
   ]
  },
  {
   "cell_type": "code",
   "execution_count": null,
   "metadata": {
    "colab": {
     "base_uri": "https://localhost:8080/",
     "height": 225
    },
    "colab_type": "code",
    "id": "lwk4ODJS1yRI",
    "outputId": "1a6ad954-55cc-4ca8-8d03-68dd18b600cb"
   },
   "outputs": [
    {
     "name": "stdout",
     "output_type": "stream",
     "text": [
      "Help on built-in function print in module builtins:\n",
      "\n",
      "print(...)\n",
      "    print(value, ..., sep=' ', end='\\n', file=sys.stdout, flush=False)\n",
      "    \n",
      "    Prints the values to a stream, or to sys.stdout by default.\n",
      "    Optional keyword arguments:\n",
      "    file:  a file-like object (stream); defaults to the current sys.stdout.\n",
      "    sep:   string inserted between values, default a space.\n",
      "    end:   string appended after the last value, default a newline.\n",
      "    flush: whether to forcibly flush the stream.\n",
      "\n"
     ]
    }
   ],
   "source": [
    "help(print)"
   ]
  },
  {
   "cell_type": "markdown",
   "metadata": {
    "colab_type": "text",
    "id": "oLPx_Tmo1yRU"
   },
   "source": [
    "## Métodos\n",
    "As funções do python podem ser chamadas de **métodos** por fazerem parte de um objeto, por exemplo: ```random.seed(42)```, dizemos que ```seed()``` é um método de ```random```. No entanto, não nos aprofundaremos em orientação a objeto nesse curso.\n",
    "\n",
    "Para saber mais: [Classes - Python3](https://docs.python.org/pt-br/3/tutorial/classes.html)"
   ]
  },
  {
   "cell_type": "markdown",
   "metadata": {
    "colab_type": "text",
    "id": "uVGy2qTz2n7y"
   },
   "source": [
    "## Argumentos\n",
    "No exemplo abaixo, a função randint() recebeu como **argumento** os números `1` e `100`, e **retornou** um número aleatório entre esses dois, que foi **atribuído** (salvo) à variável `x`."
   ]
  },
  {
   "cell_type": "code",
   "execution_count": null,
   "metadata": {
    "colab": {
     "base_uri": "https://localhost:8080/",
     "height": 34
    },
    "colab_type": "code",
    "id": "nBHjEph11yRX",
    "outputId": "c3598d98-76a2-45d0-dc7f-7a223f08a7ee"
   },
   "outputs": [
    {
     "name": "stdout",
     "output_type": "stream",
     "text": [
      "38\n"
     ]
    }
   ],
   "source": [
    "import random\n",
    "x = random.randint(1, 100)\n",
    "print(x)"
   ]
  },
  {
   "cell_type": "markdown",
   "metadata": {
    "colab_type": "text",
    "id": "2LNG9b9J1yRd"
   },
   "source": [
    "Agora, a variável ```resposta_de_tudo``` é o **argumento** para a função 'print', ou seja, os dados que a função recebe para trabalhar. Porém, é importante notar que essa função geralmente **não retorna** um valor (seu objetivo nesse caso é apenas imprimir na tela)."
   ]
  },
  {
   "cell_type": "code",
   "execution_count": null,
   "metadata": {
    "colab": {
     "base_uri": "https://localhost:8080/",
     "height": 34
    },
    "colab_type": "code",
    "id": "nsuOoW4G1yRe",
    "outputId": "410f9575-ff8c-41d8-d618-61b49f4129fb"
   },
   "outputs": [
    {
     "name": "stdout",
     "output_type": "stream",
     "text": [
      "42\n"
     ]
    }
   ],
   "source": [
    "resposta_de_tudo = 42\n",
    "print(resposta_de_tudo)"
   ]
  },
  {
   "cell_type": "markdown",
   "metadata": {
    "colab_type": "text",
    "id": "YCOwfvRkkc5F"
   },
   "source": [
    "Algumas funções recebem vários argumentos e alguns deles podem precisar de um nome para evitar ambiguidade. Nesses casos, utiliza-se o nome do argumento seguido do sinal de igual:"
   ]
  },
  {
   "cell_type": "code",
   "execution_count": null,
   "metadata": {
    "colab": {
     "base_uri": "https://localhost:8080/",
     "height": 34
    },
    "colab_type": "code",
    "id": "QhKCDCt51yRl",
    "outputId": "501791ae-8b4f-4753-b014-a8fca0c936ae"
   },
   "outputs": [
    {
     "name": "stdout",
     "output_type": "stream",
     "text": [
      "a/b/c/d\n"
     ]
    }
   ],
   "source": [
    "print('a', 'b', 'c', 'd', sep='/')  #'sep', aqui, é um argumento especificado."
   ]
  },
  {
   "cell_type": "markdown",
   "metadata": {
    "colab_type": "text",
    "id": "8Ks-8EXU1yRq"
   },
   "source": [
    "## Como fazer suas próprias funções?"
   ]
  },
  {
   "cell_type": "markdown",
   "metadata": {
    "colab_type": "text",
    "id": "ZBJUCiIR1yRr"
   },
   "source": [
    "Para criar uma função, usamos a _keyword_ `def`, seguida do nome da função e parênteses, contendo seus argumentos. Ah, não se esqueça dos `:` ao final:"
   ]
  },
  {
   "cell_type": "code",
   "execution_count": null,
   "metadata": {
    "colab": {},
    "colab_type": "code",
    "id": "2nk8-74R1yRs"
   },
   "outputs": [],
   "source": [
    "def soma(x, y):\n",
    "    total = x + y\n",
    "    return total"
   ]
  },
  {
   "cell_type": "code",
   "execution_count": null,
   "metadata": {
    "colab": {
     "base_uri": "https://localhost:8080/",
     "height": 34
    },
    "colab_type": "code",
    "id": "scpFg3Iy1yRw",
    "outputId": "65d567ea-66fd-4adf-903b-5aaec6bbe0fa"
   },
   "outputs": [
    {
     "data": {
      "text/plain": [
       "3"
      ]
     },
     "execution_count": 6,
     "metadata": {
      "tags": []
     },
     "output_type": "execute_result"
    }
   ],
   "source": [
    "soma(1, 2)"
   ]
  },
  {
   "cell_type": "markdown",
   "metadata": {
    "colab_type": "text",
    "id": "qPo8a8LA1yR0"
   },
   "source": [
    "Observe que não é necessário dizer ao Python o [tipo](https://github.com/zetta-health/exp-curso-python-saude/blob/master/PySaude_02_python_tipos_de_dados_02.ipynb) dos argumentos `x` e `y` (que assumimos serem números inteiros). Por conta disso, geralmente é bem simples definir funções. Mas devemos estar atentos aos tipos de dados dessas variáveis, pois eles podem gerar surpresas:"
   ]
  },
  {
   "cell_type": "code",
   "execution_count": null,
   "metadata": {
    "colab": {
     "base_uri": "https://localhost:8080/",
     "height": 34
    },
    "colab_type": "code",
    "id": "VcYCirgX1yR1",
    "outputId": "9b0c050a-e454-4ea2-ebea-ca51efba275c"
   },
   "outputs": [
    {
     "data": {
      "text/plain": [
       "'ab'"
      ]
     },
     "execution_count": 7,
     "metadata": {
      "tags": []
     },
     "output_type": "execute_result"
    }
   ],
   "source": [
    "soma('a', 'b')"
   ]
  },
  {
   "cell_type": "markdown",
   "metadata": {
    "colab_type": "text",
    "id": "bphUybGh1yR5"
   },
   "source": [
    " Outra coisa que pode gerar surpresas é o que chamamos de _**escopo** da variável_. Uma variável criada dentro de uma função existe apenas dentro dessa função."
   ]
  },
  {
   "cell_type": "code",
   "execution_count": null,
   "metadata": {
    "colab": {},
    "colab_type": "code",
    "id": "BMQFnkXX1yR6"
   },
   "outputs": [],
   "source": [
    "def valor_interno():\n",
    "    z = 100  # z é um valor interno da função\n",
    "    print(z)"
   ]
  },
  {
   "cell_type": "code",
   "execution_count": null,
   "metadata": {
    "colab": {
     "base_uri": "https://localhost:8080/",
     "height": 34
    },
    "colab_type": "code",
    "id": "XvvOYOol1yR-",
    "outputId": "6bf2d4a6-71c9-4518-f546-c06650536752"
   },
   "outputs": [
    {
     "name": "stdout",
     "output_type": "stream",
     "text": [
      "100\n"
     ]
    }
   ],
   "source": [
    "valor_interno()"
   ]
  },
  {
   "cell_type": "markdown",
   "metadata": {
    "colab_type": "text",
    "id": "B62NNzLql2r7"
   },
   "source": [
    "O nome da variável criada dentro da função não tem relação com os nomes de fora, e como podemos ver `z` ainda só existe lá dentro"
   ]
  },
  {
   "cell_type": "code",
   "execution_count": null,
   "metadata": {
    "colab": {
     "base_uri": "https://localhost:8080/",
     "height": 168
    },
    "colab_type": "code",
    "id": "Lx-YYaR81ySC",
    "outputId": "1b23db8e-7225-4b9d-cb08-7d376e366e54"
   },
   "outputs": [
    {
     "ename": "NameError",
     "evalue": "name 'z' is not defined",
     "output_type": "error",
     "traceback": [
      "\u001b[0;31m---------------------------------------------------------------------------\u001b[0m",
      "\u001b[0;31mNameError\u001b[0m                                 Traceback (most recent call last)",
      "\u001b[0;32m<ipython-input-10-3a710d2a84f8>\u001b[0m in \u001b[0;36m<module>\u001b[0;34m\u001b[0m\n\u001b[0;32m----> 1\u001b[0;31m \u001b[0mz\u001b[0m\u001b[0;34m\u001b[0m\u001b[0;34m\u001b[0m\u001b[0m\n\u001b[0m",
      "\u001b[0;31mNameError\u001b[0m: name 'z' is not defined"
     ]
    }
   ],
   "source": [
    "z"
   ]
  },
  {
   "cell_type": "markdown",
   "metadata": {
    "colab_type": "text",
    "id": "KT3wl1zyl2sE"
   },
   "source": [
    "Podemos tentar definir `z` e executar a função novamente"
   ]
  },
  {
   "cell_type": "code",
   "execution_count": null,
   "metadata": {
    "colab": {
     "base_uri": "https://localhost:8080/",
     "height": 34
    },
    "colab_type": "code",
    "id": "CwST5O2w1ySG",
    "outputId": "f66b7dc6-1c9d-487b-b7f5-0662ef83b422"
   },
   "outputs": [
    {
     "name": "stdout",
     "output_type": "stream",
     "text": [
      "100\n"
     ]
    }
   ],
   "source": [
    "z = 200\n",
    "valor_interno()"
   ]
  },
  {
   "cell_type": "markdown",
   "metadata": {
    "colab_type": "text",
    "id": "kuW2PZLFl2sP"
   },
   "source": [
    "Mesmo assim, o valor continua sendo o interno"
   ]
  },
  {
   "cell_type": "code",
   "execution_count": null,
   "metadata": {
    "colab": {
     "base_uri": "https://localhost:8080/",
     "height": 34
    },
    "colab_type": "code",
    "id": "SnfM4kXq1ySL",
    "outputId": "cbbf4a0a-bbfa-4f85-a776-2ecbb9b32136"
   },
   "outputs": [
    {
     "data": {
      "text/plain": [
       "200"
      ]
     },
     "execution_count": 12,
     "metadata": {
      "tags": []
     },
     "output_type": "execute_result"
    }
   ],
   "source": [
    "z"
   ]
  },
  {
   "cell_type": "markdown",
   "metadata": {
    "colab_type": "text",
    "id": "9AuwLiK21ySO"
   },
   "source": [
    "Mas e se fosse o contrário? Uma função consegue acessar os valores 'de fora'?"
   ]
  },
  {
   "cell_type": "code",
   "execution_count": null,
   "metadata": {
    "colab": {},
    "colab_type": "code",
    "id": "EZvl-U0tl2sg",
    "outputId": "a4c1afd8-1609-4640-eaf7-11a01ed534f8"
   },
   "outputs": [
    {
     "name": "stdout",
     "output_type": "stream",
     "text": [
      "100\n"
     ]
    }
   ],
   "source": [
    "x = 100\n",
    "\n",
    "def valor_externo():\n",
    "    print(x)\n",
    "\n",
    "valor_externo()"
   ]
  },
  {
   "cell_type": "markdown",
   "metadata": {
    "colab_type": "text",
    "id": "DCF5OwnGl2sn"
   },
   "source": [
    "Sim! Caso as variáveis não tenham sido definidas dentro da função, como no caso de `valor_interno()`. Elas são chamadas de variáveis globais e podem ser acessadas dentro de quaisquer funções."
   ]
  },
  {
   "cell_type": "markdown",
   "metadata": {
    "colab_type": "text",
    "id": "CExWRfyZl2sn"
   },
   "source": [
    "Isso tudo ocorre para evitar possíveis conflitos com o nome das variáveis de dentro e fora das funções,\n",
    "causando erros caso algumas coisas fossem alteradas sem intenção, principalmente quando se começa a usar código de bibliotecas.\n",
    "\n",
    "Portanto, a melhor prática na hora de fazer uma função é alterar somente os valores que lhe foram passados (dentro dos parênteses)."
   ]
  },
  {
   "cell_type": "markdown",
   "metadata": {
    "colab_type": "text",
    "id": "fo71LECjuLvz"
   },
   "source": [
    "### Exercício 01"
   ]
  },
  {
   "cell_type": "markdown",
   "metadata": {
    "colab_type": "text",
    "id": "iPqn_08tuQql"
   },
   "source": [
    "É hora de colocar em prática o que você já aprendeu até aqui! Dentro das funções é possível, além de criar suas variáveis como vimos acima, usar os loops, condições e outras funções.\n",
    "\n",
    "Faça uma função chamada round_list que retorne uma lista de floats arredondados em duas casas decimais."
   ]
  },
  {
   "cell_type": "code",
   "execution_count": null,
   "metadata": {
    "colab": {},
    "colab_type": "code",
    "id": "wF2wuOlzwwA4"
   },
   "outputs": [],
   "source": [
    "# Seu código aqui\n",
    "def round_list\n",
    "\n",
    "\n",
    "\n",
    "\n"
   ]
  },
  {
   "cell_type": "code",
   "execution_count": null,
   "metadata": {
    "colab": {},
    "colab_type": "code",
    "id": "waZzN95xMbvn"
   },
   "outputs": [],
   "source": [
    "# Use essa célula para conferir se sua função está funcionando corretamente\n",
    "data = [random.random() for x in range(10)]\n",
    "\n",
    "print(round_list(data), sep=', ')"
   ]
  },
  {
   "cell_type": "markdown",
   "metadata": {
    "colab_type": "text",
    "id": "6k0sbKqqpxgB"
   },
   "source": [
    "**Clique duas vezes aqui para ver a resposta.**\n",
    "\n",
    "<!--\n",
    "def round_list(n):\n",
    "    result = []\n",
    "    for i in n:\n",
    "        result.append(round(i, 2))\n",
    "    return(result)\n",
    "-->"
   ]
  },
  {
   "cell_type": "markdown",
   "metadata": {
    "colab_type": "text",
    "id": "pFQQgHQNt6IX"
   },
   "source": [
    "### Exercício 02"
   ]
  },
  {
   "cell_type": "markdown",
   "metadata": {
    "colab_type": "text",
    "id": "qor-VoBzxvwj"
   },
   "source": [
    "Faça uma função que recebe uma lista de strings e retorna outra lista com todos os itens que contém 'cost'"
   ]
  },
  {
   "cell_type": "code",
   "execution_count": null,
   "metadata": {
    "colab": {},
    "colab_type": "code",
    "id": "g6PxyFKy2567"
   },
   "outputs": [],
   "source": [
    "columns = ['id','type','before.hra.12m.claims.total','before.hra.12m.elective.encounter.cost', \n",
    "           'before.hra.12m.elective.encounter.event', 'before.hra.12m.er.cost', 'before.hra.12m.er.event', \n",
    "           'before.hra.12m.exams.cost', 'before.hra.12m.exams.event', 'before.hra.12m.hospital.cost', \n",
    "           'before.hra.12m.hospital.events', 'before.hra.12m.outpatient.cost', 'before.hra.12m.outpatient.events', \n",
    "           'after.hra.12m.claims.total', 'after.hra.12m.elective.encounter.cost', 'after.hra.12m.elective.encounter.event', \n",
    "           'after.hra.12m.er.cost', 'after.hra.12m.er.event', 'after.hra.12m.exams.cost', 'after.hra.12m.exams.event', \n",
    "           'after.hra.12m.hospital.cost', 'after.hra.12m.hospital.events', 'after.hra.12m.outpatient.cost', \n",
    "           'after.hra.12m.outpatient.events', 'time.on.company', 'risk.factors.sum']\n",
    "\n",
    "# Seu código aqui\n",
    "def select_cost\n",
    "\n",
    "\n",
    "\n",
    "\n",
    "\n"
   ]
  },
  {
   "cell_type": "code",
   "execution_count": null,
   "metadata": {
    "colab": {},
    "colab_type": "code",
    "id": "fdl4ktvo5Rn8"
   },
   "outputs": [],
   "source": [
    "# Use essa célula para conferir se sua função está funcionando corretamente\n",
    "select_cost(columns)"
   ]
  },
  {
   "cell_type": "markdown",
   "metadata": {
    "colab_type": "text",
    "id": "snQs_U9L5ffe"
   },
   "source": [
    "**Clique aqui duas vezes para ver a resposta.**\n",
    "\n",
    "<!--\n",
    "def select_cost(cols):\n",
    "    selected = []\n",
    "    for i in cols:\n",
    "        if 'cost' in i:\n",
    "            selected.append(i)\n",
    "    \n",
    "    return selected\n",
    "-->"
   ]
  },
  {
   "cell_type": "markdown",
   "metadata": {
    "colab_type": "text",
    "id": "b3nD0dPjpPzH"
   },
   "source": [
    "# **Avaliação**\n",
    "\n",
    "Com isso, concluimos nossa terceira semana de curso! Envie-nos o seu feedback respondendo a esse [questionário de avaliação](https://docs.google.com/forms/d/e/1FAIpQLSchWJbq--z53F6rqEwwF-APWPpxao_CjhsckkTndneiGMRnlg/viewform). "
   ]
  },
  {
   "cell_type": "markdown",
   "metadata": {
    "colab_type": "text",
    "id": "kB9YmWEAl6vz"
   },
   "source": [
    "# **Yey! Parabéns por ter completado este notebook!**\n",
    "\n",
    "\n",
    "Este notebook faz parte do curso de *Introdução ao Python para Gestão da Saúde*, ministrado por [Caio Salgado](https://www.linkedin.com/in/caio-salgado-b5758312/) e oferecido pela [Zetta Exponential](https://www.linkedin.com/company/zetta-health-analytics/) e Universidade Federal de Viçosa. Foi escrito por:\n",
    "\n",
    "* [Ana Flávia Souza](https://www.linkedin.com/in/ana-fl%C3%A1via-souza-2b06151a5/): graduanda em Economia pela Universidade Federal de Viçosa e estagiária na Zetta Exponential.\n",
    "\n",
    "* [Gabriel Kakizaki](https://www.linkedin.com/in/gabriel-kakizaki-25b6311a5/): graduando em Administração pela Universidade Federal de Viçosa, membro do PET-ADM e estagiário na Zetta Exponential.\n",
    "\n",
    "Com supervisão de:\n",
    "\n",
    "* [Dr. Henrique Gomide](https://www.linkedin.com/in/hpgomide/?originalSubdomain=br): líder do comitê científico da empresa Zetta Health e professor da Universidade Federal de Viçosa. \n",
    "\n",
    "--- \n",
    "Copyright 2020, Zetta Exponential"
   ]
  }
 ],
 "metadata": {
  "colab": {
   "collapsed_sections": [],
   "include_colab_link": true,
   "name": "PySaude_02_python_funcoes_04.ipynb",
   "provenance": [],
   "toc_visible": true
  },
  "kernelspec": {
   "display_name": "Python 3 (ipykernel)",
   "language": "python",
   "name": "python3"
  },
  "language_info": {
   "codemirror_mode": {
    "name": "ipython",
    "version": 3
   },
   "file_extension": ".py",
   "mimetype": "text/x-python",
   "name": "python",
   "nbconvert_exporter": "python",
   "pygments_lexer": "ipython3",
   "version": "3.8.13"
  }
 },
 "nbformat": 4,
 "nbformat_minor": 4
}
