{
 "cells": [
  {
   "cell_type": "markdown",
   "metadata": {
    "colab_type": "text",
    "id": "view-in-github"
   },
   "source": [
    "<a href=\"https://colab.research.google.com/github/henriquepgomide/exp-curso-python-saude/blob/master/PySaude_02_python_02_tipos_de_dados.ipynb\" target=\"_parent\"><img src=\"https://colab.research.google.com/assets/colab-badge.svg\" alt=\"Open In Colab\"/></a>"
   ]
  },
  {
   "cell_type": "markdown",
   "metadata": {
    "colab_type": "text",
    "id": "gWSzTspknmz1"
   },
   "source": [
    "<img src=\"https://raw.githubusercontent.com/henriquepgomide/exp-curso-python-saude/master/assets/pucrs-logo.svg\" width=\"300\" align=\"center\">"
   ]
  },
  {
   "cell_type": "markdown",
   "metadata": {
    "colab_type": "text",
    "id": "yXtjd5sF_A0D"
   },
   "source": [
    "# **DATA SCIENCE: INOVAÇÃO NO USO DOS DADOS NA SAÚDE**\n",
    "# Introdução às ferramentas usadas em ciência de dados\n",
    "**Henrique Gomide, Ph.D.**\n",
    "\n",
    "\n",
    "# Tipos de Dados\n",
    "\n",
    "Hora de ver os tipos de dados mais comuns e nos familiarizarmos com eles."
   ]
  },
  {
   "cell_type": "markdown",
   "metadata": {
    "colab_type": "text",
    "id": "RLn4pk0H3PoS"
   },
   "source": [
    "## Função type()\n",
    "\n",
    "Essa função retorna o tipo (classe) do dado que é passado como argumento."
   ]
  },
  {
   "cell_type": "code",
   "execution_count": 2,
   "metadata": {
    "colab": {
     "base_uri": "https://localhost:8080/",
     "height": 68
    },
    "colab_type": "code",
    "id": "4QXdyRdm3VOp",
    "outputId": "eb030a11-326a-4016-91d9-78e8ab4ed717"
   },
   "outputs": [
    {
     "name": "stdout",
     "output_type": "stream",
     "text": [
      "<class 'list'>\n",
      "<class 'float'>\n",
      "<class 'str'>\n"
     ]
    }
   ],
   "source": [
    "print(type([1, 2, 3, 4, 5]))\n",
    "print(type(2.55))\n",
    "print(type('minha cidade'))"
   ]
  },
  {
   "cell_type": "markdown",
   "metadata": {
    "colab_type": "text",
    "id": "z1z6rkdGHX5N"
   },
   "source": [
    "## Inteiro"
   ]
  },
  {
   "cell_type": "code",
   "execution_count": null,
   "metadata": {
    "colab": {},
    "colab_type": "code",
    "id": "dDRewKKc_Y4X"
   },
   "outputs": [],
   "source": [
    "# Exemplo de inteiro\n",
    "idade_henrique = 33"
   ]
  },
  {
   "cell_type": "code",
   "execution_count": null,
   "metadata": {
    "colab": {
     "base_uri": "https://localhost:8080/",
     "height": 34
    },
    "colab_type": "code",
    "id": "AXWLLYFt_cfE",
    "outputId": "906730dc-8aed-4e1f-80de-a4f4fe82fe2b"
   },
   "outputs": [
    {
     "name": "stdout",
     "output_type": "stream",
     "text": [
      "33\n"
     ]
    }
   ],
   "source": [
    "print(idade_henrique)"
   ]
  },
  {
   "cell_type": "markdown",
   "metadata": {
    "colab_type": "text",
    "id": "zCDTc8De_yXC"
   },
   "source": [
    "### Exercício 01\n",
    "\n",
    "Crie uma variável chamada 'minha_idade' e atribua um valor inteiro a ela. Depois, use a função 'print' para imprimir o valor da variável."
   ]
  },
  {
   "cell_type": "code",
   "execution_count": null,
   "metadata": {
    "colab": {},
    "colab_type": "code",
    "id": "nx5gaboy_2CD"
   },
   "outputs": [],
   "source": [
    "# Crie a varíavel minha idade.\n",
    "minha_idade = "
   ]
  },
  {
   "cell_type": "code",
   "execution_count": null,
   "metadata": {
    "colab": {},
    "colab_type": "code",
    "id": "UmcWtU2wATKx"
   },
   "outputs": [],
   "source": [
    "# Imprima o valor da variável minha idade."
   ]
  },
  {
   "cell_type": "markdown",
   "metadata": {
    "colab_type": "text",
    "id": "k8XgqFVLAne6"
   },
   "source": [
    "**Clique aqui para a resposta**\n",
    "\n",
    "<!--\n",
    "minha_idade = 20 # Exemplo\n",
    "print(minha_idade)\n",
    "-->"
   ]
  },
  {
   "cell_type": "markdown",
   "metadata": {
    "colab_type": "text",
    "id": "jus6_LR6B8Rk"
   },
   "source": [
    "## Float (Ponto flutuante)"
   ]
  },
  {
   "cell_type": "code",
   "execution_count": null,
   "metadata": {
    "colab": {},
    "colab_type": "code",
    "id": "-ukxxqu-CDYM"
   },
   "outputs": [],
   "source": [
    "# Valor do Kinder Ovo\n",
    "kinder_roubo = 7.50 # Atenção. Separação de casas decimais no python é feita com \n",
    "                    # '.' e não ',' vírgula."
   ]
  },
  {
   "cell_type": "code",
   "execution_count": null,
   "metadata": {
    "colab": {
     "base_uri": "https://localhost:8080/",
     "height": 34
    },
    "colab_type": "code",
    "id": "bjgCqXzMz21P",
    "outputId": "db08306b-8596-40c1-dd53-7318ffdde2cb"
   },
   "outputs": [
    {
     "name": "stdout",
     "output_type": "stream",
     "text": [
      "7.5\n"
     ]
    }
   ],
   "source": [
    "print(kinder_roubo)"
   ]
  },
  {
   "cell_type": "markdown",
   "metadata": {
    "colab_type": "text",
    "id": "wEDk6CWc0kgf"
   },
   "source": [
    "### Exercício 02\n",
    "\n",
    "Quantos Kinder roubos podem ser comprados com um salário mínimo em 2020? (Salário mínimo no Brasil é de R$ 1045.00).\n",
    "\n",
    "Dica: Você pode consultar a tabela de [operadores matemáticos](https://colab.research.google.com/github/zetta-health/exp-curso-python-saude/blob/master/PySaude_02_python_03_tipos_de_operadores.ipynb#scrollTo=_1K-9jikvNY4)."
   ]
  },
  {
   "cell_type": "code",
   "execution_count": null,
   "metadata": {
    "colab": {},
    "colab_type": "code",
    "id": "MXivCtGT1rwy"
   },
   "outputs": [],
   "source": [
    "kinder_roubo = 7.50\n",
    "salario_minimo = 1045.00 \n",
    "\n",
    "# Complete com sua solução:"
   ]
  },
  {
   "cell_type": "markdown",
   "metadata": {
    "colab_type": "text",
    "id": "RGH16TRi1Rec"
   },
   "source": [
    "**Clique aqui para ver a resposta**\n",
    "<!--\n",
    "salario_minimo = 1045.00\n",
    "n_kinder = salario_minimo / kinder_roubo\n",
    "print(n_kinder)\n",
    "--> "
   ]
  },
  {
   "cell_type": "markdown",
   "metadata": {
    "colab_type": "text",
    "id": "n-VgHJt12hrA"
   },
   "source": [
    "## Listas\n"
   ]
  },
  {
   "cell_type": "code",
   "execution_count": null,
   "metadata": {
    "colab": {},
    "colab_type": "code",
    "id": "I2CAW33-0px9"
   },
   "outputs": [],
   "source": [
    "# Listas são definidas entre colchetes.\n",
    "lista_vazia = []                  # Lista vazia\n",
    "lista_01 = [1, 3, 5, 7, 9]        # Lista de int\n",
    "lista_02 = [2.0, 1.0, 0.0, 10.0]  # Lista de floats\n",
    "lista_03 = [lista_01, lista_02]   # Criar lista de listas a partir de listas"
   ]
  },
  {
   "cell_type": "code",
   "execution_count": null,
   "metadata": {
    "colab": {
     "base_uri": "https://localhost:8080/",
     "height": 34
    },
    "colab_type": "code",
    "id": "Cs3T7MrW3PMx",
    "outputId": "73b2c6ce-bbcf-4085-9615-a756555aa165"
   },
   "outputs": [
    {
     "data": {
      "text/plain": [
       "2.0"
      ]
     },
     "execution_count": 5,
     "metadata": {
      "tags": []
     },
     "output_type": "execute_result"
    }
   ],
   "source": [
    "# Acessar valores de uma lista\n",
    "# Elas são indexadas por zero.\n",
    "lista_02[0]"
   ]
  },
  {
   "cell_type": "code",
   "execution_count": null,
   "metadata": {
    "colab": {
     "base_uri": "https://localhost:8080/",
     "height": 34
    },
    "colab_type": "code",
    "id": "IpmRz2YA3cep",
    "outputId": "d4539a43-74a0-41db-fb36-3e7614261803"
   },
   "outputs": [
    {
     "name": "stdout",
     "output_type": "stream",
     "text": [
      "[3, 5, 7, 9]\n"
     ]
    }
   ],
   "source": [
    "# Você também pode acessar listas dentro de listas\n",
    "lista_03[0][1]\n",
    "\n",
    "# Pode remover valores com o método 'pop'\n",
    "# Ex. Remover o primeiro item da lista\n",
    "lista_01.pop(0)\n",
    "print(lista_01)"
   ]
  },
  {
   "cell_type": "code",
   "execution_count": null,
   "metadata": {
    "colab": {
     "base_uri": "https://localhost:8080/",
     "height": 34
    },
    "colab_type": "code",
    "id": "uLJLdpKQ9Bnv",
    "outputId": "d2b30279-e8bd-465f-ff42-3d22878ead23"
   },
   "outputs": [
    {
     "name": "stdout",
     "output_type": "stream",
     "text": [
      "[3, 5, 7, 9, 10]\n"
     ]
    }
   ],
   "source": [
    "# Pode acrescentar valores com o método 'append'\n",
    "lista_01.append(10)\n",
    "print(lista_01)"
   ]
  },
  {
   "cell_type": "code",
   "execution_count": null,
   "metadata": {
    "colab": {
     "base_uri": "https://localhost:8080/",
     "height": 51
    },
    "colab_type": "code",
    "id": "blp9tfOl7eX8",
    "outputId": "3ae014ad-591c-4c30-bf8d-7ac6aed27291"
   },
   "outputs": [
    {
     "name": "stdout",
     "output_type": "stream",
     "text": [
      "[0.0, 1.0, 2.0, 10.0]\n",
      "[10.0, 2.0, 1.0, 0.0]\n"
     ]
    }
   ],
   "source": [
    "# Pode ordenar a lista também na ordem crescente e decrescente com o método \n",
    "# 'sorted'\n",
    "crescente = sorted(lista_02)\n",
    "decrescente = sorted(lista_02, reverse=True)\n",
    "print(crescente, decrescente, sep='\\n') # Imprime as listas ordenadas."
   ]
  },
  {
   "cell_type": "code",
   "execution_count": null,
   "metadata": {
    "colab": {
     "base_uri": "https://localhost:8080/",
     "height": 34
    },
    "colab_type": "code",
    "id": "okKYoxa69gWY",
    "outputId": "f7935588-30b8-4b94-99a4-086b282b0178"
   },
   "outputs": [
    {
     "data": {
      "text/plain": [
       "34"
      ]
     },
     "execution_count": 9,
     "metadata": {
      "tags": []
     },
     "output_type": "execute_result"
    }
   ],
   "source": [
    "# Outros métodos que também podem ser usados em listas:\n",
    "#   min(minha_lista) - retorna o menor valor da lista.\n",
    "#   max(minha_lista) - retorna o maior valor da lista.\n",
    "#   sum(minha_lista) - retorna a soma da lista.\n",
    "#   len(minha_lista) - retorna o número de elementos da lista.\n",
    "\n",
    "# Retorna a soma dos números da lista_01\n",
    "sum(lista_01)"
   ]
  },
  {
   "cell_type": "code",
   "execution_count": null,
   "metadata": {
    "colab": {
     "base_uri": "https://localhost:8080/",
     "height": 34
    },
    "colab_type": "code",
    "id": "1Q0cbAXj9vI1",
    "outputId": "2f7664c1-74e2-4a35-852c-7a0738178513"
   },
   "outputs": [
    {
     "data": {
      "text/plain": [
       "[0, 1, 2, 3, 4, 5, 6, 7, 8, 9]"
      ]
     },
     "execution_count": 10,
     "metadata": {
      "tags": []
     },
     "output_type": "execute_result"
    }
   ],
   "source": [
    "# Criar listas numéricas\n",
    "list(range(10)) # Ou [range(10)]"
   ]
  },
  {
   "cell_type": "markdown",
   "metadata": {
    "colab_type": "text",
    "id": "RWW-AsrL1jNy"
   },
   "source": [
    "### Slicing \n",
    "\n",
    "Podemos selecionar apenas trechos de listas utilizando *slicing*.\n",
    "\n",
    "O primeiro valor representa o index do item inicial e o segundo representa onde se encerra. No entanto, o número que encerra o slice não é inclusivo, ou seja, quando o encerramento do slice é em 3, o index do último item será 2, um a menos."
   ]
  },
  {
   "cell_type": "code",
   "execution_count": null,
   "metadata": {
    "colab": {
     "base_uri": "https://localhost:8080/",
     "height": 34
    },
    "colab_type": "code",
    "id": "6yuXfWQ61y-a",
    "outputId": "c2062cc7-721d-4267-ef6c-259028995b89"
   },
   "outputs": [
    {
     "data": {
      "text/plain": [
       "[0, 1, 2]"
      ]
     },
     "execution_count": 14,
     "metadata": {
      "tags": []
     },
     "output_type": "execute_result"
    }
   ],
   "source": [
    "lista_slice = list(range(10))\n",
    "lista_slice[0:3] # Seleciona os itens indexados de 0 a 2"
   ]
  },
  {
   "cell_type": "markdown",
   "metadata": {
    "colab_type": "text",
    "id": "qjI4n06Unm18"
   },
   "source": [
    "Um terceiro valor opcional pode ser adicionado, representando o 'salto', ou quantos itens serão pulados até o próximo."
   ]
  },
  {
   "cell_type": "code",
   "execution_count": null,
   "metadata": {
    "colab": {
     "base_uri": "https://localhost:8080/",
     "height": 34
    },
    "colab_type": "code",
    "id": "aVBxXlYVnm19",
    "outputId": "c2062cc7-721d-4267-ef6c-259028995b89"
   },
   "outputs": [
    {
     "data": {
      "text/plain": [
       "[2, 4, 6, 8]"
      ]
     },
     "execution_count": 18,
     "metadata": {
      "tags": []
     },
     "output_type": "execute_result"
    }
   ],
   "source": [
    "lista_slice[2:9:2]"
   ]
  },
  {
   "cell_type": "markdown",
   "metadata": {
    "colab_type": "text",
    "id": "8s2NCZsnnm2C"
   },
   "source": [
    "Os valores também podem ser omitidos parar representar o primeiro ou último valor, dependendo de onde foi feita a omissão. Isso é útil para facilitar a representação da array inteira."
   ]
  },
  {
   "cell_type": "code",
   "execution_count": null,
   "metadata": {
    "colab": {
     "base_uri": "https://localhost:8080/",
     "height": 34
    },
    "colab_type": "code",
    "id": "CzNBttkMnm2D",
    "outputId": "c2062cc7-721d-4267-ef6c-259028995b89"
   },
   "outputs": [
    {
     "data": {
      "text/plain": [
       "[0, 2, 4, 6, 8]"
      ]
     },
     "execution_count": 17,
     "metadata": {
      "tags": []
     },
     "output_type": "execute_result"
    }
   ],
   "source": [
    "lista_slice[::2]"
   ]
  },
  {
   "cell_type": "markdown",
   "metadata": {
    "colab_type": "text",
    "id": "j28jagy1nm2J"
   },
   "source": [
    "E os valores também podem ser negativos, nesse caso a contagem começa de trás pra frente, sendo que o último item é indexado como `-1`. Isso é bastante útil para inverter a ordem das listas, ou selecionar o último elemento sem saber a quantidade exata."
   ]
  },
  {
   "cell_type": "code",
   "execution_count": null,
   "metadata": {
    "colab": {
     "base_uri": "https://localhost:8080/",
     "height": 34
    },
    "colab_type": "code",
    "id": "gQ4j2H86nm2L",
    "outputId": "c2062cc7-721d-4267-ef6c-259028995b89"
   },
   "outputs": [
    {
     "data": {
      "text/plain": [
       "[9, 8, 7, 6, 5, 4, 3, 2, 1, 0]"
      ]
     },
     "execution_count": 19,
     "metadata": {
      "tags": []
     },
     "output_type": "execute_result"
    }
   ],
   "source": [
    "lista_slice[::-1]"
   ]
  },
  {
   "cell_type": "code",
   "execution_count": null,
   "metadata": {
    "colab": {},
    "colab_type": "code",
    "id": "v84LU4Rdnm2W",
    "outputId": "b069775e-742b-4eab-99b1-f02829a416ee"
   },
   "outputs": [
    {
     "data": {
      "text/plain": [
       "9"
      ]
     },
     "execution_count": 20,
     "metadata": {
      "tags": []
     },
     "output_type": "execute_result"
    }
   ],
   "source": [
    "lista_slice[-1]"
   ]
  },
  {
   "cell_type": "markdown",
   "metadata": {
    "colab_type": "text",
    "id": "-anoxJcM4aMD"
   },
   "source": [
    "### Exercício 03\n",
    "\n",
    "Qual valor é extraído com o comando 'lista_01[3]'?"
   ]
  },
  {
   "cell_type": "code",
   "execution_count": null,
   "metadata": {
    "colab": {},
    "colab_type": "code",
    "id": "gUrXqIHy-QR_"
   },
   "outputs": [],
   "source": []
  },
  {
   "cell_type": "markdown",
   "metadata": {
    "colab_type": "text",
    "id": "zITu2FUxk6CW"
   },
   "source": [
    "**Clique aqui para ver a resposta**\n",
    "\n",
    "<!--\n",
    "7\n",
    "-->"
   ]
  },
  {
   "cell_type": "markdown",
   "metadata": {
    "colab_type": "text",
    "id": "hhuCnCYq-TmP"
   },
   "source": [
    "### Exercício 04\n",
    "\n",
    "Qual o menor valor da lista abaixo. "
   ]
  },
  {
   "cell_type": "code",
   "execution_count": null,
   "metadata": {
    "colab": {},
    "colab_type": "code",
    "id": "syCEceRL_dgI"
   },
   "outputs": [],
   "source": [
    "# Não alterar linhas 2, 3 e 4.\n",
    "import random\n",
    "random.seed(42) # Fixa geração de números aleatórios.\n",
    "lista_ex_04 = [random.randint(0,100) for x in range(100)] # Cria lista\n",
    "\n",
    "# Seu código aqui."
   ]
  },
  {
   "cell_type": "markdown",
   "metadata": {
    "colab_type": "text",
    "id": "86WaiUwwCRdP"
   },
   "source": [
    "**Clique aqui para ver a resposta**\n",
    "\n",
    "<!--\n",
    "min(lista_ex_04)\n",
    "-->"
   ]
  },
  {
   "cell_type": "markdown",
   "metadata": {
    "colab_type": "text",
    "id": "xIUs8r4QHfK6"
   },
   "source": [
    "## Strings\n",
    "\n",
    "Strings são texto. É possível manipulá-las no Python. \n",
    "\n",
    "Para uma lista compreensiva veja a [documentação oficial](https://docs.python.org/3/library/string.html)."
   ]
  },
  {
   "cell_type": "code",
   "execution_count": null,
   "metadata": {
    "colab": {
     "base_uri": "https://localhost:8080/",
     "height": 34
    },
    "colab_type": "code",
    "id": "iLq9fuaeH0lm",
    "outputId": "35d8b73d-b4d5-4dee-8e9d-d2bd463b8b4f"
   },
   "outputs": [
    {
     "data": {
      "text/plain": [
       "'O Palmeiras não tem mundial e o brasileiro de 1987 é do Flamengo'"
      ]
     },
     "execution_count": 22,
     "metadata": {
      "tags": []
     },
     "output_type": "execute_result"
    }
   ],
   "source": [
    "# Exemplos de texto:\n",
    "verdade_absoluta_01 = 'O Palmeiras não tem mundial'\n",
    "verdade_absoluta_02 = \" e o brasileiro de 1987 é do Flamengo\"\n",
    "\n",
    "# Concatenação de string\n",
    "verdade_absoluta_01 + verdade_absoluta_02"
   ]
  },
  {
   "cell_type": "code",
   "execution_count": null,
   "metadata": {
    "colab": {},
    "colab_type": "code",
    "id": "ZoIU5G45H6HC"
   },
   "outputs": [],
   "source": [
    "# Existem diversas operações que podem ser feitas com strings. Exemplos:\n",
    "texto_minusculo = 'mesa,cadeira,caneta'\n",
    "texto_maiusculo = 'MESA,CADEIRA,CANETA'"
   ]
  },
  {
   "cell_type": "code",
   "execution_count": null,
   "metadata": {
    "colab": {
     "base_uri": "https://localhost:8080/",
     "height": 34
    },
    "colab_type": "code",
    "id": "8db_SRhuJStQ",
    "outputId": "8bf87794-01b1-444b-f155-139a3f486ba4"
   },
   "outputs": [
    {
     "data": {
      "text/plain": [
       "['mesa', 'cadeira', 'caneta']"
      ]
     },
     "execution_count": 11,
     "metadata": {
      "tags": []
     },
     "output_type": "execute_result"
    }
   ],
   "source": [
    "# Vamos separar as strings usando o método 'split'\n",
    "texto_minusculo.split(',')"
   ]
  },
  {
   "cell_type": "code",
   "execution_count": null,
   "metadata": {
    "colab": {
     "base_uri": "https://localhost:8080/",
     "height": 34
    },
    "colab_type": "code",
    "id": "M212NNFgJUOG",
    "outputId": "8e139148-ab8a-4bf4-b2c8-446a7d79c410"
   },
   "outputs": [
    {
     "data": {
      "text/plain": [
       "' e o brasileiro de 1987 é do Sport Club Recife'"
      ]
     },
     "execution_count": 25,
     "metadata": {
      "tags": []
     },
     "output_type": "execute_result"
    }
   ],
   "source": [
    "# Podemos substituir um trecho da string por outro com o método 'replace'\n",
    "verdade_absoluta_02.replace('Flamengo', 'Sport Club Recife')"
   ]
  },
  {
   "cell_type": "code",
   "execution_count": null,
   "metadata": {
    "colab": {
     "base_uri": "https://localhost:8080/",
     "height": 51
    },
    "colab_type": "code",
    "id": "kZyvgKlBJZM0",
    "outputId": "a935f960-26f6-4171-dece-c2861142bf97"
   },
   "outputs": [
    {
     "name": "stdout",
     "output_type": "stream",
     "text": [
      "['MESA', 'CADEIRA', 'CANETA']\n",
      "['mesa', 'cadeira', 'caneta']\n"
     ]
    }
   ],
   "source": [
    "# O método 'upper' converte as letras da string para maiúsculo e método 'lower'\n",
    "# as converte para minúsculo\n",
    "print(texto_minusculo.upper().split(','))\n",
    "print(texto_maiusculo.lower().split(','))"
   ]
  },
  {
   "cell_type": "markdown",
   "metadata": {
    "colab_type": "text",
    "id": "TC_UOIw-Kehn"
   },
   "source": [
    "### Exercício 05\n",
    "\n",
    "Adicione o nome do seu time de coração na string abaixo, utilizando o método 'replace':"
   ]
  },
  {
   "cell_type": "code",
   "execution_count": null,
   "metadata": {
    "colab": {},
    "colab_type": "code",
    "id": "eqF6ODHwLNCw"
   },
   "outputs": [],
   "source": [
    "cancao = '''Porque meu time bota pra ferver, \n",
    "E o nome dele são vocês que vão dizer \n",
    "\n",
    "Ô , ô , ô , ô , ô , ô , ô , ô , ô , ô , ô , ô Vasco!\n",
    "\n",
    "Porque meu time bota pra ferver, \n",
    "E o nome dele são vocês que vão dizer \n",
    "\n",
    "Ô , ô , ô , ô , ô , ô , ô , ô , ô , ô , ô , ô Vasco!\n",
    "'''"
   ]
  },
  {
   "cell_type": "code",
   "execution_count": null,
   "metadata": {
    "colab": {},
    "colab_type": "code",
    "id": "r4WYojpgQzmq"
   },
   "outputs": [],
   "source": [
    "# Seu código aqui:"
   ]
  },
  {
   "cell_type": "markdown",
   "metadata": {
    "colab_type": "text",
    "id": "kZV6uDYHLuHj"
   },
   "source": [
    "**Clique aqui para ver a resposta**\n",
    "\n",
    "<!--\n",
    "cancao.replace('Vasco', 'Seu time do Coracao aqui')\n",
    "-->"
   ]
  },
  {
   "cell_type": "markdown",
   "metadata": {
    "colab_type": "text",
    "id": "7BcuaSDPP356"
   },
   "source": [
    "## Dicionários"
   ]
  },
  {
   "cell_type": "code",
   "execution_count": null,
   "metadata": {
    "colab": {},
    "colab_type": "code",
    "id": "MiiYhH13kQml"
   },
   "outputs": [],
   "source": [
    "# Dicionários são compostos por chaves e valores.\n",
    "preco_alcool_em_gel = {'Asseptgel': 13.50, 'My Health' : 22.90,\n",
    "                       'Gelalcool' : 12.63, 'Total Protect' : 12.32}"
   ]
  },
  {
   "cell_type": "code",
   "execution_count": null,
   "metadata": {
    "colab": {
     "base_uri": "https://localhost:8080/",
     "height": 34
    },
    "colab_type": "code",
    "id": "g3vx6gOqQtax",
    "outputId": "5664ef0b-d85a-4df8-cd3d-0256d9ba8602"
   },
   "outputs": [
    {
     "data": {
      "text/plain": [
       "dict_values([13.5, 22.9, 12.63, 12.32])"
      ]
     },
     "execution_count": 2,
     "metadata": {
      "tags": []
     },
     "output_type": "execute_result"
    }
   ],
   "source": [
    "# Algumas operações aplicáveis a dicionários:\n",
    "#   keys() = retorna uma lista com o nome das chaves.\n",
    "#   values() = retorna uma lista com os valores.\n",
    "\n",
    "preco_alcool_em_gel.values()"
   ]
  },
  {
   "cell_type": "code",
   "execution_count": null,
   "metadata": {
    "colab": {
     "base_uri": "https://localhost:8080/",
     "height": 34
    },
    "colab_type": "code",
    "id": "zS8kVt5pf_ZK",
    "outputId": "0c29e0c3-352d-4277-ed7a-923101f1e1c9"
   },
   "outputs": [
    {
     "name": "stdout",
     "output_type": "stream",
     "text": [
      "20.5\n"
     ]
    }
   ],
   "source": [
    "# Os valores podem ser alterados.\n",
    "preco_alcool_em_gel['My Health'] = 20.50\n",
    "print(preco_alcool_em_gel['My Health'])"
   ]
  },
  {
   "cell_type": "code",
   "execution_count": null,
   "metadata": {
    "colab": {
     "base_uri": "https://localhost:8080/",
     "height": 34
    },
    "colab_type": "code",
    "id": "HayB6MlAi1E3",
    "outputId": "f830696d-bb79-4a6b-f779-04ef39f58e12"
   },
   "outputs": [
    {
     "name": "stdout",
     "output_type": "stream",
     "text": [
      "{'Asseptgel': 13.5, 'My Health': 20.5, 'Gelalcool': 12.63, 'Total Protect': 12.32, 'Sunlau': 16.5}\n"
     ]
    }
   ],
   "source": [
    "# Para adicionar nova chave:\n",
    "preco_alcool_em_gel['Sunlau'] = 16.50\n",
    "print(preco_alcool_em_gel)"
   ]
  },
  {
   "cell_type": "code",
   "execution_count": null,
   "metadata": {
    "colab": {
     "base_uri": "https://localhost:8080/",
     "height": 34
    },
    "colab_type": "code",
    "id": "c8RPhmYoi4j3",
    "outputId": "7bd1f254-6d6d-45d9-f090-0e4cd99c0006"
   },
   "outputs": [
    {
     "name": "stdout",
     "output_type": "stream",
     "text": [
      "{'Asseptgel': 13.5, 'My Health': 20.5, 'Gelalcool': 12.63, 'Total Protect': 12.32}\n"
     ]
    }
   ],
   "source": [
    "# Para deletar uma chave:\n",
    "del(preco_alcool_em_gel['Sunlau'])\n",
    "print(preco_alcool_em_gel)"
   ]
  },
  {
   "cell_type": "markdown",
   "metadata": {
    "colab_type": "text",
    "id": "BhK41jHbeW4s"
   },
   "source": [
    "### Exercício 06\n",
    "\n",
    "Substitua o preço atual do álcool em gel 'Asseptgel' pelo seu preço de promoção (R$ 11,90). Depois retorne o novo valor utilizando a função 'print'."
   ]
  },
  {
   "cell_type": "code",
   "execution_count": null,
   "metadata": {
    "colab": {},
    "colab_type": "code",
    "id": "au3gI-9ve9ob"
   },
   "outputs": [],
   "source": [
    "# Sua código aqui:"
   ]
  },
  {
   "cell_type": "markdown",
   "metadata": {
    "colab_type": "text",
    "id": "wkJaeYZufERX"
   },
   "source": [
    "**Clique aqui para ver a resposta**\n",
    "\n",
    "<!--\n",
    "preco_alcool_em_gel['Asseptgel'] = 11.90\n",
    "print(preco_alcool_em_gel['Asseptgel'])\n",
    "-->"
   ]
  },
  {
   "cell_type": "markdown",
   "metadata": {
    "colab_type": "text",
    "id": "qPBqaBPLDuLx"
   },
   "source": [
    "## Tuplas \n",
    "\n",
    "Tuplas são listas **imutáveis**.\n"
   ]
  },
  {
   "cell_type": "code",
   "execution_count": null,
   "metadata": {
    "colab": {
     "base_uri": "https://localhost:8080/",
     "height": 34
    },
    "colab_type": "code",
    "id": "63AAXqQID7P9",
    "outputId": "3c5ca020-2e5f-4f4b-cb84-8e83659c6b93"
   },
   "outputs": [
    {
     "data": {
      "text/plain": [
       "(1, 2, 3, 4)"
      ]
     },
     "execution_count": 16,
     "metadata": {
      "tags": []
     },
     "output_type": "execute_result"
    }
   ],
   "source": [
    "# Tuplas são definidas entre parênteses.\n",
    "tupla_1 = (1, 2, 3, 4)\n",
    "tupla_1"
   ]
  },
  {
   "cell_type": "code",
   "execution_count": null,
   "metadata": {
    "colab": {
     "base_uri": "https://localhost:8080/",
     "height": 34
    },
    "colab_type": "code",
    "id": "8Ex6L4pCEBXs",
    "outputId": "9c2f2e35-a752-4c1b-8e24-c0112b1d8bf4"
   },
   "outputs": [
    {
     "data": {
      "text/plain": [
       "tuple"
      ]
     },
     "execution_count": 17,
     "metadata": {
      "tags": []
     },
     "output_type": "execute_result"
    }
   ],
   "source": [
    "type(tupla_1)"
   ]
  },
  {
   "cell_type": "code",
   "execution_count": null,
   "metadata": {
    "colab": {
     "base_uri": "https://localhost:8080/",
     "height": 34
    },
    "colab_type": "code",
    "id": "zKyr84Z0ES0T",
    "outputId": "08c2fe09-57b6-49f5-fba4-c67b8d5d11f5"
   },
   "outputs": [
    {
     "data": {
      "text/plain": [
       "1"
      ]
     },
     "execution_count": 18,
     "metadata": {
      "tags": []
     },
     "output_type": "execute_result"
    }
   ],
   "source": [
    "# Acessar primeiro elemento da dupla\n",
    "tupla_1[0]"
   ]
  },
  {
   "cell_type": "markdown",
   "metadata": {
    "colab_type": "text",
    "id": "1xdygsVAEs-R"
   },
   "source": [
    "## Sets\n",
    "\n",
    "Sets são listas que **não possuem repetição**."
   ]
  },
  {
   "cell_type": "code",
   "execution_count": null,
   "metadata": {
    "colab": {},
    "colab_type": "code",
    "id": "SywCccEmElSH"
   },
   "outputs": [],
   "source": [
    "# Lista com repetições\n",
    "lista_duplicada = [0, 1, 1, 0, 2, 3, 5]"
   ]
  },
  {
   "cell_type": "code",
   "execution_count": null,
   "metadata": {
    "colab": {
     "base_uri": "https://localhost:8080/",
     "height": 34
    },
    "colab_type": "code",
    "id": "bfuMxx19FIA3",
    "outputId": "e1ffac6d-5e9d-4b9e-d92a-bc0f3b1494f3"
   },
   "outputs": [
    {
     "name": "stdout",
     "output_type": "stream",
     "text": [
      "{0, 1, 2, 3, 5}\n"
     ]
    }
   ],
   "source": [
    "meu_set = set(lista_duplicada)\n",
    "print(meu_set)"
   ]
  },
  {
   "cell_type": "markdown",
   "metadata": {
    "colab_type": "text",
    "id": "Df3Ue54ZFnIh"
   },
   "source": [
    "### Exercício 07\n",
    "\n",
    "Crie uma lista sem os elementos duplicados abaixo:"
   ]
  },
  {
   "cell_type": "code",
   "execution_count": null,
   "metadata": {
    "colab": {},
    "colab_type": "code",
    "id": "4lGEVDuxF2EJ"
   },
   "outputs": [],
   "source": [
    "# Não alterar linha 2.\n",
    "lista_ex_05 = [random.randint(0,10) for x in range(100)]\n",
    "\n",
    "# Sua resposta."
   ]
  },
  {
   "cell_type": "markdown",
   "metadata": {
    "colab_type": "text",
    "id": "gupYspSnGRQI"
   },
   "source": [
    "**Clique aqui para ver a resposta**\n",
    "\n",
    "<!--\n",
    "list(set(lista_ex_05))\n",
    "-->"
   ]
  },
  {
   "cell_type": "markdown",
   "metadata": {
    "colab_type": "text",
    "id": "r24Voq2vnqOe"
   },
   "source": [
    "# **Yey! Parabéns por ter completado este notebook!**\n",
    "\n",
    "\n",
    "Este notebook faz parte do curso de *Introdução ao Python para Gestão da Saúde*, ministrado por [Caio Salgado](https://www.linkedin.com/in/caio-salgado-b5758312/) e oferecido pela [Zetta Exponential](https://www.linkedin.com/company/zetta-health-analytics/) e Universidade Federal de Viçosa. Foi escrito por:\n",
    "\n",
    "* [Ana Flávia Souza](https://www.linkedin.com/in/ana-fl%C3%A1via-souza-2b06151a5/): graduanda em Economia pela Universidade Federal de Viçosa e estagiária na Zetta Exponential.\n",
    "\n",
    "* [Gabriel Kakizaki](https://www.linkedin.com/in/gabriel-kakizaki-25b6311a5/): graduando em Administração pela Universidade Federal de Viçosa, membro do PET-ADM e estagiário na Zetta Exponential.\n",
    "\n",
    "Com supervisão de:\n",
    "\n",
    "* [Dr. Henrique Gomide](https://www.linkedin.com/in/hpgomide/?originalSubdomain=br): líder do comitê científico da empresa Zetta Health e professor da Universidade Federal de Viçosa. \n",
    "\n",
    "--- \n",
    "Copyright 2020, Zetta Exponential"
   ]
  }
 ],
 "metadata": {
  "colab": {
   "include_colab_link": true,
   "name": " Curso_Python_para_Gestão_de_Saúde_02_python_tipos_de_dados",
   "provenance": [],
   "toc_visible": true
  },
  "kernelspec": {
   "display_name": "Python 3 (ipykernel)",
   "language": "python",
   "name": "python3"
  },
  "language_info": {
   "codemirror_mode": {
    "name": "ipython",
    "version": 3
   },
   "file_extension": ".py",
   "mimetype": "text/x-python",
   "name": "python",
   "nbconvert_exporter": "python",
   "pygments_lexer": "ipython3",
   "version": "3.8.13"
  }
 },
 "nbformat": 4,
 "nbformat_minor": 4
}
