{
 "cells": [
  {
   "cell_type": "markdown",
   "metadata": {
    "colab_type": "text",
    "id": "view-in-github"
   },
   "source": [
    "<a href=\"https://colab.research.google.com/github/henriquepgomide/exp-curso-python-saude/blob/master/PySaude_01_colab_visao_geral_02_markdown.ipynb\" target=\"_parent\"><img src=\"https://colab.research.google.com/assets/colab-badge.svg\" alt=\"Open In Colab\"/></a>"
   ]
  },
  {
   "cell_type": "markdown",
   "metadata": {
    "colab_type": "text",
    "id": "eO0440xqkdtf"
   },
   "source": [
    "<img src=\"https://raw.githubusercontent.com/henriquepgomide/exp-curso-python-saude/master/assets/pucrs-logo.svg\" width=\"300\" align=\"center\">"
   ]
  },
  {
   "cell_type": "markdown",
   "metadata": {
    "colab_type": "text",
    "id": "uTnBkRyvGvhW"
   },
   "source": [
    "Formatando textos no Colaboratory: Um guia para o Colaboratory markdown\n",
    "==="
   ]
  },
  {
   "cell_type": "markdown",
   "metadata": {
    "colab_type": "text",
    "id": "70pYkR9LiOV0"
   },
   "source": [
    "## O que é um markdown?\n",
    "\n",
    "O Colaboratory tem dois tipos de células: texto e código. As células de texto são formatadas usando uma linguagem markup simples, chamada de markdown e baseada na [linguagem markdown original](https://daringfireball.net/projects/markdown/syntax).\n",
    "\n"
   ]
  },
  {
   "cell_type": "markdown",
   "metadata": {
    "colab_type": "text",
    "id": "rNYHiQIw8Uh4"
   },
   "source": [
    "## Guia rápido\n",
    "\n",
    "Se você quiser checar a fonte do markdown, clique duas vezes em uma célula de texto para abrir tanto a fonte (à esquerda) quanto a versão renderizada (à direita). Acima da fonte do markdown, existe uma barra de ferramentas para auxiliar na edição.\n",
    "\n",
    "Cabeçalhos são criados utilizando \\#. Podemos usar múltiplas \\#\\#\\# para diminuir a ênfase. Por exemplo:\n",
    ">\\# Isso é equivalente a um &lt;h1> tag\n",
    "\n",
    ">\\##### Já isso é equivalente a um &lt;h5> tag\n",
    "\n",
    "Para escrever textos em  **negrito**, cercamos o texto com \\*\\*dois asteriscos\\*\\*, e para escrevê-los em *itálico*, usamos um \\*único asterisco\\* ou \\_underscore\\_. \\\n",
    "Podemos escrever, também, _**negrito** dentro de itálico_ e **vice-_versa_** . Textos ~~tachados~~ utilizam \\~\\~dois tis\\~\\~, enquanto os `mono-espaçados` (como códigos, por exemplo) utilizam \\`acento grave\\`.\n",
    "\n",
    "Os blocos são indentados utilizando \\>, e podemos indicar múltiplos níveis de indentação com a repetição. Por exemplo: \\>\\>\\> recua três níveis.\n",
    "\n",
    "Para criar listas ordenadas, digitamos um número qualquer, seguido de um ponto, no início da linha. No caso de listas não ordenadas, utilizamos apenas \\* ou - no início da linha.  As listas também podem ser aninhadas por indentação. Para cada nível de aninhamento, usamos dois espaços. \n",
    "\n",
    "[Links](https://research.google.com/colaboratory) são criados com \\[texto a ser linkado entre colchetes\\](e-url.html-entre-parênteses). URLs, como https://google.com, serão automaticamente linkados.\n",
    "Com o  caractere '!' , escrito antes de um link, criamos um link próprio para uma imagem inline: !\\[Alt text]\\(link-para-uma-imagem.png).\n",
    "\n",
    "Equações em $\\LaTeX$ são circundadas por `$`. Por exemplo, `$y = 0.1 x$` é renderizada da seguinte forma: $y = 0.1 x$. Dobrando o `$`, centralizamos o conteúdo das equações. \n",
    "\n",
    "Traços horizontais são criados utilizando três ou mais hífens, underscores ou asteriscos (\\-\\-\\-, \\_\\_\\_, or \\*\\*\\*) seguidos, na mesma linha. \n",
    "\n",
    "Para criar tabelas, usamos \\-\\-\\- para definir o limite entre o cabeçalho da coluna e a coluna, e \\|, para o limite entre as colunas.\n",
    "\n",
    "Veja também a [Documentação do GitHub](https://help.github.com/articles/basic-writing-and-formatting-syntax/) para uma versão similar, mas não idêntica, de markdown."
   ]
  },
  {
   "cell_type": "markdown",
   "metadata": {
    "colab_type": "text",
    "id": "eYaIiIaJOPqi"
   },
   "source": [
    "## Exemplos"
   ]
  },
  {
   "cell_type": "markdown",
   "metadata": {
    "colab_type": "text",
    "id": "tPqPXAKKkzaM"
   },
   "source": [
    "Aqui, temos exemplos de texto em markdown, para esclarecer sua função:\n",
    "\n",
    "##### \\#\\#\\#\\#\\#Esse texto é tratado como \\<h5> porque possui cinco hashes no início\n",
    "\n",
    "\\**itálico*\\* e \\__itálico_\\_\n",
    "\n",
    "**\\*\\*negrito\\*\\***\n",
    "\n",
    "\\~\\~~~tachado~~\\~\\~\n",
    "\n",
    "\\``mono-espaçado`\\`\n",
    "\n",
    "Sem indentação\n",
    ">\\>Um nível de indentação\n",
    ">>\\>\\>Dois níveis de indentação\n",
    "\n",
    "Lista ordenada:\n",
    "1. 1\\. Um\n",
    "1. 1\\. Dois\n",
    "1. 1\\. Três\n",
    "\n",
    "Lista não ordenada:\n",
    "* \\* Um\n",
    "* \\* Dois\n",
    "* \\* Três\n",
    "\n",
    "URL: https://google.com\n",
    "\n",
    "URL linkado: \\[[Colaboratory](https://research.google.com/colaboratory)]\\(https://research.google.com/colaboratory)\n",
    "\n",
    "\n",
    "Imagem inline: !\\[logo da Google](https://www.google.com/images/logos/google_logo_41.png)\n",
    ">![Google's logo](https://www.google.com/images/logos/google_logo_41.png)\n",
    "\n",
    "Equações:\n",
    "\n",
    "\n",
    "$y=x^3+4$\n",
    "\n",
    "\n",
    "\n",
    "\n",
    "\n",
    "Tabelas:\n",
    ">```\n",
    "Nome da primeira coluna | Nome da segunda coluna\n",
    "--- | ---\n",
    "Linha 1, Col 1 | Linha 1, Col 2\n",
    "Linha 2, Col 1 | Linha 2, Col 2\n",
    "```\n",
    "\n",
    "se torna:\n",
    "\n",
    ">Nome da primeira coluna | Nome da segunda coluna\n",
    ">--- | ---\n",
    ">Linha 1, Col 1 | Linha 1, Col 2\n",
    ">Linha 2, Col 1 | Linha 2, Col 2\n",
    "\n",
    "Linha horizontal feita com três traços (\\-\\-\\-):\n",
    "\n",
    "---\n",
    "\n"
   ]
  },
  {
   "cell_type": "markdown",
   "metadata": {
    "colab_type": "text",
    "id": "w86a4I4fmkvD"
   },
   "source": [
    "## Diferenças entre o Colaboratory markdown e outros dialetos de markdown\n",
    "\n",
    "O Colaboratory usa [marked.js](https://github.com/chjj/marked), e por isso, é bastante similar ao markdown utilizado pelo Jupyter e Github.\n",
    "\n",
    "As grandes diferenças são que o Colaboratory suporta equações (MathJax) $\\LaTeX$, como o Jupyter, mas não permite HTML tags em seu markdown, diferente de outros markdowns.\n",
    "\n",
    "Diferenças menores incluem o fato de que o Colaboratory não suporta destaque de sintaxe nos blocos de código, e nem suporta algumas adições do Github, como emojis e to-do checkboxes. \n",
    "\n",
    "Se for necessário incluir HTML em um Colaboratory notebook, veja [%%html mágicas](https://colab.research.google.com/github/zetta-health/exp-curso-python-saude/blob/master/PySaude_01_colab_visao_geral_01.ipynb#scrollTo=qM4myQGfQboQ)."
   ]
  },
  {
   "cell_type": "markdown",
   "metadata": {
    "colab_type": "text",
    "id": "uSx6SUb1Komv"
   },
   "source": [
    "## Referências úteis"
   ]
  },
  {
   "cell_type": "markdown",
   "metadata": {
    "colab_type": "text",
    "id": "5Y3CStVkLxqt"
   },
   "source": [
    "* [Fundamentos do Github markdown](https://help.github.com/articles/markdown-basics/)\n",
    "* [Markdown do Github](https://help.github.com/articles/github-flavored-markdown/)\n",
    "* [Original markdown: Sintaxe](http://daringfireball.net/projects/markdown/syntax)\n",
    "* [Original markdown: Fundamentos](http://daringfireball.net/projects/markdown/basics)\n",
    "* [Biblioteca marked.js usada pelo Colaboratory](https://github.com/chjj/marked)\n",
    "* [Matemática LaTex para equações](https://en.wikibooks.org/wiki/LaTeX/Mathematics)"
   ]
  },
  {
   "cell_type": "markdown",
   "metadata": {
    "colab_type": "text",
    "id": "h-s9VaNnkgP_"
   },
   "source": [
    "# **Yey! Parabéns por ter completado este notebook!**\n",
    "\n",
    "\n",
    "Este notebook faz parte do curso de *Introdução ao Python para Gestão da Saúde*, ministrado por [Caio Salgado](https://www.linkedin.com/in/caio-salgado-b5758312/) e oferecido pela [Zetta Exponential](https://www.linkedin.com/company/zetta-health-analytics/) e Universidade Federal de Viçosa. Foi escrito por:\n",
    "\n",
    "* [Ana Flávia Souza](https://www.linkedin.com/in/ana-fl%C3%A1via-souza-2b06151a5/): graduanda em Economia pela Universidade Federal de Viçosa e estagiária na Zetta Exponential.\n",
    "\n",
    "* [Gabriel Kakizaki](https://www.linkedin.com/in/gabriel-kakizaki-25b6311a5/): graduando em Administração pela Universidade Federal de Viçosa, membro do PET-ADM e estagiário na Zetta Exponential.\n",
    "\n",
    "Com supervisão de:\n",
    "\n",
    "* [Dr. Henrique Gomide](https://www.linkedin.com/in/hpgomide/?originalSubdomain=br): líder do comitê científico da empresa Zetta Health e professor da Universidade Federal de Viçosa. \n",
    "\n",
    "--- \n",
    "Copyright 2020, Zetta Exponential"
   ]
  }
 ],
 "metadata": {
  "colab": {
   "collapsed_sections": [],
   "include_colab_link": true,
   "name": "Curso_Python_para_Gestão_de_Saúde_01_Visão_geral_sobre_o_Colab_do_Google_Markdown.ipynb ",
   "provenance": []
  },
  "kernelspec": {
   "display_name": "Python 3 (ipykernel)",
   "language": "python",
   "name": "python3"
  },
  "language_info": {
   "codemirror_mode": {
    "name": "ipython",
    "version": 3
   },
   "file_extension": ".py",
   "mimetype": "text/x-python",
   "name": "python",
   "nbconvert_exporter": "python",
   "pygments_lexer": "ipython3",
   "version": "3.8.13"
  }
 },
 "nbformat": 4,
 "nbformat_minor": 4
}
