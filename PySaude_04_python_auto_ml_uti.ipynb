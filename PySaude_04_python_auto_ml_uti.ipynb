{
 "cells": [
  {
   "cell_type": "markdown",
   "metadata": {
    "colab_type": "text",
    "id": "view-in-github"
   },
   "source": [
    "<a href=\"https://colab.research.google.com/github/henriquepgomide/exp-curso-python-saude/blob/master/PySaude_03_python_arvore_regressao_projeto_final.ipynb\" target=\"_parent\"><img src=\"https://colab.research.google.com/assets/colab-badge.svg\" alt=\"Open In Colab\"/></a>"
   ]
  },
  {
   "cell_type": "markdown",
   "metadata": {
    "colab_type": "text",
    "id": "acA8OK4z-Js7"
   },
   "source": [
    "<img src=\"https://raw.githubusercontent.com/henriquepgomide/exp-curso-python-saude/master/assets/pucrs-logo.svg\" width=\"300\" align=\"center\">"
   ]
  },
  {
   "cell_type": "markdown",
   "metadata": {
    "colab_type": "text",
    "id": "PxVY6SRp-Js8"
   },
   "source": [
    "# **Auto ML**\n",
    "---"
   ]
  },
  {
   "cell_type": "markdown",
   "metadata": {
    "colab_type": "text",
    "id": "uDr0OxKl-Js-"
   },
   "source": [
    "Neste notebook, usaremos uma biblioteca low-code chamada Pycaret. Treinaremos um algoritmo que prediz qual a chance de um paciente de UTI morrer ao final da internação.\n",
    "\n",
    "Para isso, usaremos dados sintéticos (gerados a partir de dados reais).\n",
    "\n",
    "## Índice\n",
    "\n",
    "* [Importando módulos](#imports)\n",
    "* [1. Carregando os dados](#data)\n",
    "* [2. Análise exploratória](#analysis)\n",
    "* [3. AutoML](#tree)"
   ]
  },
  {
   "cell_type": "markdown",
   "metadata": {
    "colab_type": "text",
    "id": "w3KO1ekt-Js_"
   },
   "source": [
    "## **Importando módulos** <a name=\"imports\"></a>"
   ]
  },
  {
   "cell_type": "markdown",
   "metadata": {
    "colab_type": "text",
    "id": "EzFLkHmW-JtC"
   },
   "source": [
    "A primeira coisa a ser feita é importar os módulos para termos as funcionalidades de trabalhar com os dados e construir os modelos.\n",
    "\n",
    "Caso haja algum erro você pode consultar nosso [notebook sobre bibliotecas](https://github.com/zetta-health/exp-curso-python-saude/blob/master/PySaude_01_colab_visao_geral_03_bibliotecas.ipynb)."
   ]
  },
  {
   "cell_type": "code",
   "execution_count": 1,
   "metadata": {
    "colab": {},
    "colab_type": "code",
    "id": "uDOcTSMSDqLo"
   },
   "outputs": [],
   "source": [
    " #!pip install -q pycaret"
   ]
  },
  {
   "cell_type": "code",
   "execution_count": 2,
   "metadata": {
    "colab": {},
    "colab_type": "code",
    "id": "LXguES6c-JtD"
   },
   "outputs": [],
   "source": [
    "# Trabalhar com os dados\n",
    "import pandas as pd\n",
    "\n",
    "# Criação e avaliação do modelo\n",
    "from pycaret.classification import *\n",
    "\n",
    "# Visualização\n",
    "import matplotlib.pyplot as plt\n",
    "import seaborn as sns\n",
    "\n",
    "# Separar dados de treino e teste\n",
    "from sklearn.model_selection import train_test_split"
   ]
  },
  {
   "cell_type": "markdown",
   "metadata": {
    "colab_type": "text",
    "id": "W7C63JBx-JtN"
   },
   "source": [
    "---"
   ]
  },
  {
   "cell_type": "markdown",
   "metadata": {
    "colab_type": "text",
    "id": "ZUieKNZD-JtP"
   },
   "source": [
    "## **1. Carregando os dados** <a name=\"data\"></a>"
   ]
  },
  {
   "cell_type": "markdown",
   "metadata": {
    "colab_type": "text",
    "id": "84E-u_Tz-JtQ"
   },
   "source": [
    "Agora vamos carregar nosso dataset! Esse banco de dados relaciona gastos de um plano de saúde com seus beneficiários com alguns atributos que podem impactar nesses gastos, como idade e sexo. \n",
    "\n",
    "Podemos utilizá-lo para criar um modelo que preverá os custos de um beneficiário que não esteja nesta base."
   ]
  },
  {
   "cell_type": "code",
   "execution_count": 3,
   "metadata": {
    "colab": {},
    "colab_type": "code",
    "id": "pKXdkU7D-JtS"
   },
   "outputs": [
    {
     "data": {
      "text/html": [
       "<div>\n",
       "<style scoped>\n",
       "    .dataframe tbody tr th:only-of-type {\n",
       "        vertical-align: middle;\n",
       "    }\n",
       "\n",
       "    .dataframe tbody tr th {\n",
       "        vertical-align: top;\n",
       "    }\n",
       "\n",
       "    .dataframe thead th {\n",
       "        text-align: right;\n",
       "    }\n",
       "</style>\n",
       "<table border=\"1\" class=\"dataframe\">\n",
       "  <thead>\n",
       "    <tr style=\"text-align: right;\">\n",
       "      <th></th>\n",
       "      <th>IE_SEXO_F</th>\n",
       "      <th>DS_CLINICA_CIRURGICA</th>\n",
       "      <th>IS_DEAD</th>\n",
       "      <th>NR_ANOS</th>\n",
       "      <th>FIRST_24H_QT_SATURACAO_O2_MEAN</th>\n",
       "      <th>FIRST_24H_QT_FREQ_CARDIACA_MEAN</th>\n",
       "      <th>FIRST_24H_QT_TEMP_MEAN</th>\n",
       "      <th>FIRST_24H_QT_PA_DIASTOLICA_MEAN</th>\n",
       "      <th>FIRST_24H_QT_PA_SISTOLICA_MEAN</th>\n",
       "      <th>FIRST_24H_QT_FREQ_RESP_MEAN</th>\n",
       "    </tr>\n",
       "  </thead>\n",
       "  <tbody>\n",
       "    <tr>\n",
       "      <th>8284</th>\n",
       "      <td>0</td>\n",
       "      <td>0</td>\n",
       "      <td>1</td>\n",
       "      <td>51</td>\n",
       "      <td>88.762466</td>\n",
       "      <td>77.037460</td>\n",
       "      <td>35.421879</td>\n",
       "      <td>58.611290</td>\n",
       "      <td>91.507057</td>\n",
       "      <td>15.665819</td>\n",
       "    </tr>\n",
       "    <tr>\n",
       "      <th>4235</th>\n",
       "      <td>1</td>\n",
       "      <td>1</td>\n",
       "      <td>0</td>\n",
       "      <td>53</td>\n",
       "      <td>89.094940</td>\n",
       "      <td>69.615089</td>\n",
       "      <td>35.522194</td>\n",
       "      <td>56.914524</td>\n",
       "      <td>92.442238</td>\n",
       "      <td>15.461881</td>\n",
       "    </tr>\n",
       "    <tr>\n",
       "      <th>3007</th>\n",
       "      <td>0</td>\n",
       "      <td>1</td>\n",
       "      <td>0</td>\n",
       "      <td>51</td>\n",
       "      <td>87.588669</td>\n",
       "      <td>73.378471</td>\n",
       "      <td>35.439312</td>\n",
       "      <td>51.388302</td>\n",
       "      <td>86.169144</td>\n",
       "      <td>15.428762</td>\n",
       "    </tr>\n",
       "    <tr>\n",
       "      <th>4750</th>\n",
       "      <td>1</td>\n",
       "      <td>0</td>\n",
       "      <td>0</td>\n",
       "      <td>53</td>\n",
       "      <td>90.683563</td>\n",
       "      <td>68.961861</td>\n",
       "      <td>35.546944</td>\n",
       "      <td>58.216984</td>\n",
       "      <td>93.852394</td>\n",
       "      <td>15.554554</td>\n",
       "    </tr>\n",
       "    <tr>\n",
       "      <th>8914</th>\n",
       "      <td>1</td>\n",
       "      <td>1</td>\n",
       "      <td>0</td>\n",
       "      <td>56</td>\n",
       "      <td>87.687408</td>\n",
       "      <td>77.406525</td>\n",
       "      <td>35.571037</td>\n",
       "      <td>49.751556</td>\n",
       "      <td>86.862862</td>\n",
       "      <td>15.849882</td>\n",
       "    </tr>\n",
       "  </tbody>\n",
       "</table>\n",
       "</div>"
      ],
      "text/plain": [
       "      IE_SEXO_F  DS_CLINICA_CIRURGICA  IS_DEAD  NR_ANOS  \\\n",
       "8284          0                     0        1       51   \n",
       "4235          1                     1        0       53   \n",
       "3007          0                     1        0       51   \n",
       "4750          1                     0        0       53   \n",
       "8914          1                     1        0       56   \n",
       "\n",
       "      FIRST_24H_QT_SATURACAO_O2_MEAN  FIRST_24H_QT_FREQ_CARDIACA_MEAN  \\\n",
       "8284                       88.762466                        77.037460   \n",
       "4235                       89.094940                        69.615089   \n",
       "3007                       87.588669                        73.378471   \n",
       "4750                       90.683563                        68.961861   \n",
       "8914                       87.687408                        77.406525   \n",
       "\n",
       "      FIRST_24H_QT_TEMP_MEAN  FIRST_24H_QT_PA_DIASTOLICA_MEAN  \\\n",
       "8284               35.421879                        58.611290   \n",
       "4235               35.522194                        56.914524   \n",
       "3007               35.439312                        51.388302   \n",
       "4750               35.546944                        58.216984   \n",
       "8914               35.571037                        49.751556   \n",
       "\n",
       "      FIRST_24H_QT_PA_SISTOLICA_MEAN  FIRST_24H_QT_FREQ_RESP_MEAN  \n",
       "8284                       91.507057                    15.665819  \n",
       "4235                       92.442238                    15.461881  \n",
       "3007                       86.169144                    15.428762  \n",
       "4750                       93.852394                    15.554554  \n",
       "8914                       86.862862                    15.849882  "
      ]
     },
     "execution_count": 3,
     "metadata": {},
     "output_type": "execute_result"
    }
   ],
   "source": [
    "URL = 'https://raw.githubusercontent.com/henriquepgomide/exp-curso-python-saude/master/data/icu_simulated_data.parquet'\n",
    "\n",
    "# EXERCICIO 01 [8 pontos]. Complete seu código abaixo para ler os dados da URL. Use a função 'pd.read_csv'.\n",
    "df = pd.read_parquet(URL)\n",
    "\n",
    "# EXERCICIO 02 [8 pontos]. Imprima os cinco primeiros casos.\n",
    "df.tail()"
   ]
  },
  {
   "cell_type": "code",
   "execution_count": 4,
   "metadata": {
    "colab": {},
    "colab_type": "code",
    "id": "oLxQW4zs-JtZ"
   },
   "outputs": [
    {
     "data": {
      "text/plain": [
       "(500, 10)"
      ]
     },
     "execution_count": 4,
     "metadata": {},
     "output_type": "execute_result"
    }
   ],
   "source": [
    "# EXERCICIO 03 [8 pontos]. Quantos atributos (colunas) e quantas linhas existem no banco de dados?\n",
    "df.shape"
   ]
  },
  {
   "cell_type": "code",
   "execution_count": 5,
   "metadata": {},
   "outputs": [
    {
     "data": {
      "text/plain": [
       "Index(['IE_SEXO_F', 'DS_CLINICA_CIRURGICA', 'IS_DEAD', 'NR_ANOS',\n",
       "       'FIRST_24H_QT_SATURACAO_O2_MEAN', 'FIRST_24H_QT_FREQ_CARDIACA_MEAN',\n",
       "       'FIRST_24H_QT_TEMP_MEAN', 'FIRST_24H_QT_PA_DIASTOLICA_MEAN',\n",
       "       'FIRST_24H_QT_PA_SISTOLICA_MEAN', 'FIRST_24H_QT_FREQ_RESP_MEAN'],\n",
       "      dtype='object')"
      ]
     },
     "execution_count": 5,
     "metadata": {},
     "output_type": "execute_result"
    }
   ],
   "source": [
    "df.columns"
   ]
  },
  {
   "cell_type": "markdown",
   "metadata": {
    "colab_type": "text",
    "id": "4TvnyiIf-Jtg"
   },
   "source": [
    "---"
   ]
  },
  {
   "cell_type": "markdown",
   "metadata": {
    "colab_type": "text",
    "id": "-trLW85v-JuD"
   },
   "source": [
    "## **2. Análise exploratória** <a name='analysis'></a>"
   ]
  },
  {
   "cell_type": "markdown",
   "metadata": {
    "colab_type": "text",
    "id": "du-9KdIF-Jth"
   },
   "source": [
    "Como vimos no nosso notebook de [análise exploratória](https://github.com/zetta-health/exp-curso-python-saude/blob/master/PySaude_03_python_analise_exploratoria_de_dados.ipynb), é bastante comum haver erros no preenchimento de alguns campos, como atributos com valores escritos de formas diferentes, ou atributos com valores ausentes.  \n",
    "\n",
    "\n",
    "Além disso, é possível que os valores venham com os tipos de dados que precisam ser convertidos, por exemplo, às vezes números podem vir como _objects_ (_strings_).\n",
    "\n",
    "\n",
    "Precisamos tratar desses problemas antes de realizar qualquer análise e construir algum modelo."
   ]
  },
  {
   "cell_type": "code",
   "execution_count": 6,
   "metadata": {
    "colab": {
     "base_uri": "https://localhost:8080/",
     "height": 255
    },
    "colab_type": "code",
    "id": "FHXz2lt_-Jtk",
    "outputId": "e9cbc618-4640-4aad-ef4d-e45cb2510a90"
   },
   "outputs": [
    {
     "name": "stdout",
     "output_type": "stream",
     "text": [
      "<class 'pandas.core.frame.DataFrame'>\n",
      "Int64Index: 500 entries, 113 to 8914\n",
      "Data columns (total 10 columns):\n",
      " #   Column                           Non-Null Count  Dtype  \n",
      "---  ------                           --------------  -----  \n",
      " 0   IE_SEXO_F                        500 non-null    uint8  \n",
      " 1   DS_CLINICA_CIRURGICA             500 non-null    uint8  \n",
      " 2   IS_DEAD                          500 non-null    int64  \n",
      " 3   NR_ANOS                          500 non-null    int64  \n",
      " 4   FIRST_24H_QT_SATURACAO_O2_MEAN   500 non-null    float64\n",
      " 5   FIRST_24H_QT_FREQ_CARDIACA_MEAN  500 non-null    float64\n",
      " 6   FIRST_24H_QT_TEMP_MEAN           500 non-null    float64\n",
      " 7   FIRST_24H_QT_PA_DIASTOLICA_MEAN  500 non-null    float64\n",
      " 8   FIRST_24H_QT_PA_SISTOLICA_MEAN   500 non-null    float64\n",
      " 9   FIRST_24H_QT_FREQ_RESP_MEAN      500 non-null    float64\n",
      "dtypes: float64(6), int64(2), uint8(2)\n",
      "memory usage: 36.1 KB\n"
     ]
    }
   ],
   "source": [
    "df.info()"
   ]
  },
  {
   "cell_type": "markdown",
   "metadata": {
    "colab_type": "text",
    "id": "HXsnxBk_-Jtp"
   },
   "source": [
    "Vamos verificar os valores das colunas `sex`, `smoker` e `region`, que foram carregadas como `object`, ou seja, são categóricas. Isso significa que os valores podem ser letras, números, ou uma mistura dos dois.\n",
    "\n",
    "Para começar, vamos visualizar a frequência dessas variáveis."
   ]
  },
  {
   "cell_type": "code",
   "execution_count": 7,
   "metadata": {
    "colab": {
     "base_uri": "https://localhost:8080/",
     "height": 69
    },
    "colab_type": "code",
    "id": "OtG6_lvt-Jtq",
    "outputId": "ab8756d6-449d-46fc-89f1-87645dd61f63"
   },
   "outputs": [
    {
     "data": {
      "text/plain": [
       "1    255\n",
       "0    245\n",
       "Name: IE_SEXO_F, dtype: int64"
      ]
     },
     "execution_count": 7,
     "metadata": {},
     "output_type": "execute_result"
    }
   ],
   "source": [
    "df['IE_SEXO_F'].value_counts()"
   ]
  },
  {
   "cell_type": "code",
   "execution_count": 8,
   "metadata": {
    "colab": {
     "base_uri": "https://localhost:8080/",
     "height": 69
    },
    "colab_type": "code",
    "id": "liVuThjh-Jtv",
    "outputId": "db8b4711-07ec-425b-c331-2f03fe9712c8"
   },
   "outputs": [
    {
     "data": {
      "text/plain": [
       "1    313\n",
       "0    187\n",
       "Name: IS_DEAD, dtype: int64"
      ]
     },
     "execution_count": 8,
     "metadata": {},
     "output_type": "execute_result"
    }
   ],
   "source": [
    "df['IS_DEAD'].value_counts()"
   ]
  },
  {
   "cell_type": "code",
   "execution_count": 9,
   "metadata": {
    "colab": {
     "base_uri": "https://localhost:8080/",
     "height": 104
    },
    "colab_type": "code",
    "id": "5fUWOB1w-Jtz",
    "outputId": "e6942cb7-94d9-426e-d508-753649f8e129"
   },
   "outputs": [
    {
     "data": {
      "text/plain": [
       "0    336\n",
       "1    164\n",
       "Name: DS_CLINICA_CIRURGICA, dtype: int64"
      ]
     },
     "execution_count": 9,
     "metadata": {},
     "output_type": "execute_result"
    }
   ],
   "source": [
    "df['DS_CLINICA_CIRURGICA'].value_counts()"
   ]
  },
  {
   "cell_type": "markdown",
   "metadata": {
    "colab_type": "text",
    "id": "ZOUwZwfu-Jt5"
   },
   "source": [
    "Será preciso converter as variáveis `categóricas` em `numéricas`,  para podermos utilizá-las nos modelos."
   ]
  },
  {
   "cell_type": "markdown",
   "metadata": {
    "colab_type": "text",
    "id": "d7hFMkOg-O4k"
   },
   "source": [
    "Podemos facilitar a visualização dos dados usando gráficos."
   ]
  },
  {
   "cell_type": "markdown",
   "metadata": {
    "colab_type": "text",
    "id": "0f_Ppo0l-JuD"
   },
   "source": [
    "### Idade dos participantes - histograma"
   ]
  },
  {
   "cell_type": "code",
   "execution_count": 10,
   "metadata": {
    "colab": {},
    "colab_type": "code",
    "id": "UV6_jQXp-JuE"
   },
   "outputs": [
    {
     "data": {
      "text/plain": [
       "<AxesSubplot:xlabel='FIRST_24H_QT_SATURACAO_O2_MEAN', ylabel='Count'>"
      ]
     },
     "execution_count": 10,
     "metadata": {},
     "output_type": "execute_result"
    },
    {
     "data": {
      "image/png": "[encoded data removed]",
      "text/plain": [
       "<Figure size 800x550 with 1 Axes>"
      ]
     },
     "metadata": {},
     "output_type": "display_data"
    }
   ],
   "source": [
    "# EXERCICIO 04 [8 pontos]. Faça um histograma com o atributo 'age' (idade).\n",
    "sns.histplot(data=df, x=\"FIRST_24H_QT_SATURACAO_O2_MEAN\", hue=\"IS_DEAD\")"
   ]
  },
  {
   "cell_type": "markdown",
   "metadata": {
    "colab_type": "text",
    "id": "R4M8pZl6-JuU"
   },
   "source": [
    "### Distribuição por sexo - gráfico de barras"
   ]
  },
  {
   "cell_type": "code",
   "execution_count": 11,
   "metadata": {
    "colab": {},
    "colab_type": "code",
    "id": "8lDg2sh1-JuV"
   },
   "outputs": [
    {
     "data": {
      "text/plain": [
       "<AxesSubplot:>"
      ]
     },
     "execution_count": 11,
     "metadata": {},
     "output_type": "execute_result"
    },
    {
     "data": {
      "image/png": "[encoded data removed]",
      "text/plain": [
       "<Figure size 800x550 with 1 Axes>"
      ]
     },
     "metadata": {},
     "output_type": "display_data"
    }
   ],
   "source": [
    "# EXERCICIO 05 [8 pontos]. Faça um gráfico de barras com o atributo 'sex' (sexo).\n",
    "df[\"IE_SEXO_F\"].value_counts().plot(kind=\"bar\")"
   ]
  },
  {
   "cell_type": "markdown",
   "metadata": {
    "colab_type": "text",
    "id": "Dd4hxvZ_-JuY"
   },
   "source": [
    "### Frequência cardíaca por desfecho - boxplot"
   ]
  },
  {
   "cell_type": "code",
   "execution_count": 12,
   "metadata": {
    "colab": {},
    "colab_type": "code",
    "id": "SeTLcPcN-JuZ"
   },
   "outputs": [],
   "source": [
    "# EXERCICIO 06 [8 pontos]. Faça um boxplot (caixas e bigodes) comparando a frequência cardíaca\n",
    "# média nas primeiras 24 horas por desfecho (IS_DEAD)\n",
    "# Este link pode ser útil: https://seaborn.pydata.org/generated/seaborn.boxplot.html\n"
   ]
  },
  {
   "cell_type": "markdown",
   "metadata": {
    "colab_type": "text",
    "id": "R_kMWzmo-Juh"
   },
   "source": [
    "## **3. Auto-ML** <a name='tree'></a>\n",
    "\n",
    "É hora de construir o modelo usando Pycaret, a biblioteca low-code para\n",
    "aprendizado de máquina!"
   ]
  },
  {
   "cell_type": "markdown",
   "metadata": {},
   "source": [
    "### a) Separar variáveis e desfecho (o que estamos tentando prever)"
   ]
  },
  {
   "cell_type": "code",
   "execution_count": 13,
   "metadata": {},
   "outputs": [],
   "source": [
    "X = df.drop(columns=[\"IS_DEAD\"])\n",
    "y = df[\"IS_DEAD\"]"
   ]
  },
  {
   "cell_type": "markdown",
   "metadata": {
    "colab_type": "text",
    "id": "gOjbOakC-Juo"
   },
   "source": [
    "### b) Separar banco de treino e teste\n",
    "\n",
    "É comum dividirmos o banco de dados em um **banco de treino** e um **banco de teste**. Como os nomes sugerem, o banco de treino é usado para treinar o modelo e o banco de teste é usado para testarmos a habilidade preditiva do modelo."
   ]
  },
  {
   "cell_type": "code",
   "execution_count": 14,
   "metadata": {
    "colab": {},
    "colab_type": "code",
    "id": "A6gl2Ioe-Juo"
   },
   "outputs": [],
   "source": [
    "# Separar banco de treino e teste\n",
    "X_train, X_test, y_train, y_test = train_test_split(X, y, test_size=0.2, random_state=0, stratify=y)\n",
    "\n",
    "df_train = pd.merge(X_train, y_train, how=\"left\", left_index=True, right_index=True)\n",
    "df_test = pd.merge(X_test, y_test, how=\"left\", left_index=True, right_index=True)"
   ]
  },
  {
   "cell_type": "markdown",
   "metadata": {
    "colab_type": "text",
    "id": "l_EAbb7Y-Jus"
   },
   "source": [
    "### c) Selecionar algoritmo e parâmetros, treinar modelo"
   ]
  },
  {
   "cell_type": "code",
   "execution_count": 15,
   "metadata": {},
   "outputs": [
    {
     "data": {
      "text/html": [
       "<style type=\"text/css\">\n",
       "#T_746cc_row29_col1, #T_746cc_row44_col1 {\n",
       "  background-color: lightgreen;\n",
       "}\n",
       "</style>\n",
       "<table id=\"T_746cc\">\n",
       "  <thead>\n",
       "    <tr>\n",
       "      <th class=\"blank level0\" >&nbsp;</th>\n",
       "      <th id=\"T_746cc_level0_col0\" class=\"col_heading level0 col0\" >Description</th>\n",
       "      <th id=\"T_746cc_level0_col1\" class=\"col_heading level0 col1\" >Value</th>\n",
       "    </tr>\n",
       "  </thead>\n",
       "  <tbody>\n",
       "    <tr>\n",
       "      <th id=\"T_746cc_level0_row0\" class=\"row_heading level0 row0\" >0</th>\n",
       "      <td id=\"T_746cc_row0_col0\" class=\"data row0 col0\" >session_id</td>\n",
       "      <td id=\"T_746cc_row0_col1\" class=\"data row0 col1\" >1234</td>\n",
       "    </tr>\n",
       "    <tr>\n",
       "      <th id=\"T_746cc_level0_row1\" class=\"row_heading level0 row1\" >1</th>\n",
       "      <td id=\"T_746cc_row1_col0\" class=\"data row1 col0\" >Target</td>\n",
       "      <td id=\"T_746cc_row1_col1\" class=\"data row1 col1\" >IS_DEAD</td>\n",
       "    </tr>\n",
       "    <tr>\n",
       "      <th id=\"T_746cc_level0_row2\" class=\"row_heading level0 row2\" >2</th>\n",
       "      <td id=\"T_746cc_row2_col0\" class=\"data row2 col0\" >Target Type</td>\n",
       "      <td id=\"T_746cc_row2_col1\" class=\"data row2 col1\" >Binary</td>\n",
       "    </tr>\n",
       "    <tr>\n",
       "      <th id=\"T_746cc_level0_row3\" class=\"row_heading level0 row3\" >3</th>\n",
       "      <td id=\"T_746cc_row3_col0\" class=\"data row3 col0\" >Label Encoded</td>\n",
       "      <td id=\"T_746cc_row3_col1\" class=\"data row3 col1\" >None</td>\n",
       "    </tr>\n",
       "    <tr>\n",
       "      <th id=\"T_746cc_level0_row4\" class=\"row_heading level0 row4\" >4</th>\n",
       "      <td id=\"T_746cc_row4_col0\" class=\"data row4 col0\" >Original Data</td>\n",
       "      <td id=\"T_746cc_row4_col1\" class=\"data row4 col1\" >(404, 10)</td>\n",
       "    </tr>\n",
       "    <tr>\n",
       "      <th id=\"T_746cc_level0_row5\" class=\"row_heading level0 row5\" >5</th>\n",
       "      <td id=\"T_746cc_row5_col0\" class=\"data row5 col0\" >Missing Values</td>\n",
       "      <td id=\"T_746cc_row5_col1\" class=\"data row5 col1\" >False</td>\n",
       "    </tr>\n",
       "    <tr>\n",
       "      <th id=\"T_746cc_level0_row6\" class=\"row_heading level0 row6\" >6</th>\n",
       "      <td id=\"T_746cc_row6_col0\" class=\"data row6 col0\" >Numeric Features</td>\n",
       "      <td id=\"T_746cc_row6_col1\" class=\"data row6 col1\" >7</td>\n",
       "    </tr>\n",
       "    <tr>\n",
       "      <th id=\"T_746cc_level0_row7\" class=\"row_heading level0 row7\" >7</th>\n",
       "      <td id=\"T_746cc_row7_col0\" class=\"data row7 col0\" >Categorical Features</td>\n",
       "      <td id=\"T_746cc_row7_col1\" class=\"data row7 col1\" >2</td>\n",
       "    </tr>\n",
       "    <tr>\n",
       "      <th id=\"T_746cc_level0_row8\" class=\"row_heading level0 row8\" >8</th>\n",
       "      <td id=\"T_746cc_row8_col0\" class=\"data row8 col0\" >Ordinal Features</td>\n",
       "      <td id=\"T_746cc_row8_col1\" class=\"data row8 col1\" >False</td>\n",
       "    </tr>\n",
       "    <tr>\n",
       "      <th id=\"T_746cc_level0_row9\" class=\"row_heading level0 row9\" >9</th>\n",
       "      <td id=\"T_746cc_row9_col0\" class=\"data row9 col0\" >High Cardinality Features</td>\n",
       "      <td id=\"T_746cc_row9_col1\" class=\"data row9 col1\" >False</td>\n",
       "    </tr>\n",
       "    <tr>\n",
       "      <th id=\"T_746cc_level0_row10\" class=\"row_heading level0 row10\" >10</th>\n",
       "      <td id=\"T_746cc_row10_col0\" class=\"data row10 col0\" >High Cardinality Method</td>\n",
       "      <td id=\"T_746cc_row10_col1\" class=\"data row10 col1\" >None</td>\n",
       "    </tr>\n",
       "    <tr>\n",
       "      <th id=\"T_746cc_level0_row11\" class=\"row_heading level0 row11\" >11</th>\n",
       "      <td id=\"T_746cc_row11_col0\" class=\"data row11 col0\" >Transformed Train Set</td>\n",
       "      <td id=\"T_746cc_row11_col1\" class=\"data row11 col1\" >(282, 9)</td>\n",
       "    </tr>\n",
       "    <tr>\n",
       "      <th id=\"T_746cc_level0_row12\" class=\"row_heading level0 row12\" >12</th>\n",
       "      <td id=\"T_746cc_row12_col0\" class=\"data row12 col0\" >Transformed Test Set</td>\n",
       "      <td id=\"T_746cc_row12_col1\" class=\"data row12 col1\" >(122, 9)</td>\n",
       "    </tr>\n",
       "    <tr>\n",
       "      <th id=\"T_746cc_level0_row13\" class=\"row_heading level0 row13\" >13</th>\n",
       "      <td id=\"T_746cc_row13_col0\" class=\"data row13 col0\" >Shuffle Train-Test</td>\n",
       "      <td id=\"T_746cc_row13_col1\" class=\"data row13 col1\" >True</td>\n",
       "    </tr>\n",
       "    <tr>\n",
       "      <th id=\"T_746cc_level0_row14\" class=\"row_heading level0 row14\" >14</th>\n",
       "      <td id=\"T_746cc_row14_col0\" class=\"data row14 col0\" >Stratify Train-Test</td>\n",
       "      <td id=\"T_746cc_row14_col1\" class=\"data row14 col1\" >False</td>\n",
       "    </tr>\n",
       "    <tr>\n",
       "      <th id=\"T_746cc_level0_row15\" class=\"row_heading level0 row15\" >15</th>\n",
       "      <td id=\"T_746cc_row15_col0\" class=\"data row15 col0\" >Fold Generator</td>\n",
       "      <td id=\"T_746cc_row15_col1\" class=\"data row15 col1\" >StratifiedKFold</td>\n",
       "    </tr>\n",
       "    <tr>\n",
       "      <th id=\"T_746cc_level0_row16\" class=\"row_heading level0 row16\" >16</th>\n",
       "      <td id=\"T_746cc_row16_col0\" class=\"data row16 col0\" >Fold Number</td>\n",
       "      <td id=\"T_746cc_row16_col1\" class=\"data row16 col1\" >10</td>\n",
       "    </tr>\n",
       "    <tr>\n",
       "      <th id=\"T_746cc_level0_row17\" class=\"row_heading level0 row17\" >17</th>\n",
       "      <td id=\"T_746cc_row17_col0\" class=\"data row17 col0\" >CPU Jobs</td>\n",
       "      <td id=\"T_746cc_row17_col1\" class=\"data row17 col1\" >-1</td>\n",
       "    </tr>\n",
       "    <tr>\n",
       "      <th id=\"T_746cc_level0_row18\" class=\"row_heading level0 row18\" >18</th>\n",
       "      <td id=\"T_746cc_row18_col0\" class=\"data row18 col0\" >Use GPU</td>\n",
       "      <td id=\"T_746cc_row18_col1\" class=\"data row18 col1\" >False</td>\n",
       "    </tr>\n",
       "    <tr>\n",
       "      <th id=\"T_746cc_level0_row19\" class=\"row_heading level0 row19\" >19</th>\n",
       "      <td id=\"T_746cc_row19_col0\" class=\"data row19 col0\" >Log Experiment</td>\n",
       "      <td id=\"T_746cc_row19_col1\" class=\"data row19 col1\" >False</td>\n",
       "    </tr>\n",
       "    <tr>\n",
       "      <th id=\"T_746cc_level0_row20\" class=\"row_heading level0 row20\" >20</th>\n",
       "      <td id=\"T_746cc_row20_col0\" class=\"data row20 col0\" >Experiment Name</td>\n",
       "      <td id=\"T_746cc_row20_col1\" class=\"data row20 col1\" >clf-default-name</td>\n",
       "    </tr>\n",
       "    <tr>\n",
       "      <th id=\"T_746cc_level0_row21\" class=\"row_heading level0 row21\" >21</th>\n",
       "      <td id=\"T_746cc_row21_col0\" class=\"data row21 col0\" >USI</td>\n",
       "      <td id=\"T_746cc_row21_col1\" class=\"data row21 col1\" >c284</td>\n",
       "    </tr>\n",
       "    <tr>\n",
       "      <th id=\"T_746cc_level0_row22\" class=\"row_heading level0 row22\" >22</th>\n",
       "      <td id=\"T_746cc_row22_col0\" class=\"data row22 col0\" >Imputation Type</td>\n",
       "      <td id=\"T_746cc_row22_col1\" class=\"data row22 col1\" >simple</td>\n",
       "    </tr>\n",
       "    <tr>\n",
       "      <th id=\"T_746cc_level0_row23\" class=\"row_heading level0 row23\" >23</th>\n",
       "      <td id=\"T_746cc_row23_col0\" class=\"data row23 col0\" >Iterative Imputation Iteration</td>\n",
       "      <td id=\"T_746cc_row23_col1\" class=\"data row23 col1\" >None</td>\n",
       "    </tr>\n",
       "    <tr>\n",
       "      <th id=\"T_746cc_level0_row24\" class=\"row_heading level0 row24\" >24</th>\n",
       "      <td id=\"T_746cc_row24_col0\" class=\"data row24 col0\" >Numeric Imputer</td>\n",
       "      <td id=\"T_746cc_row24_col1\" class=\"data row24 col1\" >mean</td>\n",
       "    </tr>\n",
       "    <tr>\n",
       "      <th id=\"T_746cc_level0_row25\" class=\"row_heading level0 row25\" >25</th>\n",
       "      <td id=\"T_746cc_row25_col0\" class=\"data row25 col0\" >Iterative Imputation Numeric Model</td>\n",
       "      <td id=\"T_746cc_row25_col1\" class=\"data row25 col1\" >None</td>\n",
       "    </tr>\n",
       "    <tr>\n",
       "      <th id=\"T_746cc_level0_row26\" class=\"row_heading level0 row26\" >26</th>\n",
       "      <td id=\"T_746cc_row26_col0\" class=\"data row26 col0\" >Categorical Imputer</td>\n",
       "      <td id=\"T_746cc_row26_col1\" class=\"data row26 col1\" >constant</td>\n",
       "    </tr>\n",
       "    <tr>\n",
       "      <th id=\"T_746cc_level0_row27\" class=\"row_heading level0 row27\" >27</th>\n",
       "      <td id=\"T_746cc_row27_col0\" class=\"data row27 col0\" >Iterative Imputation Categorical Model</td>\n",
       "      <td id=\"T_746cc_row27_col1\" class=\"data row27 col1\" >None</td>\n",
       "    </tr>\n",
       "    <tr>\n",
       "      <th id=\"T_746cc_level0_row28\" class=\"row_heading level0 row28\" >28</th>\n",
       "      <td id=\"T_746cc_row28_col0\" class=\"data row28 col0\" >Unknown Categoricals Handling</td>\n",
       "      <td id=\"T_746cc_row28_col1\" class=\"data row28 col1\" >least_frequent</td>\n",
       "    </tr>\n",
       "    <tr>\n",
       "      <th id=\"T_746cc_level0_row29\" class=\"row_heading level0 row29\" >29</th>\n",
       "      <td id=\"T_746cc_row29_col0\" class=\"data row29 col0\" >Normalize</td>\n",
       "      <td id=\"T_746cc_row29_col1\" class=\"data row29 col1\" >True</td>\n",
       "    </tr>\n",
       "    <tr>\n",
       "      <th id=\"T_746cc_level0_row30\" class=\"row_heading level0 row30\" >30</th>\n",
       "      <td id=\"T_746cc_row30_col0\" class=\"data row30 col0\" >Normalize Method</td>\n",
       "      <td id=\"T_746cc_row30_col1\" class=\"data row30 col1\" >zscore</td>\n",
       "    </tr>\n",
       "    <tr>\n",
       "      <th id=\"T_746cc_level0_row31\" class=\"row_heading level0 row31\" >31</th>\n",
       "      <td id=\"T_746cc_row31_col0\" class=\"data row31 col0\" >Transformation</td>\n",
       "      <td id=\"T_746cc_row31_col1\" class=\"data row31 col1\" >False</td>\n",
       "    </tr>\n",
       "    <tr>\n",
       "      <th id=\"T_746cc_level0_row32\" class=\"row_heading level0 row32\" >32</th>\n",
       "      <td id=\"T_746cc_row32_col0\" class=\"data row32 col0\" >Transformation Method</td>\n",
       "      <td id=\"T_746cc_row32_col1\" class=\"data row32 col1\" >None</td>\n",
       "    </tr>\n",
       "    <tr>\n",
       "      <th id=\"T_746cc_level0_row33\" class=\"row_heading level0 row33\" >33</th>\n",
       "      <td id=\"T_746cc_row33_col0\" class=\"data row33 col0\" >PCA</td>\n",
       "      <td id=\"T_746cc_row33_col1\" class=\"data row33 col1\" >False</td>\n",
       "    </tr>\n",
       "    <tr>\n",
       "      <th id=\"T_746cc_level0_row34\" class=\"row_heading level0 row34\" >34</th>\n",
       "      <td id=\"T_746cc_row34_col0\" class=\"data row34 col0\" >PCA Method</td>\n",
       "      <td id=\"T_746cc_row34_col1\" class=\"data row34 col1\" >None</td>\n",
       "    </tr>\n",
       "    <tr>\n",
       "      <th id=\"T_746cc_level0_row35\" class=\"row_heading level0 row35\" >35</th>\n",
       "      <td id=\"T_746cc_row35_col0\" class=\"data row35 col0\" >PCA Components</td>\n",
       "      <td id=\"T_746cc_row35_col1\" class=\"data row35 col1\" >None</td>\n",
       "    </tr>\n",
       "    <tr>\n",
       "      <th id=\"T_746cc_level0_row36\" class=\"row_heading level0 row36\" >36</th>\n",
       "      <td id=\"T_746cc_row36_col0\" class=\"data row36 col0\" >Ignore Low Variance</td>\n",
       "      <td id=\"T_746cc_row36_col1\" class=\"data row36 col1\" >False</td>\n",
       "    </tr>\n",
       "    <tr>\n",
       "      <th id=\"T_746cc_level0_row37\" class=\"row_heading level0 row37\" >37</th>\n",
       "      <td id=\"T_746cc_row37_col0\" class=\"data row37 col0\" >Combine Rare Levels</td>\n",
       "      <td id=\"T_746cc_row37_col1\" class=\"data row37 col1\" >False</td>\n",
       "    </tr>\n",
       "    <tr>\n",
       "      <th id=\"T_746cc_level0_row38\" class=\"row_heading level0 row38\" >38</th>\n",
       "      <td id=\"T_746cc_row38_col0\" class=\"data row38 col0\" >Rare Level Threshold</td>\n",
       "      <td id=\"T_746cc_row38_col1\" class=\"data row38 col1\" >None</td>\n",
       "    </tr>\n",
       "    <tr>\n",
       "      <th id=\"T_746cc_level0_row39\" class=\"row_heading level0 row39\" >39</th>\n",
       "      <td id=\"T_746cc_row39_col0\" class=\"data row39 col0\" >Numeric Binning</td>\n",
       "      <td id=\"T_746cc_row39_col1\" class=\"data row39 col1\" >False</td>\n",
       "    </tr>\n",
       "    <tr>\n",
       "      <th id=\"T_746cc_level0_row40\" class=\"row_heading level0 row40\" >40</th>\n",
       "      <td id=\"T_746cc_row40_col0\" class=\"data row40 col0\" >Remove Outliers</td>\n",
       "      <td id=\"T_746cc_row40_col1\" class=\"data row40 col1\" >False</td>\n",
       "    </tr>\n",
       "    <tr>\n",
       "      <th id=\"T_746cc_level0_row41\" class=\"row_heading level0 row41\" >41</th>\n",
       "      <td id=\"T_746cc_row41_col0\" class=\"data row41 col0\" >Outliers Threshold</td>\n",
       "      <td id=\"T_746cc_row41_col1\" class=\"data row41 col1\" >None</td>\n",
       "    </tr>\n",
       "    <tr>\n",
       "      <th id=\"T_746cc_level0_row42\" class=\"row_heading level0 row42\" >42</th>\n",
       "      <td id=\"T_746cc_row42_col0\" class=\"data row42 col0\" >Remove Multicollinearity</td>\n",
       "      <td id=\"T_746cc_row42_col1\" class=\"data row42 col1\" >False</td>\n",
       "    </tr>\n",
       "    <tr>\n",
       "      <th id=\"T_746cc_level0_row43\" class=\"row_heading level0 row43\" >43</th>\n",
       "      <td id=\"T_746cc_row43_col0\" class=\"data row43 col0\" >Multicollinearity Threshold</td>\n",
       "      <td id=\"T_746cc_row43_col1\" class=\"data row43 col1\" >None</td>\n",
       "    </tr>\n",
       "    <tr>\n",
       "      <th id=\"T_746cc_level0_row44\" class=\"row_heading level0 row44\" >44</th>\n",
       "      <td id=\"T_746cc_row44_col0\" class=\"data row44 col0\" >Remove Perfect Collinearity</td>\n",
       "      <td id=\"T_746cc_row44_col1\" class=\"data row44 col1\" >True</td>\n",
       "    </tr>\n",
       "    <tr>\n",
       "      <th id=\"T_746cc_level0_row45\" class=\"row_heading level0 row45\" >45</th>\n",
       "      <td id=\"T_746cc_row45_col0\" class=\"data row45 col0\" >Clustering</td>\n",
       "      <td id=\"T_746cc_row45_col1\" class=\"data row45 col1\" >False</td>\n",
       "    </tr>\n",
       "    <tr>\n",
       "      <th id=\"T_746cc_level0_row46\" class=\"row_heading level0 row46\" >46</th>\n",
       "      <td id=\"T_746cc_row46_col0\" class=\"data row46 col0\" >Clustering Iteration</td>\n",
       "      <td id=\"T_746cc_row46_col1\" class=\"data row46 col1\" >None</td>\n",
       "    </tr>\n",
       "    <tr>\n",
       "      <th id=\"T_746cc_level0_row47\" class=\"row_heading level0 row47\" >47</th>\n",
       "      <td id=\"T_746cc_row47_col0\" class=\"data row47 col0\" >Polynomial Features</td>\n",
       "      <td id=\"T_746cc_row47_col1\" class=\"data row47 col1\" >False</td>\n",
       "    </tr>\n",
       "    <tr>\n",
       "      <th id=\"T_746cc_level0_row48\" class=\"row_heading level0 row48\" >48</th>\n",
       "      <td id=\"T_746cc_row48_col0\" class=\"data row48 col0\" >Polynomial Degree</td>\n",
       "      <td id=\"T_746cc_row48_col1\" class=\"data row48 col1\" >None</td>\n",
       "    </tr>\n",
       "    <tr>\n",
       "      <th id=\"T_746cc_level0_row49\" class=\"row_heading level0 row49\" >49</th>\n",
       "      <td id=\"T_746cc_row49_col0\" class=\"data row49 col0\" >Trignometry Features</td>\n",
       "      <td id=\"T_746cc_row49_col1\" class=\"data row49 col1\" >False</td>\n",
       "    </tr>\n",
       "    <tr>\n",
       "      <th id=\"T_746cc_level0_row50\" class=\"row_heading level0 row50\" >50</th>\n",
       "      <td id=\"T_746cc_row50_col0\" class=\"data row50 col0\" >Polynomial Threshold</td>\n",
       "      <td id=\"T_746cc_row50_col1\" class=\"data row50 col1\" >None</td>\n",
       "    </tr>\n",
       "    <tr>\n",
       "      <th id=\"T_746cc_level0_row51\" class=\"row_heading level0 row51\" >51</th>\n",
       "      <td id=\"T_746cc_row51_col0\" class=\"data row51 col0\" >Group Features</td>\n",
       "      <td id=\"T_746cc_row51_col1\" class=\"data row51 col1\" >False</td>\n",
       "    </tr>\n",
       "    <tr>\n",
       "      <th id=\"T_746cc_level0_row52\" class=\"row_heading level0 row52\" >52</th>\n",
       "      <td id=\"T_746cc_row52_col0\" class=\"data row52 col0\" >Feature Selection</td>\n",
       "      <td id=\"T_746cc_row52_col1\" class=\"data row52 col1\" >False</td>\n",
       "    </tr>\n",
       "    <tr>\n",
       "      <th id=\"T_746cc_level0_row53\" class=\"row_heading level0 row53\" >53</th>\n",
       "      <td id=\"T_746cc_row53_col0\" class=\"data row53 col0\" >Feature Selection Method</td>\n",
       "      <td id=\"T_746cc_row53_col1\" class=\"data row53 col1\" >classic</td>\n",
       "    </tr>\n",
       "    <tr>\n",
       "      <th id=\"T_746cc_level0_row54\" class=\"row_heading level0 row54\" >54</th>\n",
       "      <td id=\"T_746cc_row54_col0\" class=\"data row54 col0\" >Features Selection Threshold</td>\n",
       "      <td id=\"T_746cc_row54_col1\" class=\"data row54 col1\" >None</td>\n",
       "    </tr>\n",
       "    <tr>\n",
       "      <th id=\"T_746cc_level0_row55\" class=\"row_heading level0 row55\" >55</th>\n",
       "      <td id=\"T_746cc_row55_col0\" class=\"data row55 col0\" >Feature Interaction</td>\n",
       "      <td id=\"T_746cc_row55_col1\" class=\"data row55 col1\" >False</td>\n",
       "    </tr>\n",
       "    <tr>\n",
       "      <th id=\"T_746cc_level0_row56\" class=\"row_heading level0 row56\" >56</th>\n",
       "      <td id=\"T_746cc_row56_col0\" class=\"data row56 col0\" >Feature Ratio</td>\n",
       "      <td id=\"T_746cc_row56_col1\" class=\"data row56 col1\" >False</td>\n",
       "    </tr>\n",
       "    <tr>\n",
       "      <th id=\"T_746cc_level0_row57\" class=\"row_heading level0 row57\" >57</th>\n",
       "      <td id=\"T_746cc_row57_col0\" class=\"data row57 col0\" >Interaction Threshold</td>\n",
       "      <td id=\"T_746cc_row57_col1\" class=\"data row57 col1\" >None</td>\n",
       "    </tr>\n",
       "    <tr>\n",
       "      <th id=\"T_746cc_level0_row58\" class=\"row_heading level0 row58\" >58</th>\n",
       "      <td id=\"T_746cc_row58_col0\" class=\"data row58 col0\" >Fix Imbalance</td>\n",
       "      <td id=\"T_746cc_row58_col1\" class=\"data row58 col1\" >False</td>\n",
       "    </tr>\n",
       "    <tr>\n",
       "      <th id=\"T_746cc_level0_row59\" class=\"row_heading level0 row59\" >59</th>\n",
       "      <td id=\"T_746cc_row59_col0\" class=\"data row59 col0\" >Fix Imbalance Method</td>\n",
       "      <td id=\"T_746cc_row59_col1\" class=\"data row59 col1\" >SMOTE</td>\n",
       "    </tr>\n",
       "  </tbody>\n",
       "</table>\n"
      ],
      "text/plain": [
       "<pandas.io.formats.style.Styler at 0x7fd6744dda30>"
      ]
     },
     "metadata": {},
     "output_type": "display_data"
    }
   ],
   "source": [
    "classificador = setup(\n",
    "    df_train, target=\"IS_DEAD\", \n",
    "    session_id=1234, normalize=True, \n",
    "    categorical_features=[\"IE_SEXO_F\", \"DS_CLINICA_CIRURGICA\"]\n",
    ")"
   ]
  },
  {
   "cell_type": "code",
   "execution_count": 16,
   "metadata": {
    "colab": {},
    "colab_type": "code",
    "id": "UMuAUTFWTQCE"
   },
   "outputs": [
    {
     "data": {
      "text/html": [
       "<style type=\"text/css\">\n",
       "#T_0c1e8 th {\n",
       "  text-align: left;\n",
       "}\n",
       "#T_0c1e8_row0_col0, #T_0c1e8_row0_col1, #T_0c1e8_row0_col3, #T_0c1e8_row0_col4, #T_0c1e8_row0_col5, #T_0c1e8_row0_col6, #T_0c1e8_row0_col7, #T_0c1e8_row1_col0, #T_0c1e8_row1_col1, #T_0c1e8_row1_col2, #T_0c1e8_row1_col3, #T_0c1e8_row1_col4, #T_0c1e8_row1_col5, #T_0c1e8_row1_col6, #T_0c1e8_row1_col7, #T_0c1e8_row2_col0, #T_0c1e8_row2_col2, #T_0c1e8_row2_col3, #T_0c1e8_row2_col5, #T_0c1e8_row3_col0, #T_0c1e8_row3_col1, #T_0c1e8_row3_col2, #T_0c1e8_row3_col3, #T_0c1e8_row3_col4, #T_0c1e8_row3_col5, #T_0c1e8_row3_col6, #T_0c1e8_row3_col7, #T_0c1e8_row4_col0, #T_0c1e8_row4_col1, #T_0c1e8_row4_col2, #T_0c1e8_row4_col3, #T_0c1e8_row4_col4, #T_0c1e8_row4_col5, #T_0c1e8_row4_col6, #T_0c1e8_row4_col7, #T_0c1e8_row5_col0, #T_0c1e8_row5_col1, #T_0c1e8_row5_col2, #T_0c1e8_row5_col3, #T_0c1e8_row5_col4, #T_0c1e8_row5_col5, #T_0c1e8_row5_col6, #T_0c1e8_row5_col7, #T_0c1e8_row6_col0, #T_0c1e8_row6_col1, #T_0c1e8_row6_col2, #T_0c1e8_row6_col3, #T_0c1e8_row6_col4, #T_0c1e8_row6_col5, #T_0c1e8_row6_col6, #T_0c1e8_row6_col7, #T_0c1e8_row7_col0, #T_0c1e8_row7_col1, #T_0c1e8_row7_col2, #T_0c1e8_row7_col3, #T_0c1e8_row7_col4, #T_0c1e8_row7_col5, #T_0c1e8_row7_col6, #T_0c1e8_row7_col7, #T_0c1e8_row8_col0, #T_0c1e8_row8_col1, #T_0c1e8_row8_col2, #T_0c1e8_row8_col3, #T_0c1e8_row8_col4, #T_0c1e8_row8_col5, #T_0c1e8_row8_col6, #T_0c1e8_row8_col7, #T_0c1e8_row9_col0, #T_0c1e8_row9_col1, #T_0c1e8_row9_col2, #T_0c1e8_row9_col3, #T_0c1e8_row9_col4, #T_0c1e8_row9_col5, #T_0c1e8_row9_col6, #T_0c1e8_row9_col7, #T_0c1e8_row10_col0, #T_0c1e8_row10_col1, #T_0c1e8_row10_col2, #T_0c1e8_row10_col3, #T_0c1e8_row10_col4, #T_0c1e8_row10_col5, #T_0c1e8_row10_col6, #T_0c1e8_row10_col7, #T_0c1e8_row11_col0, #T_0c1e8_row11_col1, #T_0c1e8_row11_col2, #T_0c1e8_row11_col4, #T_0c1e8_row11_col6, #T_0c1e8_row11_col7, #T_0c1e8_row12_col0, #T_0c1e8_row12_col1, #T_0c1e8_row12_col2, #T_0c1e8_row12_col3, #T_0c1e8_row12_col4, #T_0c1e8_row12_col5, #T_0c1e8_row12_col6, #T_0c1e8_row12_col7, #T_0c1e8_row13_col0, #T_0c1e8_row13_col1, #T_0c1e8_row13_col2, #T_0c1e8_row13_col3, #T_0c1e8_row13_col4, #T_0c1e8_row13_col5, #T_0c1e8_row13_col6, #T_0c1e8_row13_col7 {\n",
       "  text-align: left;\n",
       "}\n",
       "#T_0c1e8_row0_col2, #T_0c1e8_row2_col1, #T_0c1e8_row2_col4, #T_0c1e8_row2_col6, #T_0c1e8_row2_col7, #T_0c1e8_row11_col3, #T_0c1e8_row11_col5 {\n",
       "  text-align: left;\n",
       "  background-color: yellow;\n",
       "}\n",
       "#T_0c1e8_row0_col8, #T_0c1e8_row1_col8, #T_0c1e8_row2_col8, #T_0c1e8_row3_col8, #T_0c1e8_row4_col8, #T_0c1e8_row5_col8, #T_0c1e8_row6_col8, #T_0c1e8_row7_col8, #T_0c1e8_row8_col8, #T_0c1e8_row9_col8, #T_0c1e8_row10_col8, #T_0c1e8_row12_col8, #T_0c1e8_row13_col8 {\n",
       "  text-align: left;\n",
       "  background-color: lightgrey;\n",
       "}\n",
       "#T_0c1e8_row11_col8 {\n",
       "  text-align: left;\n",
       "  background-color: yellow;\n",
       "  background-color: lightgrey;\n",
       "}\n",
       "</style>\n",
       "<table id=\"T_0c1e8\">\n",
       "  <thead>\n",
       "    <tr>\n",
       "      <th class=\"blank level0\" >&nbsp;</th>\n",
       "      <th id=\"T_0c1e8_level0_col0\" class=\"col_heading level0 col0\" >Model</th>\n",
       "      <th id=\"T_0c1e8_level0_col1\" class=\"col_heading level0 col1\" >Accuracy</th>\n",
       "      <th id=\"T_0c1e8_level0_col2\" class=\"col_heading level0 col2\" >AUC</th>\n",
       "      <th id=\"T_0c1e8_level0_col3\" class=\"col_heading level0 col3\" >Recall</th>\n",
       "      <th id=\"T_0c1e8_level0_col4\" class=\"col_heading level0 col4\" >Prec.</th>\n",
       "      <th id=\"T_0c1e8_level0_col5\" class=\"col_heading level0 col5\" >F1</th>\n",
       "      <th id=\"T_0c1e8_level0_col6\" class=\"col_heading level0 col6\" >Kappa</th>\n",
       "      <th id=\"T_0c1e8_level0_col7\" class=\"col_heading level0 col7\" >MCC</th>\n",
       "      <th id=\"T_0c1e8_level0_col8\" class=\"col_heading level0 col8\" >TT (Sec)</th>\n",
       "    </tr>\n",
       "  </thead>\n",
       "  <tbody>\n",
       "    <tr>\n",
       "      <th id=\"T_0c1e8_level0_row0\" class=\"row_heading level0 row0\" >lr</th>\n",
       "      <td id=\"T_0c1e8_row0_col0\" class=\"data row0 col0\" >Logistic Regression</td>\n",
       "      <td id=\"T_0c1e8_row0_col1\" class=\"data row0 col1\" >0.7054</td>\n",
       "      <td id=\"T_0c1e8_row0_col2\" class=\"data row0 col2\" >0.7820</td>\n",
       "      <td id=\"T_0c1e8_row0_col3\" class=\"data row0 col3\" >0.7484</td>\n",
       "      <td id=\"T_0c1e8_row0_col4\" class=\"data row0 col4\" >0.7773</td>\n",
       "      <td id=\"T_0c1e8_row0_col5\" class=\"data row0 col5\" >0.7578</td>\n",
       "      <td id=\"T_0c1e8_row0_col6\" class=\"data row0 col6\" >0.3811</td>\n",
       "      <td id=\"T_0c1e8_row0_col7\" class=\"data row0 col7\" >0.3908</td>\n",
       "      <td id=\"T_0c1e8_row0_col8\" class=\"data row0 col8\" >0.3860</td>\n",
       "    </tr>\n",
       "    <tr>\n",
       "      <th id=\"T_0c1e8_level0_row1\" class=\"row_heading level0 row1\" >qda</th>\n",
       "      <td id=\"T_0c1e8_row1_col0\" class=\"data row1 col0\" >Quadratic Discriminant Analysis</td>\n",
       "      <td id=\"T_0c1e8_row1_col1\" class=\"data row1 col1\" >0.7270</td>\n",
       "      <td id=\"T_0c1e8_row1_col2\" class=\"data row1 col2\" >0.7796</td>\n",
       "      <td id=\"T_0c1e8_row1_col3\" class=\"data row1 col3\" >0.7078</td>\n",
       "      <td id=\"T_0c1e8_row1_col4\" class=\"data row1 col4\" >0.8351</td>\n",
       "      <td id=\"T_0c1e8_row1_col5\" class=\"data row1 col5\" >0.7636</td>\n",
       "      <td id=\"T_0c1e8_row1_col6\" class=\"data row1 col6\" >0.4439</td>\n",
       "      <td id=\"T_0c1e8_row1_col7\" class=\"data row1 col7\" >0.4549</td>\n",
       "      <td id=\"T_0c1e8_row1_col8\" class=\"data row1 col8\" >0.0050</td>\n",
       "    </tr>\n",
       "    <tr>\n",
       "      <th id=\"T_0c1e8_level0_row2\" class=\"row_heading level0 row2\" >nb</th>\n",
       "      <td id=\"T_0c1e8_row2_col0\" class=\"data row2 col0\" >Naive Bayes</td>\n",
       "      <td id=\"T_0c1e8_row2_col1\" class=\"data row2 col1\" >0.7409</td>\n",
       "      <td id=\"T_0c1e8_row2_col2\" class=\"data row2 col2\" >0.7780</td>\n",
       "      <td id=\"T_0c1e8_row2_col3\" class=\"data row2 col3\" >0.6964</td>\n",
       "      <td id=\"T_0c1e8_row2_col4\" class=\"data row2 col4\" >0.8690</td>\n",
       "      <td id=\"T_0c1e8_row2_col5\" class=\"data row2 col5\" >0.7711</td>\n",
       "      <td id=\"T_0c1e8_row2_col6\" class=\"data row2 col6\" >0.4800</td>\n",
       "      <td id=\"T_0c1e8_row2_col7\" class=\"data row2 col7\" >0.4981</td>\n",
       "      <td id=\"T_0c1e8_row2_col8\" class=\"data row2 col8\" >0.0050</td>\n",
       "    </tr>\n",
       "    <tr>\n",
       "      <th id=\"T_0c1e8_level0_row3\" class=\"row_heading level0 row3\" >lda</th>\n",
       "      <td id=\"T_0c1e8_row3_col0\" class=\"data row3 col0\" >Linear Discriminant Analysis</td>\n",
       "      <td id=\"T_0c1e8_row3_col1\" class=\"data row3 col1\" >0.6983</td>\n",
       "      <td id=\"T_0c1e8_row3_col2\" class=\"data row3 col2\" >0.7756</td>\n",
       "      <td id=\"T_0c1e8_row3_col3\" class=\"data row3 col3\" >0.7366</td>\n",
       "      <td id=\"T_0c1e8_row3_col4\" class=\"data row3 col4\" >0.7747</td>\n",
       "      <td id=\"T_0c1e8_row3_col5\" class=\"data row3 col5\" >0.7533</td>\n",
       "      <td id=\"T_0c1e8_row3_col6\" class=\"data row3 col6\" >0.3656</td>\n",
       "      <td id=\"T_0c1e8_row3_col7\" class=\"data row3 col7\" >0.3684</td>\n",
       "      <td id=\"T_0c1e8_row3_col8\" class=\"data row3 col8\" >0.0040</td>\n",
       "    </tr>\n",
       "    <tr>\n",
       "      <th id=\"T_0c1e8_level0_row4\" class=\"row_heading level0 row4\" >lightgbm</th>\n",
       "      <td id=\"T_0c1e8_row4_col0\" class=\"data row4 col0\" >Light Gradient Boosting Machine</td>\n",
       "      <td id=\"T_0c1e8_row4_col1\" class=\"data row4 col1\" >0.6948</td>\n",
       "      <td id=\"T_0c1e8_row4_col2\" class=\"data row4 col2\" >0.7709</td>\n",
       "      <td id=\"T_0c1e8_row4_col3\" class=\"data row4 col3\" >0.7690</td>\n",
       "      <td id=\"T_0c1e8_row4_col4\" class=\"data row4 col4\" >0.7529</td>\n",
       "      <td id=\"T_0c1e8_row4_col5\" class=\"data row4 col5\" >0.7598</td>\n",
       "      <td id=\"T_0c1e8_row4_col6\" class=\"data row4 col6\" >0.3390</td>\n",
       "      <td id=\"T_0c1e8_row4_col7\" class=\"data row4 col7\" >0.3412</td>\n",
       "      <td id=\"T_0c1e8_row4_col8\" class=\"data row4 col8\" >0.0110</td>\n",
       "    </tr>\n",
       "    <tr>\n",
       "      <th id=\"T_0c1e8_level0_row5\" class=\"row_heading level0 row5\" >gbc</th>\n",
       "      <td id=\"T_0c1e8_row5_col0\" class=\"data row5 col0\" >Gradient Boosting Classifier</td>\n",
       "      <td id=\"T_0c1e8_row5_col1\" class=\"data row5 col1\" >0.6948</td>\n",
       "      <td id=\"T_0c1e8_row5_col2\" class=\"data row5 col2\" >0.7643</td>\n",
       "      <td id=\"T_0c1e8_row5_col3\" class=\"data row5 col3\" >0.7582</td>\n",
       "      <td id=\"T_0c1e8_row5_col4\" class=\"data row5 col4\" >0.7614</td>\n",
       "      <td id=\"T_0c1e8_row5_col5\" class=\"data row5 col5\" >0.7583</td>\n",
       "      <td id=\"T_0c1e8_row5_col6\" class=\"data row5 col6\" >0.3430</td>\n",
       "      <td id=\"T_0c1e8_row5_col7\" class=\"data row5 col7\" >0.3457</td>\n",
       "      <td id=\"T_0c1e8_row5_col8\" class=\"data row5 col8\" >0.0280</td>\n",
       "    </tr>\n",
       "    <tr>\n",
       "      <th id=\"T_0c1e8_level0_row6\" class=\"row_heading level0 row6\" >rf</th>\n",
       "      <td id=\"T_0c1e8_row6_col0\" class=\"data row6 col0\" >Random Forest Classifier</td>\n",
       "      <td id=\"T_0c1e8_row6_col1\" class=\"data row6 col1\" >0.6772</td>\n",
       "      <td id=\"T_0c1e8_row6_col2\" class=\"data row6 col2\" >0.7622</td>\n",
       "      <td id=\"T_0c1e8_row6_col3\" class=\"data row6 col3\" >0.7641</td>\n",
       "      <td id=\"T_0c1e8_row6_col4\" class=\"data row6 col4\" >0.7338</td>\n",
       "      <td id=\"T_0c1e8_row6_col5\" class=\"data row6 col5\" >0.7475</td>\n",
       "      <td id=\"T_0c1e8_row6_col6\" class=\"data row6 col6\" >0.2997</td>\n",
       "      <td id=\"T_0c1e8_row6_col7\" class=\"data row6 col7\" >0.3026</td>\n",
       "      <td id=\"T_0c1e8_row6_col8\" class=\"data row6 col8\" >0.0760</td>\n",
       "    </tr>\n",
       "    <tr>\n",
       "      <th id=\"T_0c1e8_level0_row7\" class=\"row_heading level0 row7\" >et</th>\n",
       "      <td id=\"T_0c1e8_row7_col0\" class=\"data row7 col0\" >Extra Trees Classifier</td>\n",
       "      <td id=\"T_0c1e8_row7_col1\" class=\"data row7 col1\" >0.6984</td>\n",
       "      <td id=\"T_0c1e8_row7_col2\" class=\"data row7 col2\" >0.7618</td>\n",
       "      <td id=\"T_0c1e8_row7_col3\" class=\"data row7 col3\" >0.7807</td>\n",
       "      <td id=\"T_0c1e8_row7_col4\" class=\"data row7 col4\" >0.7525</td>\n",
       "      <td id=\"T_0c1e8_row7_col5\" class=\"data row7 col5\" >0.7648</td>\n",
       "      <td id=\"T_0c1e8_row7_col6\" class=\"data row7 col6\" >0.3413</td>\n",
       "      <td id=\"T_0c1e8_row7_col7\" class=\"data row7 col7\" >0.3451</td>\n",
       "      <td id=\"T_0c1e8_row7_col8\" class=\"data row7 col8\" >0.0570</td>\n",
       "    </tr>\n",
       "    <tr>\n",
       "      <th id=\"T_0c1e8_level0_row8\" class=\"row_heading level0 row8\" >knn</th>\n",
       "      <td id=\"T_0c1e8_row8_col0\" class=\"data row8 col0\" >K Neighbors Classifier</td>\n",
       "      <td id=\"T_0c1e8_row8_col1\" class=\"data row8 col1\" >0.6881</td>\n",
       "      <td id=\"T_0c1e8_row8_col2\" class=\"data row8 col2\" >0.7422</td>\n",
       "      <td id=\"T_0c1e8_row8_col3\" class=\"data row8 col3\" >0.7307</td>\n",
       "      <td id=\"T_0c1e8_row8_col4\" class=\"data row8 col4\" >0.7665</td>\n",
       "      <td id=\"T_0c1e8_row8_col5\" class=\"data row8 col5\" >0.7453</td>\n",
       "      <td id=\"T_0c1e8_row8_col6\" class=\"data row8 col6\" >0.3436</td>\n",
       "      <td id=\"T_0c1e8_row8_col7\" class=\"data row8 col7\" >0.3486</td>\n",
       "      <td id=\"T_0c1e8_row8_col8\" class=\"data row8 col8\" >0.0070</td>\n",
       "    </tr>\n",
       "    <tr>\n",
       "      <th id=\"T_0c1e8_level0_row9\" class=\"row_heading level0 row9\" >ada</th>\n",
       "      <td id=\"T_0c1e8_row9_col0\" class=\"data row9 col0\" >Ada Boost Classifier</td>\n",
       "      <td id=\"T_0c1e8_row9_col1\" class=\"data row9 col1\" >0.6804</td>\n",
       "      <td id=\"T_0c1e8_row9_col2\" class=\"data row9 col2\" >0.7191</td>\n",
       "      <td id=\"T_0c1e8_row9_col3\" class=\"data row9 col3\" >0.7520</td>\n",
       "      <td id=\"T_0c1e8_row9_col4\" class=\"data row9 col4\" >0.7435</td>\n",
       "      <td id=\"T_0c1e8_row9_col5\" class=\"data row9 col5\" >0.7465</td>\n",
       "      <td id=\"T_0c1e8_row9_col6\" class=\"data row9 col6\" >0.3096</td>\n",
       "      <td id=\"T_0c1e8_row9_col7\" class=\"data row9 col7\" >0.3121</td>\n",
       "      <td id=\"T_0c1e8_row9_col8\" class=\"data row9 col8\" >0.0290</td>\n",
       "    </tr>\n",
       "    <tr>\n",
       "      <th id=\"T_0c1e8_level0_row10\" class=\"row_heading level0 row10\" >dt</th>\n",
       "      <td id=\"T_0c1e8_row10_col0\" class=\"data row10 col0\" >Decision Tree Classifier</td>\n",
       "      <td id=\"T_0c1e8_row10_col1\" class=\"data row10 col1\" >0.5991</td>\n",
       "      <td id=\"T_0c1e8_row10_col2\" class=\"data row10 col2\" >0.5612</td>\n",
       "      <td id=\"T_0c1e8_row10_col3\" class=\"data row10 col3\" >0.7186</td>\n",
       "      <td id=\"T_0c1e8_row10_col4\" class=\"data row10 col4\" >0.6699</td>\n",
       "      <td id=\"T_0c1e8_row10_col5\" class=\"data row10 col5\" >0.6905</td>\n",
       "      <td id=\"T_0c1e8_row10_col6\" class=\"data row10 col6\" >0.1210</td>\n",
       "      <td id=\"T_0c1e8_row10_col7\" class=\"data row10 col7\" >0.1234</td>\n",
       "      <td id=\"T_0c1e8_row10_col8\" class=\"data row10 col8\" >0.0050</td>\n",
       "    </tr>\n",
       "    <tr>\n",
       "      <th id=\"T_0c1e8_level0_row11\" class=\"row_heading level0 row11\" >dummy</th>\n",
       "      <td id=\"T_0c1e8_row11_col0\" class=\"data row11 col0\" >Dummy Classifier</td>\n",
       "      <td id=\"T_0c1e8_row11_col1\" class=\"data row11 col1\" >0.6313</td>\n",
       "      <td id=\"T_0c1e8_row11_col2\" class=\"data row11 col2\" >0.5000</td>\n",
       "      <td id=\"T_0c1e8_row11_col3\" class=\"data row11 col3\" >1.0000</td>\n",
       "      <td id=\"T_0c1e8_row11_col4\" class=\"data row11 col4\" >0.6313</td>\n",
       "      <td id=\"T_0c1e8_row11_col5\" class=\"data row11 col5\" >0.7739</td>\n",
       "      <td id=\"T_0c1e8_row11_col6\" class=\"data row11 col6\" >0.0000</td>\n",
       "      <td id=\"T_0c1e8_row11_col7\" class=\"data row11 col7\" >0.0000</td>\n",
       "      <td id=\"T_0c1e8_row11_col8\" class=\"data row11 col8\" >0.0030</td>\n",
       "    </tr>\n",
       "    <tr>\n",
       "      <th id=\"T_0c1e8_level0_row12\" class=\"row_heading level0 row12\" >svm</th>\n",
       "      <td id=\"T_0c1e8_row12_col0\" class=\"data row12 col0\" >SVM - Linear Kernel</td>\n",
       "      <td id=\"T_0c1e8_row12_col1\" class=\"data row12 col1\" >0.5958</td>\n",
       "      <td id=\"T_0c1e8_row12_col2\" class=\"data row12 col2\" >0.0000</td>\n",
       "      <td id=\"T_0c1e8_row12_col3\" class=\"data row12 col3\" >0.7029</td>\n",
       "      <td id=\"T_0c1e8_row12_col4\" class=\"data row12 col4\" >0.6930</td>\n",
       "      <td id=\"T_0c1e8_row12_col5\" class=\"data row12 col5\" >0.6786</td>\n",
       "      <td id=\"T_0c1e8_row12_col6\" class=\"data row12 col6\" >0.1085</td>\n",
       "      <td id=\"T_0c1e8_row12_col7\" class=\"data row12 col7\" >0.1202</td>\n",
       "      <td id=\"T_0c1e8_row12_col8\" class=\"data row12 col8\" >0.0050</td>\n",
       "    </tr>\n",
       "    <tr>\n",
       "      <th id=\"T_0c1e8_level0_row13\" class=\"row_heading level0 row13\" >ridge</th>\n",
       "      <td id=\"T_0c1e8_row13_col0\" class=\"data row13 col0\" >Ridge Classifier</td>\n",
       "      <td id=\"T_0c1e8_row13_col1\" class=\"data row13 col1\" >0.7018</td>\n",
       "      <td id=\"T_0c1e8_row13_col2\" class=\"data row13 col2\" >0.0000</td>\n",
       "      <td id=\"T_0c1e8_row13_col3\" class=\"data row13 col3\" >0.7425</td>\n",
       "      <td id=\"T_0c1e8_row13_col4\" class=\"data row13 col4\" >0.7758</td>\n",
       "      <td id=\"T_0c1e8_row13_col5\" class=\"data row13 col5\" >0.7565</td>\n",
       "      <td id=\"T_0c1e8_row13_col6\" class=\"data row13 col6\" >0.3726</td>\n",
       "      <td id=\"T_0c1e8_row13_col7\" class=\"data row13 col7\" >0.3766</td>\n",
       "      <td id=\"T_0c1e8_row13_col8\" class=\"data row13 col8\" >0.0040</td>\n",
       "    </tr>\n",
       "  </tbody>\n",
       "</table>\n"
      ],
      "text/plain": [
       "<pandas.io.formats.style.Styler at 0x7fd6744937c0>"
      ]
     },
     "metadata": {},
     "output_type": "display_data"
    },
    {
     "data": {
      "text/plain": [
       "LogisticRegression(C=1.0, class_weight=None, dual=False, fit_intercept=True,\n",
       "                   intercept_scaling=1, l1_ratio=None, max_iter=1000,\n",
       "                   multi_class='auto', n_jobs=None, penalty='l2',\n",
       "                   random_state=1234, solver='lbfgs', tol=0.0001, verbose=0,\n",
       "                   warm_start=False)"
      ]
     },
     "execution_count": 16,
     "metadata": {},
     "output_type": "execute_result"
    }
   ],
   "source": [
    "# Treinar modelos\n",
    "compare_models(sort=\"AUC\")"
   ]
  },
  {
   "cell_type": "code",
   "execution_count": 17,
   "metadata": {},
   "outputs": [
    {
     "data": {
      "text/html": [
       "<style type=\"text/css\">\n",
       "#T_94b9b_row10_col0, #T_94b9b_row10_col1, #T_94b9b_row10_col2, #T_94b9b_row10_col3, #T_94b9b_row10_col4, #T_94b9b_row10_col5, #T_94b9b_row10_col6 {\n",
       "  background: yellow;\n",
       "}\n",
       "</style>\n",
       "<table id=\"T_94b9b\">\n",
       "  <thead>\n",
       "    <tr>\n",
       "      <th class=\"blank level0\" >&nbsp;</th>\n",
       "      <th id=\"T_94b9b_level0_col0\" class=\"col_heading level0 col0\" >Accuracy</th>\n",
       "      <th id=\"T_94b9b_level0_col1\" class=\"col_heading level0 col1\" >AUC</th>\n",
       "      <th id=\"T_94b9b_level0_col2\" class=\"col_heading level0 col2\" >Recall</th>\n",
       "      <th id=\"T_94b9b_level0_col3\" class=\"col_heading level0 col3\" >Prec.</th>\n",
       "      <th id=\"T_94b9b_level0_col4\" class=\"col_heading level0 col4\" >F1</th>\n",
       "      <th id=\"T_94b9b_level0_col5\" class=\"col_heading level0 col5\" >Kappa</th>\n",
       "      <th id=\"T_94b9b_level0_col6\" class=\"col_heading level0 col6\" >MCC</th>\n",
       "    </tr>\n",
       "    <tr>\n",
       "      <th class=\"index_name level0\" >Fold</th>\n",
       "      <th class=\"blank col0\" >&nbsp;</th>\n",
       "      <th class=\"blank col1\" >&nbsp;</th>\n",
       "      <th class=\"blank col2\" >&nbsp;</th>\n",
       "      <th class=\"blank col3\" >&nbsp;</th>\n",
       "      <th class=\"blank col4\" >&nbsp;</th>\n",
       "      <th class=\"blank col5\" >&nbsp;</th>\n",
       "      <th class=\"blank col6\" >&nbsp;</th>\n",
       "    </tr>\n",
       "  </thead>\n",
       "  <tbody>\n",
       "    <tr>\n",
       "      <th id=\"T_94b9b_level0_row0\" class=\"row_heading level0 row0\" >0</th>\n",
       "      <td id=\"T_94b9b_row0_col0\" class=\"data row0 col0\" >0.8276</td>\n",
       "      <td id=\"T_94b9b_row0_col1\" class=\"data row0 col1\" >0.8636</td>\n",
       "      <td id=\"T_94b9b_row0_col2\" class=\"data row0 col2\" >0.8333</td>\n",
       "      <td id=\"T_94b9b_row0_col3\" class=\"data row0 col3\" >0.8824</td>\n",
       "      <td id=\"T_94b9b_row0_col4\" class=\"data row0 col4\" >0.8571</td>\n",
       "      <td id=\"T_94b9b_row0_col5\" class=\"data row0 col5\" >0.6402</td>\n",
       "      <td id=\"T_94b9b_row0_col6\" class=\"data row0 col6\" >0.6419</td>\n",
       "    </tr>\n",
       "    <tr>\n",
       "      <th id=\"T_94b9b_level0_row1\" class=\"row_heading level0 row1\" >1</th>\n",
       "      <td id=\"T_94b9b_row1_col0\" class=\"data row1 col0\" >0.6552</td>\n",
       "      <td id=\"T_94b9b_row1_col1\" class=\"data row1 col1\" >0.7576</td>\n",
       "      <td id=\"T_94b9b_row1_col2\" class=\"data row1 col2\" >0.7222</td>\n",
       "      <td id=\"T_94b9b_row1_col3\" class=\"data row1 col3\" >0.7222</td>\n",
       "      <td id=\"T_94b9b_row1_col4\" class=\"data row1 col4\" >0.7222</td>\n",
       "      <td id=\"T_94b9b_row1_col5\" class=\"data row1 col5\" >0.2677</td>\n",
       "      <td id=\"T_94b9b_row1_col6\" class=\"data row1 col6\" >0.2677</td>\n",
       "    </tr>\n",
       "    <tr>\n",
       "      <th id=\"T_94b9b_level0_row2\" class=\"row_heading level0 row2\" >2</th>\n",
       "      <td id=\"T_94b9b_row2_col0\" class=\"data row2 col0\" >0.7857</td>\n",
       "      <td id=\"T_94b9b_row2_col1\" class=\"data row2 col1\" >0.8000</td>\n",
       "      <td id=\"T_94b9b_row2_col2\" class=\"data row2 col2\" >0.7778</td>\n",
       "      <td id=\"T_94b9b_row2_col3\" class=\"data row2 col3\" >0.8750</td>\n",
       "      <td id=\"T_94b9b_row2_col4\" class=\"data row2 col4\" >0.8235</td>\n",
       "      <td id=\"T_94b9b_row2_col5\" class=\"data row2 col5\" >0.5532</td>\n",
       "      <td id=\"T_94b9b_row2_col6\" class=\"data row2 col6\" >0.5594</td>\n",
       "    </tr>\n",
       "    <tr>\n",
       "      <th id=\"T_94b9b_level0_row3\" class=\"row_heading level0 row3\" >3</th>\n",
       "      <td id=\"T_94b9b_row3_col0\" class=\"data row3 col0\" >0.7500</td>\n",
       "      <td id=\"T_94b9b_row3_col1\" class=\"data row3 col1\" >0.8778</td>\n",
       "      <td id=\"T_94b9b_row3_col2\" class=\"data row3 col2\" >0.7778</td>\n",
       "      <td id=\"T_94b9b_row3_col3\" class=\"data row3 col3\" >0.8235</td>\n",
       "      <td id=\"T_94b9b_row3_col4\" class=\"data row3 col4\" >0.8000</td>\n",
       "      <td id=\"T_94b9b_row3_col5\" class=\"data row3 col5\" >0.4674</td>\n",
       "      <td id=\"T_94b9b_row3_col6\" class=\"data row3 col6\" >0.4688</td>\n",
       "    </tr>\n",
       "    <tr>\n",
       "      <th id=\"T_94b9b_level0_row4\" class=\"row_heading level0 row4\" >4</th>\n",
       "      <td id=\"T_94b9b_row4_col0\" class=\"data row4 col0\" >0.7143</td>\n",
       "      <td id=\"T_94b9b_row4_col1\" class=\"data row4 col1\" >0.7500</td>\n",
       "      <td id=\"T_94b9b_row4_col2\" class=\"data row4 col2\" >0.7222</td>\n",
       "      <td id=\"T_94b9b_row4_col3\" class=\"data row4 col3\" >0.8125</td>\n",
       "      <td id=\"T_94b9b_row4_col4\" class=\"data row4 col4\" >0.7647</td>\n",
       "      <td id=\"T_94b9b_row4_col5\" class=\"data row4 col5\" >0.4043</td>\n",
       "      <td id=\"T_94b9b_row4_col6\" class=\"data row4 col6\" >0.4088</td>\n",
       "    </tr>\n",
       "    <tr>\n",
       "      <th id=\"T_94b9b_level0_row5\" class=\"row_heading level0 row5\" >5</th>\n",
       "      <td id=\"T_94b9b_row5_col0\" class=\"data row5 col0\" >0.5000</td>\n",
       "      <td id=\"T_94b9b_row5_col1\" class=\"data row5 col1\" >0.5611</td>\n",
       "      <td id=\"T_94b9b_row5_col2\" class=\"data row5 col2\" >0.4444</td>\n",
       "      <td id=\"T_94b9b_row5_col3\" class=\"data row5 col3\" >0.6667</td>\n",
       "      <td id=\"T_94b9b_row5_col4\" class=\"data row5 col4\" >0.5333</td>\n",
       "      <td id=\"T_94b9b_row5_col5\" class=\"data row5 col5\" >0.0392</td>\n",
       "      <td id=\"T_94b9b_row5_col6\" class=\"data row5 col6\" >0.0430</td>\n",
       "    </tr>\n",
       "    <tr>\n",
       "      <th id=\"T_94b9b_level0_row6\" class=\"row_heading level0 row6\" >6</th>\n",
       "      <td id=\"T_94b9b_row6_col0\" class=\"data row6 col0\" >0.6786</td>\n",
       "      <td id=\"T_94b9b_row6_col1\" class=\"data row6 col1\" >0.7444</td>\n",
       "      <td id=\"T_94b9b_row6_col2\" class=\"data row6 col2\" >0.7222</td>\n",
       "      <td id=\"T_94b9b_row6_col3\" class=\"data row6 col3\" >0.7647</td>\n",
       "      <td id=\"T_94b9b_row6_col4\" class=\"data row6 col4\" >0.7429</td>\n",
       "      <td id=\"T_94b9b_row6_col5\" class=\"data row6 col5\" >0.3152</td>\n",
       "      <td id=\"T_94b9b_row6_col6\" class=\"data row6 col6\" >0.3161</td>\n",
       "    </tr>\n",
       "    <tr>\n",
       "      <th id=\"T_94b9b_level0_row7\" class=\"row_heading level0 row7\" >7</th>\n",
       "      <td id=\"T_94b9b_row7_col0\" class=\"data row7 col0\" >0.6786</td>\n",
       "      <td id=\"T_94b9b_row7_col1\" class=\"data row7 col1\" >0.8667</td>\n",
       "      <td id=\"T_94b9b_row7_col2\" class=\"data row7 col2\" >0.7778</td>\n",
       "      <td id=\"T_94b9b_row7_col3\" class=\"data row7 col3\" >0.7368</td>\n",
       "      <td id=\"T_94b9b_row7_col4\" class=\"data row7 col4\" >0.7568</td>\n",
       "      <td id=\"T_94b9b_row7_col5\" class=\"data row7 col5\" >0.2841</td>\n",
       "      <td id=\"T_94b9b_row7_col6\" class=\"data row7 col6\" >0.2850</td>\n",
       "    </tr>\n",
       "    <tr>\n",
       "      <th id=\"T_94b9b_level0_row8\" class=\"row_heading level0 row8\" >8</th>\n",
       "      <td id=\"T_94b9b_row8_col0\" class=\"data row8 col0\" >0.7857</td>\n",
       "      <td id=\"T_94b9b_row8_col1\" class=\"data row8 col1\" >0.8663</td>\n",
       "      <td id=\"T_94b9b_row8_col2\" class=\"data row8 col2\" >1.0000</td>\n",
       "      <td id=\"T_94b9b_row8_col3\" class=\"data row8 col3\" >0.7391</td>\n",
       "      <td id=\"T_94b9b_row8_col4\" class=\"data row8 col4\" >0.8500</td>\n",
       "      <td id=\"T_94b9b_row8_col5\" class=\"data row8 col5\" >0.5030</td>\n",
       "      <td id=\"T_94b9b_row8_col6\" class=\"data row8 col6\" >0.5796</td>\n",
       "    </tr>\n",
       "    <tr>\n",
       "      <th id=\"T_94b9b_level0_row9\" class=\"row_heading level0 row9\" >9</th>\n",
       "      <td id=\"T_94b9b_row9_col0\" class=\"data row9 col0\" >0.6786</td>\n",
       "      <td id=\"T_94b9b_row9_col1\" class=\"data row9 col1\" >0.7326</td>\n",
       "      <td id=\"T_94b9b_row9_col2\" class=\"data row9 col2\" >0.7059</td>\n",
       "      <td id=\"T_94b9b_row9_col3\" class=\"data row9 col3\" >0.7500</td>\n",
       "      <td id=\"T_94b9b_row9_col4\" class=\"data row9 col4\" >0.7273</td>\n",
       "      <td id=\"T_94b9b_row9_col5\" class=\"data row9 col5\" >0.3368</td>\n",
       "      <td id=\"T_94b9b_row9_col6\" class=\"data row9 col6\" >0.3378</td>\n",
       "    </tr>\n",
       "    <tr>\n",
       "      <th id=\"T_94b9b_level0_row10\" class=\"row_heading level0 row10\" >Mean</th>\n",
       "      <td id=\"T_94b9b_row10_col0\" class=\"data row10 col0\" >0.7054</td>\n",
       "      <td id=\"T_94b9b_row10_col1\" class=\"data row10 col1\" >0.7820</td>\n",
       "      <td id=\"T_94b9b_row10_col2\" class=\"data row10 col2\" >0.7484</td>\n",
       "      <td id=\"T_94b9b_row10_col3\" class=\"data row10 col3\" >0.7773</td>\n",
       "      <td id=\"T_94b9b_row10_col4\" class=\"data row10 col4\" >0.7578</td>\n",
       "      <td id=\"T_94b9b_row10_col5\" class=\"data row10 col5\" >0.3811</td>\n",
       "      <td id=\"T_94b9b_row10_col6\" class=\"data row10 col6\" >0.3908</td>\n",
       "    </tr>\n",
       "    <tr>\n",
       "      <th id=\"T_94b9b_level0_row11\" class=\"row_heading level0 row11\" >Std</th>\n",
       "      <td id=\"T_94b9b_row11_col0\" class=\"data row11 col0\" >0.0876</td>\n",
       "      <td id=\"T_94b9b_row11_col1\" class=\"data row11 col1\" >0.0920</td>\n",
       "      <td id=\"T_94b9b_row11_col2\" class=\"data row11 col2\" >0.1301</td>\n",
       "      <td id=\"T_94b9b_row11_col3\" class=\"data row11 col3\" >0.0657</td>\n",
       "      <td id=\"T_94b9b_row11_col4\" class=\"data row11 col4\" >0.0879</td>\n",
       "      <td id=\"T_94b9b_row11_col5\" class=\"data row11 col5\" >0.1628</td>\n",
       "      <td id=\"T_94b9b_row11_col6\" class=\"data row11 col6\" >0.1701</td>\n",
       "    </tr>\n",
       "  </tbody>\n",
       "</table>\n"
      ],
      "text/plain": [
       "<pandas.io.formats.style.Styler at 0x7fd6740bf190>"
      ]
     },
     "metadata": {},
     "output_type": "display_data"
    }
   ],
   "source": [
    "# Avaliar performance do modelo nos subconjuntos dos dados de treino\n",
    "lr_model = create_model(\"lr\", fold=10)"
   ]
  },
  {
   "cell_type": "markdown",
   "metadata": {
    "colab_type": "text",
    "id": "Jw-0wob2DJGh"
   },
   "source": [
    "[Validação cruzada](https://scikit-learn.org/stable/modules/cross_validation.html) (*cross-validation*) é um método muito usado para evitar o [sobreajuste](https://pt.wikipedia.org/wiki/Sobreajuste) (*overfitting*) do modelo. "
   ]
  },
  {
   "cell_type": "code",
   "execution_count": 18,
   "metadata": {},
   "outputs": [
    {
     "data": {
      "text/html": [
       "<style type=\"text/css\">\n",
       "#T_a3f38_row10_col0, #T_a3f38_row10_col1, #T_a3f38_row10_col2, #T_a3f38_row10_col3, #T_a3f38_row10_col4, #T_a3f38_row10_col5, #T_a3f38_row10_col6 {\n",
       "  background: yellow;\n",
       "}\n",
       "</style>\n",
       "<table id=\"T_a3f38\">\n",
       "  <thead>\n",
       "    <tr>\n",
       "      <th class=\"blank level0\" >&nbsp;</th>\n",
       "      <th id=\"T_a3f38_level0_col0\" class=\"col_heading level0 col0\" >Accuracy</th>\n",
       "      <th id=\"T_a3f38_level0_col1\" class=\"col_heading level0 col1\" >AUC</th>\n",
       "      <th id=\"T_a3f38_level0_col2\" class=\"col_heading level0 col2\" >Recall</th>\n",
       "      <th id=\"T_a3f38_level0_col3\" class=\"col_heading level0 col3\" >Prec.</th>\n",
       "      <th id=\"T_a3f38_level0_col4\" class=\"col_heading level0 col4\" >F1</th>\n",
       "      <th id=\"T_a3f38_level0_col5\" class=\"col_heading level0 col5\" >Kappa</th>\n",
       "      <th id=\"T_a3f38_level0_col6\" class=\"col_heading level0 col6\" >MCC</th>\n",
       "    </tr>\n",
       "    <tr>\n",
       "      <th class=\"index_name level0\" >Fold</th>\n",
       "      <th class=\"blank col0\" >&nbsp;</th>\n",
       "      <th class=\"blank col1\" >&nbsp;</th>\n",
       "      <th class=\"blank col2\" >&nbsp;</th>\n",
       "      <th class=\"blank col3\" >&nbsp;</th>\n",
       "      <th class=\"blank col4\" >&nbsp;</th>\n",
       "      <th class=\"blank col5\" >&nbsp;</th>\n",
       "      <th class=\"blank col6\" >&nbsp;</th>\n",
       "    </tr>\n",
       "  </thead>\n",
       "  <tbody>\n",
       "    <tr>\n",
       "      <th id=\"T_a3f38_level0_row0\" class=\"row_heading level0 row0\" >0</th>\n",
       "      <td id=\"T_a3f38_row0_col0\" class=\"data row0 col0\" >0.8276</td>\n",
       "      <td id=\"T_a3f38_row0_col1\" class=\"data row0 col1\" >0.8636</td>\n",
       "      <td id=\"T_a3f38_row0_col2\" class=\"data row0 col2\" >0.8333</td>\n",
       "      <td id=\"T_a3f38_row0_col3\" class=\"data row0 col3\" >0.8824</td>\n",
       "      <td id=\"T_a3f38_row0_col4\" class=\"data row0 col4\" >0.8571</td>\n",
       "      <td id=\"T_a3f38_row0_col5\" class=\"data row0 col5\" >0.6402</td>\n",
       "      <td id=\"T_a3f38_row0_col6\" class=\"data row0 col6\" >0.6419</td>\n",
       "    </tr>\n",
       "    <tr>\n",
       "      <th id=\"T_a3f38_level0_row1\" class=\"row_heading level0 row1\" >1</th>\n",
       "      <td id=\"T_a3f38_row1_col0\" class=\"data row1 col0\" >0.6552</td>\n",
       "      <td id=\"T_a3f38_row1_col1\" class=\"data row1 col1\" >0.7525</td>\n",
       "      <td id=\"T_a3f38_row1_col2\" class=\"data row1 col2\" >0.7222</td>\n",
       "      <td id=\"T_a3f38_row1_col3\" class=\"data row1 col3\" >0.7222</td>\n",
       "      <td id=\"T_a3f38_row1_col4\" class=\"data row1 col4\" >0.7222</td>\n",
       "      <td id=\"T_a3f38_row1_col5\" class=\"data row1 col5\" >0.2677</td>\n",
       "      <td id=\"T_a3f38_row1_col6\" class=\"data row1 col6\" >0.2677</td>\n",
       "    </tr>\n",
       "    <tr>\n",
       "      <th id=\"T_a3f38_level0_row2\" class=\"row_heading level0 row2\" >2</th>\n",
       "      <td id=\"T_a3f38_row2_col0\" class=\"data row2 col0\" >0.7857</td>\n",
       "      <td id=\"T_a3f38_row2_col1\" class=\"data row2 col1\" >0.8000</td>\n",
       "      <td id=\"T_a3f38_row2_col2\" class=\"data row2 col2\" >0.7778</td>\n",
       "      <td id=\"T_a3f38_row2_col3\" class=\"data row2 col3\" >0.8750</td>\n",
       "      <td id=\"T_a3f38_row2_col4\" class=\"data row2 col4\" >0.8235</td>\n",
       "      <td id=\"T_a3f38_row2_col5\" class=\"data row2 col5\" >0.5532</td>\n",
       "      <td id=\"T_a3f38_row2_col6\" class=\"data row2 col6\" >0.5594</td>\n",
       "    </tr>\n",
       "    <tr>\n",
       "      <th id=\"T_a3f38_level0_row3\" class=\"row_heading level0 row3\" >3</th>\n",
       "      <td id=\"T_a3f38_row3_col0\" class=\"data row3 col0\" >0.7500</td>\n",
       "      <td id=\"T_a3f38_row3_col1\" class=\"data row3 col1\" >0.8722</td>\n",
       "      <td id=\"T_a3f38_row3_col2\" class=\"data row3 col2\" >0.7778</td>\n",
       "      <td id=\"T_a3f38_row3_col3\" class=\"data row3 col3\" >0.8235</td>\n",
       "      <td id=\"T_a3f38_row3_col4\" class=\"data row3 col4\" >0.8000</td>\n",
       "      <td id=\"T_a3f38_row3_col5\" class=\"data row3 col5\" >0.4674</td>\n",
       "      <td id=\"T_a3f38_row3_col6\" class=\"data row3 col6\" >0.4688</td>\n",
       "    </tr>\n",
       "    <tr>\n",
       "      <th id=\"T_a3f38_level0_row4\" class=\"row_heading level0 row4\" >4</th>\n",
       "      <td id=\"T_a3f38_row4_col0\" class=\"data row4 col0\" >0.6786</td>\n",
       "      <td id=\"T_a3f38_row4_col1\" class=\"data row4 col1\" >0.7500</td>\n",
       "      <td id=\"T_a3f38_row4_col2\" class=\"data row4 col2\" >0.7222</td>\n",
       "      <td id=\"T_a3f38_row4_col3\" class=\"data row4 col3\" >0.7647</td>\n",
       "      <td id=\"T_a3f38_row4_col4\" class=\"data row4 col4\" >0.7429</td>\n",
       "      <td id=\"T_a3f38_row4_col5\" class=\"data row4 col5\" >0.3152</td>\n",
       "      <td id=\"T_a3f38_row4_col6\" class=\"data row4 col6\" >0.3161</td>\n",
       "    </tr>\n",
       "    <tr>\n",
       "      <th id=\"T_a3f38_level0_row5\" class=\"row_heading level0 row5\" >5</th>\n",
       "      <td id=\"T_a3f38_row5_col0\" class=\"data row5 col0\" >0.5000</td>\n",
       "      <td id=\"T_a3f38_row5_col1\" class=\"data row5 col1\" >0.5667</td>\n",
       "      <td id=\"T_a3f38_row5_col2\" class=\"data row5 col2\" >0.4444</td>\n",
       "      <td id=\"T_a3f38_row5_col3\" class=\"data row5 col3\" >0.6667</td>\n",
       "      <td id=\"T_a3f38_row5_col4\" class=\"data row5 col4\" >0.5333</td>\n",
       "      <td id=\"T_a3f38_row5_col5\" class=\"data row5 col5\" >0.0392</td>\n",
       "      <td id=\"T_a3f38_row5_col6\" class=\"data row5 col6\" >0.0430</td>\n",
       "    </tr>\n",
       "    <tr>\n",
       "      <th id=\"T_a3f38_level0_row6\" class=\"row_heading level0 row6\" >6</th>\n",
       "      <td id=\"T_a3f38_row6_col0\" class=\"data row6 col0\" >0.6786</td>\n",
       "      <td id=\"T_a3f38_row6_col1\" class=\"data row6 col1\" >0.7444</td>\n",
       "      <td id=\"T_a3f38_row6_col2\" class=\"data row6 col2\" >0.7222</td>\n",
       "      <td id=\"T_a3f38_row6_col3\" class=\"data row6 col3\" >0.7647</td>\n",
       "      <td id=\"T_a3f38_row6_col4\" class=\"data row6 col4\" >0.7429</td>\n",
       "      <td id=\"T_a3f38_row6_col5\" class=\"data row6 col5\" >0.3152</td>\n",
       "      <td id=\"T_a3f38_row6_col6\" class=\"data row6 col6\" >0.3161</td>\n",
       "    </tr>\n",
       "    <tr>\n",
       "      <th id=\"T_a3f38_level0_row7\" class=\"row_heading level0 row7\" >7</th>\n",
       "      <td id=\"T_a3f38_row7_col0\" class=\"data row7 col0\" >0.6786</td>\n",
       "      <td id=\"T_a3f38_row7_col1\" class=\"data row7 col1\" >0.8667</td>\n",
       "      <td id=\"T_a3f38_row7_col2\" class=\"data row7 col2\" >0.7778</td>\n",
       "      <td id=\"T_a3f38_row7_col3\" class=\"data row7 col3\" >0.7368</td>\n",
       "      <td id=\"T_a3f38_row7_col4\" class=\"data row7 col4\" >0.7568</td>\n",
       "      <td id=\"T_a3f38_row7_col5\" class=\"data row7 col5\" >0.2841</td>\n",
       "      <td id=\"T_a3f38_row7_col6\" class=\"data row7 col6\" >0.2850</td>\n",
       "    </tr>\n",
       "    <tr>\n",
       "      <th id=\"T_a3f38_level0_row8\" class=\"row_heading level0 row8\" >8</th>\n",
       "      <td id=\"T_a3f38_row8_col0\" class=\"data row8 col0\" >0.7857</td>\n",
       "      <td id=\"T_a3f38_row8_col1\" class=\"data row8 col1\" >0.8663</td>\n",
       "      <td id=\"T_a3f38_row8_col2\" class=\"data row8 col2\" >1.0000</td>\n",
       "      <td id=\"T_a3f38_row8_col3\" class=\"data row8 col3\" >0.7391</td>\n",
       "      <td id=\"T_a3f38_row8_col4\" class=\"data row8 col4\" >0.8500</td>\n",
       "      <td id=\"T_a3f38_row8_col5\" class=\"data row8 col5\" >0.5030</td>\n",
       "      <td id=\"T_a3f38_row8_col6\" class=\"data row8 col6\" >0.5796</td>\n",
       "    </tr>\n",
       "    <tr>\n",
       "      <th id=\"T_a3f38_level0_row9\" class=\"row_heading level0 row9\" >9</th>\n",
       "      <td id=\"T_a3f38_row9_col0\" class=\"data row9 col0\" >0.6786</td>\n",
       "      <td id=\"T_a3f38_row9_col1\" class=\"data row9 col1\" >0.7326</td>\n",
       "      <td id=\"T_a3f38_row9_col2\" class=\"data row9 col2\" >0.7059</td>\n",
       "      <td id=\"T_a3f38_row9_col3\" class=\"data row9 col3\" >0.7500</td>\n",
       "      <td id=\"T_a3f38_row9_col4\" class=\"data row9 col4\" >0.7273</td>\n",
       "      <td id=\"T_a3f38_row9_col5\" class=\"data row9 col5\" >0.3368</td>\n",
       "      <td id=\"T_a3f38_row9_col6\" class=\"data row9 col6\" >0.3378</td>\n",
       "    </tr>\n",
       "    <tr>\n",
       "      <th id=\"T_a3f38_level0_row10\" class=\"row_heading level0 row10\" >Mean</th>\n",
       "      <td id=\"T_a3f38_row10_col0\" class=\"data row10 col0\" >0.7018</td>\n",
       "      <td id=\"T_a3f38_row10_col1\" class=\"data row10 col1\" >0.7815</td>\n",
       "      <td id=\"T_a3f38_row10_col2\" class=\"data row10 col2\" >0.7484</td>\n",
       "      <td id=\"T_a3f38_row10_col3\" class=\"data row10 col3\" >0.7725</td>\n",
       "      <td id=\"T_a3f38_row10_col4\" class=\"data row10 col4\" >0.7556</td>\n",
       "      <td id=\"T_a3f38_row10_col5\" class=\"data row10 col5\" >0.3722</td>\n",
       "      <td id=\"T_a3f38_row10_col6\" class=\"data row10 col6\" >0.3815</td>\n",
       "    </tr>\n",
       "    <tr>\n",
       "      <th id=\"T_a3f38_level0_row11\" class=\"row_heading level0 row11\" >Std</th>\n",
       "      <td id=\"T_a3f38_row11_col0\" class=\"data row11 col0\" >0.0879</td>\n",
       "      <td id=\"T_a3f38_row11_col1\" class=\"data row11 col1\" >0.0903</td>\n",
       "      <td id=\"T_a3f38_row11_col2\" class=\"data row11 col2\" >0.1301</td>\n",
       "      <td id=\"T_a3f38_row11_col3\" class=\"data row11 col3\" >0.0647</td>\n",
       "      <td id=\"T_a3f38_row11_col4\" class=\"data row11 col4\" >0.0880</td>\n",
       "      <td id=\"T_a3f38_row11_col5\" class=\"data row11 col5\" >0.1637</td>\n",
       "      <td id=\"T_a3f38_row11_col6\" class=\"data row11 col6\" >0.1713</td>\n",
       "    </tr>\n",
       "  </tbody>\n",
       "</table>\n"
      ],
      "text/plain": [
       "<pandas.io.formats.style.Styler at 0x7fd674522f40>"
      ]
     },
     "metadata": {},
     "output_type": "display_data"
    }
   ],
   "source": [
    "tuned_lr = tune_model(lr_model, optimize=\"AUC\")"
   ]
  },
  {
   "cell_type": "code",
   "execution_count": 19,
   "metadata": {},
   "outputs": [
    {
     "data": {
      "image/png": "[encoded data removed]",
      "text/plain": [
       "<Figure size 800x550 with 1 Axes>"
      ]
     },
     "metadata": {},
     "output_type": "display_data"
    }
   ],
   "source": [
    "plot_model(tuned_lr)"
   ]
  },
  {
   "cell_type": "code",
   "execution_count": 20,
   "metadata": {},
   "outputs": [
    {
     "data": {
      "image/png": "[encoded data removed]",
      "text/plain": [
       "<Figure size 800x550 with 1 Axes>"
      ]
     },
     "metadata": {},
     "output_type": "display_data"
    }
   ],
   "source": [
    "plot_model(tuned_lr, plot=\"confusion_matrix\")"
   ]
  },
  {
   "cell_type": "code",
   "execution_count": 21,
   "metadata": {},
   "outputs": [
    {
     "data": {
      "image/png": "[encoded data removed]",
      "text/plain": [
       "<Figure size 800x500 with 1 Axes>"
      ]
     },
     "metadata": {},
     "output_type": "display_data"
    }
   ],
   "source": [
    "plot_model(tuned_lr, plot=\"feature\")"
   ]
  },
  {
   "cell_type": "code",
   "execution_count": 22,
   "metadata": {},
   "outputs": [
    {
     "data": {
      "image/png": "[encoded data removed]",
      "text/plain": [
       "<Figure size 700x600 with 1 Axes>"
      ]
     },
     "metadata": {},
     "output_type": "display_data"
    }
   ],
   "source": [
    "plot_model(tuned_lr, plot=\"calibration\")"
   ]
  },
  {
   "cell_type": "code",
   "execution_count": 23,
   "metadata": {},
   "outputs": [],
   "source": [
    "final_model = finalize_model(tuned_lr)"
   ]
  },
  {
   "cell_type": "markdown",
   "metadata": {
    "colab_type": "text",
    "id": "adUWwI9g-Ju0"
   },
   "source": [
    "### d) Avaliar métricas do modelo\n",
    "\n",
    "Nesse momento, comparamos as predições do nosso modelo com os casos reais do banco de teste. Isso nos permite avaliar o quão acuradas nossas predições são."
   ]
  },
  {
   "cell_type": "code",
   "execution_count": 24,
   "metadata": {
    "colab": {
     "base_uri": "https://localhost:8080/",
     "height": 228
    },
    "colab_type": "code",
    "id": "R63QtEAj-Ju4",
    "outputId": "55358952-4cd4-46c7-f9a4-f26627f8742a"
   },
   "outputs": [
    {
     "data": {
      "text/html": [
       "<style type=\"text/css\">\n",
       "</style>\n",
       "<table id=\"T_5bb29\">\n",
       "  <thead>\n",
       "    <tr>\n",
       "      <th class=\"blank level0\" >&nbsp;</th>\n",
       "      <th id=\"T_5bb29_level0_col0\" class=\"col_heading level0 col0\" >Model</th>\n",
       "      <th id=\"T_5bb29_level0_col1\" class=\"col_heading level0 col1\" >Accuracy</th>\n",
       "      <th id=\"T_5bb29_level0_col2\" class=\"col_heading level0 col2\" >AUC</th>\n",
       "      <th id=\"T_5bb29_level0_col3\" class=\"col_heading level0 col3\" >Recall</th>\n",
       "      <th id=\"T_5bb29_level0_col4\" class=\"col_heading level0 col4\" >Prec.</th>\n",
       "      <th id=\"T_5bb29_level0_col5\" class=\"col_heading level0 col5\" >F1</th>\n",
       "      <th id=\"T_5bb29_level0_col6\" class=\"col_heading level0 col6\" >Kappa</th>\n",
       "      <th id=\"T_5bb29_level0_col7\" class=\"col_heading level0 col7\" >MCC</th>\n",
       "    </tr>\n",
       "  </thead>\n",
       "  <tbody>\n",
       "    <tr>\n",
       "      <th id=\"T_5bb29_level0_row0\" class=\"row_heading level0 row0\" >0</th>\n",
       "      <td id=\"T_5bb29_row0_col0\" class=\"data row0 col0\" >Logistic Regression</td>\n",
       "      <td id=\"T_5bb29_row0_col1\" class=\"data row0 col1\" >0.6900</td>\n",
       "      <td id=\"T_5bb29_row0_col2\" class=\"data row0 col2\" >0.8151</td>\n",
       "      <td id=\"T_5bb29_row0_col3\" class=\"data row0 col3\" >0.7937</td>\n",
       "      <td id=\"T_5bb29_row0_col4\" class=\"data row0 col4\" >0.7353</td>\n",
       "      <td id=\"T_5bb29_row0_col5\" class=\"data row0 col5\" >0.7634</td>\n",
       "      <td id=\"T_5bb29_row0_col6\" class=\"data row0 col6\" >0.3160</td>\n",
       "      <td id=\"T_5bb29_row0_col7\" class=\"data row0 col7\" >0.3179</td>\n",
       "    </tr>\n",
       "  </tbody>\n",
       "</table>\n"
      ],
      "text/plain": [
       "<pandas.io.formats.style.Styler at 0x7fd67448e730>"
      ]
     },
     "metadata": {},
     "output_type": "display_data"
    },
    {
     "data": {
      "text/html": [
       "<div>\n",
       "<style scoped>\n",
       "    .dataframe tbody tr th:only-of-type {\n",
       "        vertical-align: middle;\n",
       "    }\n",
       "\n",
       "    .dataframe tbody tr th {\n",
       "        vertical-align: top;\n",
       "    }\n",
       "\n",
       "    .dataframe thead th {\n",
       "        text-align: right;\n",
       "    }\n",
       "</style>\n",
       "<table border=\"1\" class=\"dataframe\">\n",
       "  <thead>\n",
       "    <tr style=\"text-align: right;\">\n",
       "      <th></th>\n",
       "      <th>IE_SEXO_F</th>\n",
       "      <th>DS_CLINICA_CIRURGICA</th>\n",
       "      <th>NR_ANOS</th>\n",
       "      <th>FIRST_24H_QT_SATURACAO_O2_MEAN</th>\n",
       "      <th>FIRST_24H_QT_FREQ_CARDIACA_MEAN</th>\n",
       "      <th>FIRST_24H_QT_TEMP_MEAN</th>\n",
       "      <th>FIRST_24H_QT_PA_DIASTOLICA_MEAN</th>\n",
       "      <th>FIRST_24H_QT_PA_SISTOLICA_MEAN</th>\n",
       "      <th>FIRST_24H_QT_FREQ_RESP_MEAN</th>\n",
       "      <th>IS_DEAD</th>\n",
       "      <th>Label</th>\n",
       "      <th>Score</th>\n",
       "    </tr>\n",
       "  </thead>\n",
       "  <tbody>\n",
       "    <tr>\n",
       "      <th>304</th>\n",
       "      <td>0</td>\n",
       "      <td>0</td>\n",
       "      <td>66</td>\n",
       "      <td>94.875000</td>\n",
       "      <td>94.250000</td>\n",
       "      <td>38.033333</td>\n",
       "      <td>85.375000</td>\n",
       "      <td>120.125000</td>\n",
       "      <td>25.500000</td>\n",
       "      <td>1</td>\n",
       "      <td>1</td>\n",
       "      <td>0.8654</td>\n",
       "    </tr>\n",
       "    <tr>\n",
       "      <th>317</th>\n",
       "      <td>1</td>\n",
       "      <td>1</td>\n",
       "      <td>54</td>\n",
       "      <td>92.666667</td>\n",
       "      <td>115.000000</td>\n",
       "      <td>35.466667</td>\n",
       "      <td>57.250000</td>\n",
       "      <td>90.000000</td>\n",
       "      <td>20.000000</td>\n",
       "      <td>1</td>\n",
       "      <td>1</td>\n",
       "      <td>0.9204</td>\n",
       "    </tr>\n",
       "    <tr>\n",
       "      <th>463</th>\n",
       "      <td>0</td>\n",
       "      <td>1</td>\n",
       "      <td>70</td>\n",
       "      <td>97.600000</td>\n",
       "      <td>81.800000</td>\n",
       "      <td>35.900000</td>\n",
       "      <td>84.600000</td>\n",
       "      <td>142.000000</td>\n",
       "      <td>16.000000</td>\n",
       "      <td>0</td>\n",
       "      <td>0</td>\n",
       "      <td>0.7856</td>\n",
       "    </tr>\n",
       "    <tr>\n",
       "      <th>155</th>\n",
       "      <td>1</td>\n",
       "      <td>0</td>\n",
       "      <td>93</td>\n",
       "      <td>89.916667</td>\n",
       "      <td>93.083333</td>\n",
       "      <td>35.727273</td>\n",
       "      <td>43.777778</td>\n",
       "      <td>87.555556</td>\n",
       "      <td>17.363636</td>\n",
       "      <td>1</td>\n",
       "      <td>1</td>\n",
       "      <td>0.9602</td>\n",
       "    </tr>\n",
       "    <tr>\n",
       "      <th>376</th>\n",
       "      <td>0</td>\n",
       "      <td>0</td>\n",
       "      <td>63</td>\n",
       "      <td>94.300000</td>\n",
       "      <td>55.400000</td>\n",
       "      <td>36.450000</td>\n",
       "      <td>64.500000</td>\n",
       "      <td>110.200000</td>\n",
       "      <td>19.600000</td>\n",
       "      <td>0</td>\n",
       "      <td>0</td>\n",
       "      <td>0.6431</td>\n",
       "    </tr>\n",
       "    <tr>\n",
       "      <th>...</th>\n",
       "      <td>...</td>\n",
       "      <td>...</td>\n",
       "      <td>...</td>\n",
       "      <td>...</td>\n",
       "      <td>...</td>\n",
       "      <td>...</td>\n",
       "      <td>...</td>\n",
       "      <td>...</td>\n",
       "      <td>...</td>\n",
       "      <td>...</td>\n",
       "      <td>...</td>\n",
       "      <td>...</td>\n",
       "    </tr>\n",
       "    <tr>\n",
       "      <th>472</th>\n",
       "      <td>1</td>\n",
       "      <td>1</td>\n",
       "      <td>38</td>\n",
       "      <td>98.000000</td>\n",
       "      <td>81.285714</td>\n",
       "      <td>36.600000</td>\n",
       "      <td>81.428571</td>\n",
       "      <td>123.000000</td>\n",
       "      <td>17.571429</td>\n",
       "      <td>0</td>\n",
       "      <td>0</td>\n",
       "      <td>0.7244</td>\n",
       "    </tr>\n",
       "    <tr>\n",
       "      <th>1082</th>\n",
       "      <td>0</td>\n",
       "      <td>1</td>\n",
       "      <td>60</td>\n",
       "      <td>90.700134</td>\n",
       "      <td>63.547890</td>\n",
       "      <td>35.798119</td>\n",
       "      <td>53.818871</td>\n",
       "      <td>92.553810</td>\n",
       "      <td>15.471916</td>\n",
       "      <td>0</td>\n",
       "      <td>0</td>\n",
       "      <td>0.7718</td>\n",
       "    </tr>\n",
       "    <tr>\n",
       "      <th>2485</th>\n",
       "      <td>1</td>\n",
       "      <td>1</td>\n",
       "      <td>52</td>\n",
       "      <td>87.883606</td>\n",
       "      <td>81.193802</td>\n",
       "      <td>35.438183</td>\n",
       "      <td>52.839806</td>\n",
       "      <td>84.254440</td>\n",
       "      <td>15.370520</td>\n",
       "      <td>0</td>\n",
       "      <td>1</td>\n",
       "      <td>0.5322</td>\n",
       "    </tr>\n",
       "    <tr>\n",
       "      <th>2531</th>\n",
       "      <td>1</td>\n",
       "      <td>0</td>\n",
       "      <td>62</td>\n",
       "      <td>89.231056</td>\n",
       "      <td>61.165833</td>\n",
       "      <td>35.730015</td>\n",
       "      <td>50.663536</td>\n",
       "      <td>89.854744</td>\n",
       "      <td>15.204265</td>\n",
       "      <td>0</td>\n",
       "      <td>1</td>\n",
       "      <td>0.5238</td>\n",
       "    </tr>\n",
       "    <tr>\n",
       "      <th>8015</th>\n",
       "      <td>1</td>\n",
       "      <td>0</td>\n",
       "      <td>48</td>\n",
       "      <td>89.831482</td>\n",
       "      <td>64.883614</td>\n",
       "      <td>35.455898</td>\n",
       "      <td>52.546627</td>\n",
       "      <td>86.758278</td>\n",
       "      <td>15.019726</td>\n",
       "      <td>0</td>\n",
       "      <td>0</td>\n",
       "      <td>0.5671</td>\n",
       "    </tr>\n",
       "  </tbody>\n",
       "</table>\n",
       "<p>100 rows × 12 columns</p>\n",
       "</div>"
      ],
      "text/plain": [
       "      IE_SEXO_F  DS_CLINICA_CIRURGICA  NR_ANOS  \\\n",
       "304           0                     0       66   \n",
       "317           1                     1       54   \n",
       "463           0                     1       70   \n",
       "155           1                     0       93   \n",
       "376           0                     0       63   \n",
       "...         ...                   ...      ...   \n",
       "472           1                     1       38   \n",
       "1082          0                     1       60   \n",
       "2485          1                     1       52   \n",
       "2531          1                     0       62   \n",
       "8015          1                     0       48   \n",
       "\n",
       "      FIRST_24H_QT_SATURACAO_O2_MEAN  FIRST_24H_QT_FREQ_CARDIACA_MEAN  \\\n",
       "304                        94.875000                        94.250000   \n",
       "317                        92.666667                       115.000000   \n",
       "463                        97.600000                        81.800000   \n",
       "155                        89.916667                        93.083333   \n",
       "376                        94.300000                        55.400000   \n",
       "...                              ...                              ...   \n",
       "472                        98.000000                        81.285714   \n",
       "1082                       90.700134                        63.547890   \n",
       "2485                       87.883606                        81.193802   \n",
       "2531                       89.231056                        61.165833   \n",
       "8015                       89.831482                        64.883614   \n",
       "\n",
       "      FIRST_24H_QT_TEMP_MEAN  FIRST_24H_QT_PA_DIASTOLICA_MEAN  \\\n",
       "304                38.033333                        85.375000   \n",
       "317                35.466667                        57.250000   \n",
       "463                35.900000                        84.600000   \n",
       "155                35.727273                        43.777778   \n",
       "376                36.450000                        64.500000   \n",
       "...                      ...                              ...   \n",
       "472                36.600000                        81.428571   \n",
       "1082               35.798119                        53.818871   \n",
       "2485               35.438183                        52.839806   \n",
       "2531               35.730015                        50.663536   \n",
       "8015               35.455898                        52.546627   \n",
       "\n",
       "      FIRST_24H_QT_PA_SISTOLICA_MEAN  FIRST_24H_QT_FREQ_RESP_MEAN  IS_DEAD  \\\n",
       "304                       120.125000                    25.500000        1   \n",
       "317                        90.000000                    20.000000        1   \n",
       "463                       142.000000                    16.000000        0   \n",
       "155                        87.555556                    17.363636        1   \n",
       "376                       110.200000                    19.600000        0   \n",
       "...                              ...                          ...      ...   \n",
       "472                       123.000000                    17.571429        0   \n",
       "1082                       92.553810                    15.471916        0   \n",
       "2485                       84.254440                    15.370520        0   \n",
       "2531                       89.854744                    15.204265        0   \n",
       "8015                       86.758278                    15.019726        0   \n",
       "\n",
       "      Label   Score  \n",
       "304       1  0.8654  \n",
       "317       1  0.9204  \n",
       "463       0  0.7856  \n",
       "155       1  0.9602  \n",
       "376       0  0.6431  \n",
       "...     ...     ...  \n",
       "472       0  0.7244  \n",
       "1082      0  0.7718  \n",
       "2485      1  0.5322  \n",
       "2531      1  0.5238  \n",
       "8015      0  0.5671  \n",
       "\n",
       "[100 rows x 12 columns]"
      ]
     },
     "execution_count": 24,
     "metadata": {},
     "output_type": "execute_result"
    }
   ],
   "source": [
    "# Por fim, vamos gerar a árvore\n",
    "predict_model(final_model, df_test)"
   ]
  },
  {
   "cell_type": "markdown",
   "metadata": {
    "colab_type": "text",
    "id": "FBiAjn8FYZLE"
   },
   "source": [
    "# **Yey! Parabéns por ter completado este notebook!**\n",
    "\n",
    "\n",
    "Este notebook faz parte do curso de *Introdução ao Python para Gestão da Saúde*, ministrado por [Caio Salgado](https://www.linkedin.com/in/caio-salgado-b5758312/) e oferecido pela [Zetta Exponential](https://www.linkedin.com/company/zetta-health-analytics/) e Universidade Federal de Viçosa. Foi escrito por:\n",
    "\n",
    "* [Ana Flávia Souza](https://www.linkedin.com/in/ana-fl%C3%A1via-souza-2b06151a5/): graduanda em Economia pela Universidade Federal de Viçosa e estagiária na Zetta Exponential.\n",
    "\n",
    "* [Gabriel Kakizaki](https://www.linkedin.com/in/gabriel-kakizaki-25b6311a5/): graduando em Administração pela Universidade Federal de Viçosa, membro do PET-ADM e estagiário na Zetta Exponential.\n",
    "\n",
    "Com supervisão de:\n",
    "\n",
    "* [Dr. Henrique Gomide](https://www.linkedin.com/in/hpgomide/?originalSubdomain=br): líder do comitê científico da empresa Zetta Health e professor da Universidade Federal de Viçosa. \n",
    "\n",
    "--- \n",
    "Copyright 2020, Zetta Exponential\n",
    "\n",
    "\n"
   ]
  }
 ],
 "metadata": {
  "colab": {
   "collapsed_sections": [],
   "include_colab_link": true,
   "name": "PySaude_03_python_arvore_regressao_projeto_final.ipynb",
   "provenance": []
  },
  "kernelspec": {
   "display_name": "Python 3 (ipykernel)",
   "language": "python",
   "name": "python3"
  },
  "language_info": {
   "codemirror_mode": {
    "name": "ipython",
    "version": 3
   },
   "file_extension": ".py",
   "mimetype": "text/x-python",
   "name": "python",
   "nbconvert_exporter": "python",
   "pygments_lexer": "ipython3",
   "version": "3.8.13"
  }
 },
 "nbformat": 4,
 "nbformat_minor": 4
}
