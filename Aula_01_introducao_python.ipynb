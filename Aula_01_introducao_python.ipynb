{
 "cells": [
  {
   "cell_type": "markdown",
   "metadata": {
    "colab_type": "text",
    "id": "view-in-github"
   },
   "source": [
    "<a href=\"https://colab.research.google.com/github/henriquepgomide/exp-curso-python-saude/blob/master/Aula_01_introducao_python.ipynb\" target=\"_parent\"><img src=\"https://colab.research.google.com/assets/colab-badge.svg\" alt=\"Open In Colab\"/></a>"
   ]
  },
  {
   "cell_type": "markdown",
   "metadata": {
    "colab_type": "text",
    "id": "ZKNJg5HiMhGG"
   },
   "source": [
    "<img src=\"https://raw.githubusercontent.com/henriquepgomide/exp-curso-python-saude/master/assets/pucrs-logo.svg\" width=\"300\" align=\"center\">"
   ]
  },
  {
   "cell_type": "markdown",
   "metadata": {
    "colab_type": "text",
    "id": "NHVxZQmDMs_N"
   },
   "source": [
    "# **DATA SCIENCE: INOVAÇÃO NO USO DOS DADOS NA SAÚDE**\n",
    "# Introdução às ferramentas usadas em ciência de dados\n",
    "**Henrique Gomide, Ph.D.**"
   ]
  },
  {
   "cell_type": "markdown",
   "metadata": {
    "colab_type": "text",
    "id": "j9BsDfq4NEvs"
   },
   "source": [
    "# Ao final desta aula você:\n",
    "\n",
    "1. Conhecerá e usará listas e dicionários; \n",
    "2. Usará loops (iterações) para resolver problemas comuns enfrentados pelos cientistas de dados;\n",
    "3. Reconhecerá as principais características das funções e escreverá sua própria função 🤓"
   ]
  },
  {
   "cell_type": "markdown",
   "metadata": {
    "colab_type": "text",
    "id": "AmRzvQwDEjXM"
   },
   "source": [
    "## Alerta: Desafio à frente.\n",
    "\n",
    "Ao final da aula, você será desafiado(a). O desafio reúne os aspectos principais\n",
    "da aula. O professor chamará atenção. Lembre-se de anotar enquanto assiste à aula."
   ]
  },
  {
   "cell_type": "markdown",
   "metadata": {
    "colab_type": "text",
    "id": "kChy2CvyXHl3"
   },
   "source": [
    "## Listas\n",
    "\n",
    "Uma **lista** é uma **coleção de itens em uma ordem específica**."
   ]
  },
  {
   "cell_type": "code",
   "execution_count": null,
   "metadata": {
    "colab": {},
    "colab_type": "code",
    "id": "W01ow7eY5-9u"
   },
   "outputs": [],
   "source": [
    "# Os elementos de uma lista são definidos entre []\n",
    "nova_lista = []"
   ]
  },
  {
   "cell_type": "code",
   "execution_count": null,
   "metadata": {
    "colab": {},
    "colab_type": "code",
    "id": "nBdJIj6g6AVb"
   },
   "outputs": [],
   "source": [
    "# Listas são como células de excel (colunas ou linhas)\n",
    "idades_a = [1, 2, 4 , 6]"
   ]
  },
  {
   "cell_type": "code",
   "execution_count": null,
   "metadata": {
    "colab": {},
    "colab_type": "code",
    "id": "eVA-vFyG6ATV"
   },
   "outputs": [],
   "source": [
    "idades_b = [4, 6.5, 7.7, 9]"
   ]
  },
  {
   "cell_type": "code",
   "execution_count": null,
   "metadata": {
    "colab": {},
    "colab_type": "code",
    "id": "aQH6StSk1gFu"
   },
   "outputs": [],
   "source": [
    "# Combinar listas\n",
    "idades = idades_a + idades_b"
   ]
  },
  {
   "cell_type": "code",
   "execution_count": null,
   "metadata": {
    "colab": {},
    "colab_type": "code",
    "id": "xx2w7hUU6AQ1"
   },
   "outputs": [],
   "source": [
    "# Podemos usar a função 'sum' para somar valores\n",
    "sum(idades)"
   ]
  },
  {
   "cell_type": "code",
   "execution_count": null,
   "metadata": {
    "colab": {},
    "colab_type": "code",
    "id": "NJRIMk826ANT"
   },
   "outputs": [],
   "source": [
    "# E com a função 'len', temos o número de elementos da lista\n",
    "len(idades)"
   ]
  },
  {
   "cell_type": "markdown",
   "metadata": {
    "colab_type": "text",
    "id": "zQCXczal6Qa6"
   },
   "source": [
    "### **Desafio 01**\n",
    "\n",
    "Use as funções 'sum' e 'len' para calcular a média aritmética da lista 'idades'.\n",
    "\n",
    "A média aritmética é a soma dos valores de uma lista dividida pela quantidade de elementos da lista."
   ]
  },
  {
   "cell_type": "code",
   "execution_count": null,
   "metadata": {
    "colab": {},
    "colab_type": "code",
    "id": "F_faVUtU6AKx"
   },
   "outputs": [],
   "source": [
    "# Seu codigo aqui:\n",
    "media = "
   ]
  },
  {
   "cell_type": "markdown",
   "metadata": {
    "colab_type": "text",
    "id": "aPYOI97uhfbX"
   },
   "source": [
    "#### Outras funções uteis para manipular listas"
   ]
  },
  {
   "cell_type": "code",
   "execution_count": null,
   "metadata": {
    "colab": {},
    "colab_type": "code",
    "id": "-gY7RXXf6mmP"
   },
   "outputs": [],
   "source": [
    "# É possível concatenar (juntar) uma lista a outra.\n",
    "idades_c = idades_a + idades_b"
   ]
  },
  {
   "cell_type": "code",
   "execution_count": null,
   "metadata": {
    "colab": {},
    "colab_type": "code",
    "id": "zDuUCCvfXHl6"
   },
   "outputs": [],
   "source": [
    "# Podemos criar listas de strings também.\n",
    "estados_brasileiros = ['BA', 'PR', 'SP']"
   ]
  },
  {
   "cell_type": "code",
   "execution_count": null,
   "metadata": {
    "colab": {},
    "colab_type": "code",
    "id": "XNiqFFpJXHmE"
   },
   "outputs": [],
   "source": [
    "# É possível remover objetos da lista usando a função 'remove'\n",
    "estados_brasileiros.remove('SP')"
   ]
  },
  {
   "cell_type": "code",
   "execution_count": null,
   "metadata": {
    "colab": {},
    "colab_type": "code",
    "id": "diaHq70vXHmJ"
   },
   "outputs": [],
   "source": [
    "# Imprimir lista de estados\n",
    "estados_brasileiros"
   ]
  },
  {
   "cell_type": "code",
   "execution_count": null,
   "metadata": {
    "colab": {},
    "colab_type": "code",
    "id": "twrvtOMQXHmS"
   },
   "outputs": [],
   "source": [
    "# Verificar se um elemento está dentro de uma lista\n",
    "'AC' in estados_brasileiros"
   ]
  },
  {
   "cell_type": "code",
   "execution_count": null,
   "metadata": {
    "colab": {},
    "colab_type": "code",
    "id": "BEIXkR49XHmY"
   },
   "outputs": [],
   "source": [
    "# Criar listas\n",
    "vogais = ['a', 'u', 'o', 'i', 'e']"
   ]
  },
  {
   "cell_type": "code",
   "execution_count": null,
   "metadata": {
    "colab": {},
    "colab_type": "code",
    "id": "Xcj91HhAXHmd"
   },
   "outputs": [],
   "source": [
    "# Ordenar listas\n",
    "# Observação: a lista é ordenada sem necessidade de atribuir objeto\n",
    "vogais.sort(reverse=True)"
   ]
  },
  {
   "cell_type": "code",
   "execution_count": null,
   "metadata": {
    "colab": {},
    "colab_type": "code",
    "id": "ZFUli_h8XHmi"
   },
   "outputs": [],
   "source": [
    "# Imprimir lista\n",
    "vogais"
   ]
  },
  {
   "cell_type": "markdown",
   "metadata": {
    "colab_type": "text",
    "id": "HD1BNV4RR0pv"
   },
   "source": [
    "### **Índices e slicing**"
   ]
  },
  {
   "cell_type": "code",
   "execution_count": 1,
   "metadata": {
    "colab": {},
    "colab_type": "code",
    "id": "0-xLMd1p7kPU"
   },
   "outputs": [],
   "source": [
    "# Criar lista com grandes nomes da computação\n",
    "grandes_nomes_da_computacao = ['Ada Lovelace', 'Alexandra Elbakyan', \n",
    "                               'Linus Torvals', 'Steve Jobs', 'Bill Gates']"
   ]
  },
  {
   "cell_type": "markdown",
   "metadata": {
    "colab_type": "text",
    "id": "7hVPjx9OA8CH"
   },
   "source": [
    "![Imgur](https://i.imgur.com/UuPPUNL.png)"
   ]
  },
  {
   "cell_type": "code",
   "execution_count": 5,
   "metadata": {
    "colab": {
     "base_uri": "https://localhost:8080/",
     "height": 69
    },
    "colab_type": "code",
    "id": "h1ysS-Y371eW",
    "outputId": "d526ad79-e341-4c5f-8a67-d80500f64b56"
   },
   "outputs": [
    {
     "name": "stdout",
     "output_type": "stream",
     "text": [
      "Primeiro item da lista:  Ada Lovelace\n",
      "Terceiro item da lista:  Steve Jobs\n",
      "Último item da lista:  Bill Gates\n"
     ]
    }
   ],
   "source": [
    "# Selecionar o primeiro item da lista\n",
    "print('Primeiro item da lista: ', grandes_nomes_da_computacao[0])\n",
    "\n",
    "# Selecionar o terceiro item da lista\n",
    "print('Terceiro item da lista: ', grandes_nomes_da_computacao[3])\n",
    "\n",
    "# Selecionar o último item da lista\n",
    "print('Último item da lista: ', grandes_nomes_da_computacao[-1])"
   ]
  },
  {
   "cell_type": "markdown",
   "metadata": {
    "colab_type": "text",
    "id": "FySgJ4m_9NHk"
   },
   "source": []
  },
  {
   "cell_type": "markdown",
   "metadata": {
    "colab_type": "text",
    "id": "IF7MTQJtf0-9"
   },
   "source": [
    "### **Exercício 01**\n",
    "\n",
    "Hora de entrar para história. Insira seu nome na lista de grandes nomes da computação."
   ]
  },
  {
   "cell_type": "code",
   "execution_count": null,
   "metadata": {
    "colab": {},
    "colab_type": "code",
    "id": "IhxS70bx7abs"
   },
   "outputs": [],
   "source": [
    "# Pode acrescentar valores com o método 'append'\n",
    "grandes_nomes_da_computacao = ['Ada Lovelace', 'Alexandra Elbakyan', \n",
    "                               'Linus Torvals', 'Steve Jobs', 'Bill Gates']\n",
    "\n",
    "# Edite a linha abaixo\n",
    "meu_nome = 'meu nome' # <- Editar\n",
    "\n",
    "# Não editar as linhas abaixo\n",
    "grandes_nomes_da_computacao.append(meu_nome)\n",
    "print(grandes_nomes_da_computacao)"
   ]
  },
  {
   "cell_type": "code",
   "execution_count": null,
   "metadata": {
    "colab": {},
    "colab_type": "code",
    "id": "YGYj7M3WSYeo"
   },
   "outputs": [],
   "source": [
    "# Utilizamos os índices para selecionar elementos da lista\n",
    "grandes_nomes_da_computacao[-1]"
   ]
  },
  {
   "cell_type": "markdown",
   "metadata": {
    "colab_type": "text",
    "id": "0NYv6xYW69_B"
   },
   "source": [
    "### **Slicing**\n",
    "\n",
    "Você pode selecionar os elementos usando cortes na lista.\n"
   ]
  },
  {
   "cell_type": "markdown",
   "metadata": {
    "colab_type": "text",
    "id": "_y5dCB3B9umR"
   },
   "source": [
    "![Imgur](https://i.imgur.com/s2qJzwc.png)"
   ]
  },
  {
   "cell_type": "code",
   "execution_count": 14,
   "metadata": {
    "colab": {
     "base_uri": "https://localhost:8080/",
     "height": 54
    },
    "colab_type": "code",
    "id": "xxJhTOZr70jK",
    "outputId": "980197f8-e4f6-4207-ad97-193cfe7bc927"
   },
   "outputs": [
    {
     "name": "stdout",
     "output_type": "stream",
     "text": [
      "Selecionar os três primeiros elementos da lista: ['Ada Lovelace', 'Alexandra Elbakyan', 'Linus Torvals']\n"
     ]
    }
   ],
   "source": [
    "# Selecionar os três primeiros elementos da lista\n",
    "print('Selecionar os três primeiros elementos da lista:', \n",
    "      grandes_nomes_da_computacao[0:3]) # Primeiro número onde a lista começa e\n",
    "                                        # segundo onde termina (não inclusivo)"
   ]
  },
  {
   "cell_type": "markdown",
   "metadata": {
    "colab_type": "text",
    "id": "7csuuVobMafy"
   },
   "source": [
    "## Dicionários\n",
    "\n",
    "**Dicionários** permitem que você estabeleça **conexões entre peças individuais de informação**, como por exemplo palavras (chaves, *keys*) e seus significados (valores, *values*)."
   ]
  },
  {
   "cell_type": "code",
   "execution_count": null,
   "metadata": {
    "colab": {},
    "colab_type": "code",
    "id": "pfC_Pdy47-s_"
   },
   "outputs": [],
   "source": [
    "# Dicionários são definidos entre {}.\n",
    "dicionario = {}"
   ]
  },
  {
   "cell_type": "code",
   "execution_count": null,
   "metadata": {
    "colab": {},
    "colab_type": "code",
    "id": "btbLHsLNXHnH",
    "outputId": "f6cc49aa-bf7f-4ec6-ec58-a52289292383"
   },
   "outputs": [
    {
     "data": {
      "text/plain": [
       "{'SP': 'Sao Paulo', 'RJ': 'Rio de Janeiro', 'MG': 'Belo Horizonte'}"
      ]
     },
     "execution_count": 33,
     "metadata": {
      "tags": []
     },
     "output_type": "execute_result"
    }
   ],
   "source": [
    "# Exemplo\n",
    "capitais = { 'SP': 'Sao Paulo',\n",
    "             'RJ': 'Rio de Janeiro',\n",
    "             'RN': 'Natal'}\n",
    "capitais"
   ]
  },
  {
   "cell_type": "code",
   "execution_count": null,
   "metadata": {
    "colab": {},
    "colab_type": "code",
    "id": "m9qsAUet8DLJ"
   },
   "outputs": [],
   "source": [
    "# Podemos adicionar valores ao dicionário:\n",
    "capitais['BA'] = 'Salvador'"
   ]
  },
  {
   "cell_type": "code",
   "execution_count": null,
   "metadata": {
    "colab": {},
    "colab_type": "code",
    "id": "Q_DTIqv-XHnP"
   },
   "outputs": [],
   "source": [
    "# E para deletar valores no dicionário:\n",
    "del capitais['RJ']"
   ]
  },
  {
   "cell_type": "code",
   "execution_count": null,
   "metadata": {
    "colab": {},
    "colab_type": "code",
    "id": "1mrIgrcdXHnW"
   },
   "outputs": [],
   "source": [
    "capitais"
   ]
  },
  {
   "cell_type": "code",
   "execution_count": null,
   "metadata": {
    "colab": {},
    "colab_type": "code",
    "id": "6v_JhCkTXHna"
   },
   "outputs": [],
   "source": [
    "# Podemos checar se um item está no nosso dicionário.\n",
    "'SP' in capitais"
   ]
  },
  {
   "cell_type": "markdown",
   "metadata": {
    "colab_type": "text",
    "id": "0ffzIhCjXHnf"
   },
   "source": [
    "## For Loop \n",
    "\n",
    "Loops são perfeitos para você economizar tempo em atividades que envolvem repetição."
   ]
  },
  {
   "cell_type": "code",
   "execution_count": null,
   "metadata": {
    "colab": {},
    "colab_type": "code",
    "id": "u6qT3zD3XHng"
   },
   "outputs": [],
   "source": [
    "# Exemplo de 'for loop'.\n",
    "lista_01 = ['amarelo', 'verde', 'azul']\n",
    "\n",
    "for i in lista_01: # Não esquecer do uso dos ':'.\n",
    "  print(i)"
   ]
  },
  {
   "cell_type": "code",
   "execution_count": null,
   "metadata": {
    "colab": {},
    "colab_type": "code",
    "id": "TSbFwub4XHnl"
   },
   "outputs": [],
   "source": [
    "# A função 'range' permite determinar um intervalo para percorrermos o loop.\n",
    "# Quando temos apenas um parâmetro na função, o intervalo começa em 0.\n",
    "for i in range(10):\n",
    "  print(i)"
   ]
  },
  {
   "cell_type": "code",
   "execution_count": null,
   "metadata": {
    "colab": {},
    "colab_type": "code",
    "id": "GlA1i5eSXHnq"
   },
   "outputs": [],
   "source": [
    "# Você pode fazer iterações em múltiplas listas de uma vez usando 'zip':\n",
    "lista_a = [1,2,3,4,5]\n",
    "lista_b = [5,4,3,2,1]\n",
    "for a, b in zip(lista_a, lista_b): \n",
    "  print(a, b)"
   ]
  },
  {
   "cell_type": "markdown",
   "metadata": {
    "colab_type": "text",
    "id": "Vfo7NSNpiKZ4"
   },
   "source": [
    "### Compreensão de listas"
   ]
  },
  {
   "cell_type": "code",
   "execution_count": null,
   "metadata": {
    "colab": {},
    "colab_type": "code",
    "id": "uTj70U6AXHnx"
   },
   "outputs": [],
   "source": [
    "# Exemplo:\n",
    "lista_02 = [x for x in range(7)]\n",
    "lista_02"
   ]
  },
  {
   "cell_type": "code",
   "execution_count": null,
   "metadata": {
    "colab": {},
    "colab_type": "code",
    "id": "g_hsKaTJXHn8"
   },
   "outputs": [],
   "source": [
    "# Exemplo:\n",
    "lista_03 = [x + 2 for x in range(7)]\n",
    "lista_03"
   ]
  },
  {
   "cell_type": "code",
   "execution_count": null,
   "metadata": {
    "colab": {},
    "colab_type": "code",
    "id": "FVwsJ0E6XHoH"
   },
   "outputs": [],
   "source": [
    "# Aqui, a compreensão de listas foi aplicada a uma lista de strings.\n",
    "lista_04 = [x.lower() for x in ['MESA', 'CANETA', 'CADEIRA']]\n",
    "lista_04"
   ]
  },
  {
   "cell_type": "markdown",
   "metadata": {
    "colab_type": "text",
    "id": "yvSQE-cK-SoW"
   },
   "source": [
    "## Estruturas de Controle"
   ]
  },
  {
   "cell_type": "code",
   "execution_count": null,
   "metadata": {
    "colab": {},
    "colab_type": "code",
    "id": "QG7_jtp1XHoO"
   },
   "outputs": [],
   "source": [
    "minha_altura = float(input('Digite sua altura em metros (m): '))"
   ]
  },
  {
   "cell_type": "code",
   "execution_count": null,
   "metadata": {
    "colab": {},
    "colab_type": "code",
    "id": "N_l3jp3mXHoT"
   },
   "outputs": [],
   "source": [
    "if minha_altura < 1.40:\n",
    "    print('Carreira Sugerida: Arquiteto(a) de Lego')\n",
    "elif minha_altura > 1.90:\n",
    "    print('Carreira Sugerida: Jogador(a) de basquete')\n",
    "else:\n",
    "    print('Nosso orientador vocacional precisa conhecer seus outros talentos...')"
   ]
  },
  {
   "cell_type": "code",
   "execution_count": null,
   "metadata": {
    "colab": {},
    "colab_type": "code",
    "id": "q2yVnHhnXHob"
   },
   "outputs": [],
   "source": [
    "# Podemos combinar as estruturas de controle com um loop.\n",
    "for i in range(10):\n",
    "    if i > 5:\n",
    "        print(i)"
   ]
  },
  {
   "cell_type": "markdown",
   "metadata": {
    "colab_type": "text",
    "id": "1Er60wj6XHoi"
   },
   "source": [
    "### **Exercício 02**\n",
    "Selecione apenas os valores maiores que 35 na lista abaixo e os adicione à 'lista_final'. \n",
    "\n",
    "(**Dica**: utilize controle de fluxo)"
   ]
  },
  {
   "cell_type": "code",
   "execution_count": null,
   "metadata": {
    "colab": {},
    "colab_type": "code",
    "id": "zxPQgfyh_Vem"
   },
   "outputs": [],
   "source": [
    "lista_05 = [10, 15, 38, 23, 52, 61, 17, 45, 30, 73]\n",
    "\n",
    "lista_final = []\n",
    "# Seu código aqui:"
   ]
  },
  {
   "cell_type": "code",
   "execution_count": null,
   "metadata": {
    "colab": {},
    "colab_type": "code",
    "id": "Evjg8FhI_of7"
   },
   "outputs": [],
   "source": [
    "# Confira aqui os itens da nova lista.\n",
    "lista_final"
   ]
  },
  {
   "cell_type": "markdown",
   "metadata": {
    "colab_type": "text",
    "id": "s8dsZT6Q_1d7"
   },
   "source": [
    "### Definindo uma Função\n",
    "\n",
    "Funções devem cumprir um objetivo determinado e são úteis para você evitar repetição. Você passará a maior parte de seu tempo usando as funções de outras pessoas e alguma parte escrevendo suas próprias.\n",
    "\n",
    "#### **Estrutura geral**\n",
    " Veja a estrutura de uma função abaixo:\n",
    "\n",
    "![Representação de uma função](https://i.imgur.com/KUpF1Q9.png)\n",
    "\n",
    "Dicas simples para escrever suas próprias funções:\n",
    "\n",
    "\n",
    "*   Comente-as;\n",
    "*   Define-as usando um verbo preciso com o principal objetivo;\n",
    "*   Use recuo.\n",
    "\n"
   ]
  },
  {
   "cell_type": "code",
   "execution_count": 21,
   "metadata": {
    "colab": {},
    "colab_type": "code",
    "id": "EAZ8e9xCXHok"
   },
   "outputs": [],
   "source": [
    "def calcular_imc(massa_corporal, altura):\n",
    "  '''\n",
    "  Calcula o Índice de Massa Corporal\n",
    "\n",
    "  Parâmetros:\n",
    "      massa_corporal [inteiro ou float]: massa corporal em Kilogramas \n",
    "      altura [float]: altura em metro. Ex. 1.70 \n",
    "  '''\n",
    "  imc = massa_corporal / altura ** 2\n",
    "  return imc"
   ]
  },
  {
   "cell_type": "code",
   "execution_count": 23,
   "metadata": {
    "colab": {
     "base_uri": "https://localhost:8080/",
     "height": 34
    },
    "colab_type": "code",
    "id": "DyYRDT-JspsN",
    "outputId": "2646a902-c0dd-4596-c747-28f79ad2da40"
   },
   "outputs": [
    {
     "data": {
      "text/plain": [
       "22.837370242214536"
      ]
     },
     "execution_count": 23,
     "metadata": {
      "tags": []
     },
     "output_type": "execute_result"
    }
   ],
   "source": [
    "# Calcule seu IMC\n",
    "# Insira sua massa corporal em kg e altura em metros (m)\n",
    "calcular_imc(massa_corporal=66, \n",
    "             altura=1.70)"
   ]
  },
  {
   "cell_type": "markdown",
   "metadata": {
    "colab_type": "text",
    "id": "4aUdGtvdxcIY"
   },
   "source": [
    "### **Exercício 03**\n",
    "\n",
    "Showtime! É hora de usar melhor a função 'calcular_imc'. A função precisa retornar o texto (Nível de Peso) de acordo com os critérios da tabela abaixo.\n",
    "\n",
    "\n",
    "Tabela de referência para o cálculo do IMC.\n",
    "\n",
    "\n",
    "| IMC            | Nível de peso     |\n",
    "| :------------- | :----------:      |\n",
    "|  < 18.5        | Abaixo do peso    |\n",
    "|  18.5 - 24.9   | Normal            |\n",
    "|  25.0 - 29.9   | Sobrepeso         |\n",
    "|  >= 30         | Obeso             |\n",
    "\n",
    "\n",
    "**Observação:** Esta tabela não tem finalidade de diagnóstico clínico.\n",
    "\n",
    "Fonte: [CDC](https://www.cdc.gov/healthyweight/spanish/assessing/bmi/adult_bmi/index.html).\n",
    "\n"
   ]
  },
  {
   "cell_type": "code",
   "execution_count": null,
   "metadata": {
    "colab": {},
    "colab_type": "code",
    "id": "vcjVuPuzXHoq"
   },
   "outputs": [],
   "source": [
    "def calcular_indicador_imc(massa_corporal, altura):\n",
    "  '''\n",
    "  Calcula o imc, retornando os critérios de referência do CDC:\n",
    "  Parâmetros:\n",
    "    massa_corporal [inteiro ou float]: massa corporal em Kilogramas \n",
    "    altura [float]: altura em metro. Ex. 1.70 \n",
    "  '''\n",
    "  # Seu código abaixo....\n",
    "  # Dica: você pode olhar o exercício 2.\n",
    "  \n"
   ]
  },
  {
   "cell_type": "markdown",
   "metadata": {
    "colab_type": "text",
    "id": "ndCdQbE2xK0F"
   },
   "source": [
    "### **Desafio 02**\n",
    "\n",
    "\n",
    "Com fim de promover a cultura de saúde, gestores de um de seus clientes estão pensando em criar programas de alimentação saudável e exercícios físicos. \n",
    "\n",
    "\n",
    "Com base nos conhecimentos da aula de hoje, estime a proporção de colaboradores com sobrepeso ou obesos.\n",
    "\n",
    "\n"
   ]
  },
  {
   "cell_type": "code",
   "execution_count": null,
   "metadata": {
    "colab": {},
    "colab_type": "code",
    "id": "VxuWL6hGxMrt"
   },
   "outputs": [],
   "source": [
    "# APENAS EXECUTE ESTA CÉLULA\n",
    "'''\n",
    "Este código cria duas listas 'colaboradores_massa' e 'colaboradores_altura' com\n",
    "massas e alturas de 20 mil colaboradores, respectivamente. Os valores de \n",
    "referência foram adaptados dos dados da população brasileira.\n",
    "\n",
    "Edite para brincar se estiver se sentindo um(a) hacker de novela\n",
    "'''\n",
    "import numpy as np # Importar biblioteca numpy\n",
    "np.random.seed(42) # Definir a sequeência para gerar números aleatórios\n",
    "\n",
    "# Criar alturas e pesos dos colaboradores\n",
    "homens_massa = np.random.normal(73, 10.0, 10000)     # Homens: criar lista de massas com base na distribuição normal\n",
    "homens_altura = np.random.normal(1.73, 0.15, 10000)  # Homens: criar lista de altura com base na distribuição normal\n",
    "\n",
    "mulheres_massa = np.random.normal(63, 10.0, 10000)   # Mulheres: criar lista de massas com base na distribuição normal\n",
    "mulheres_altura = np.random.normal(1.60, 0.15, 10000)# Mulheres: criar lista de altura com base na distribuição normal \n",
    "\n",
    "colaboradores_massa = np.concatenate((homens_massa, mulheres_massa))    # Combinar listas de massas de homens e mulheres\n",
    "colaboradores_altura = np.concatenate((homens_altura, mulheres_altura)) # Combinar listas de altura de homens e mulheres"
   ]
  },
  {
   "cell_type": "code",
   "execution_count": null,
   "metadata": {
    "colab": {},
    "colab_type": "code",
    "id": "UznqgtPZ57Te"
   },
   "outputs": [],
   "source": [
    "# SUA RESPOSTA DO DESAFIO 02\n",
    "# Sua resposta aqui:\n",
    "# Dica 1: Você pode usar as funções já criadas.\n",
    "# Dica 2: Você pode querer usar um loop.  \n",
    "# Dica 3: É uma boa ideia juntar listas usando a função zip.\n",
    "# Nível Very Hard: Use uma compreensão de lista e resolva tudo numa linha (Google)."
   ]
  },
  {
   "cell_type": "code",
   "execution_count": null,
   "metadata": {
    "colab": {},
    "colab_type": "code",
    "id": "AD3fRPHWnHaP"
   },
   "outputs": [],
   "source": [
    "# ESCREVA SUA RESPOSTA AQUI\n"
   ]
  },
  {
   "cell_type": "markdown",
   "metadata": {
    "colab_type": "text",
    "id": "VvuTfQaJ0O5k"
   },
   "source": [
    "# Respostas do desafio no Slack\n",
    "\n",
    "## Exercícios da semana\n",
    "\n",
    "- [Loops e estruturas de controle](https://colab.research.google.com/github/zetta-health/exp-curso-python-saude/blob/master/PySaude_02_python_01_loops.ipynb)\n",
    "- [Funções](https://colab.research.google.com/github/zetta-health/exp-curso-python-saude/blob/master/PySaude_02_python_04_funcoes.ipynb)\n",
    "\n",
    "\n",
    "# Muito obrigado!"
   ]
  }
 ],
 "metadata": {
  "colab": {
   "collapsed_sections": [],
   "include_colab_link": true,
   "name": "Aula_03_webinario.ipynb",
   "provenance": [],
   "toc_visible": true
  },
  "kernelspec": {
   "display_name": "Python 3 (ipykernel)",
   "language": "python",
   "name": "python3"
  },
  "language_info": {
   "codemirror_mode": {
    "name": "ipython",
    "version": 3
   },
   "file_extension": ".py",
   "mimetype": "text/x-python",
   "name": "python",
   "nbconvert_exporter": "python",
   "pygments_lexer": "ipython3",
   "version": "3.8.13"
  }
 },
 "nbformat": 4,
 "nbformat_minor": 4
}
